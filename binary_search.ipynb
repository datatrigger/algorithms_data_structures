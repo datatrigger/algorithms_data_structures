{
 "cells": [
  {
   "attachments": {},
   "cell_type": "markdown",
   "metadata": {},
   "source": [
    "# Binary Search\n",
    "\n",
    "There are many ways to implement binary search, so the best way to avoid out-of-bound indices or infinite loops is to stick to the same template.\n",
    "\n",
    "```\n",
    "def binary_search(indexable_object: x, any: target):\n",
    "    l, r = min_inclusive_bound, max_inclusive_bound\n",
    "    while l < r:\n",
    "        m = (l + r) // 2\n",
    "        if condition(x[m], target):\n",
    "            l = m + 1\n",
    "        else:\n",
    "            r = m\n",
    "    return x[l]\n",
    "```\n",
    "\n",
    "The outer indexes become equal in the last step of the while loop, since their difference decreases by at least 1 unit at each step:\n",
    "* `if` clause: the left index is shifted by 1 unit or more, since `left <= mid`\n",
    "* `else` clause: `mid < right` since int division `//` rounds down in Python (and `l < r`)\n",
    "\n",
    "# Bisect\n",
    "\n",
    "The direct application of the above template is `bisect()`.\n",
    "\n",
    "Bisect left (resp. right): returns the leftmost (resp. rightmost) index of matching value(s), or the index where the target value should be *inserted*.  \n",
    "  \n",
    "Bisect left returns $min \\{ i, array[i] \\geq target \\}$  \n",
    "Bisect right returns $min \\{ i, array[i] > target \\}$. Just turn the strict inequality into a large one:\n",
    "\n",
    "[Alternative implementation](https://gist.github.com/py-in-the-sky/e84fd9fc4db0da3f351631ba04b2d91b)"
   ]
  },
  {
   "cell_type": "code",
   "execution_count": 3,
   "metadata": {},
   "outputs": [],
   "source": [
    "def bisect_left(array: list[int], target: int) -> int:\n",
    "    left, right = 0, len(array)\n",
    "    while left < right: # Strict inequality because `left == right` in the last step is guaranteed\n",
    "        mid = (left + right) // 2\n",
    "        if array[mid] < target:\n",
    "            left = mid + 1 # `mid` cannot be the correct index, shift `left`` on its right\n",
    "        else:\n",
    "            right = mid # `array[mid] <= left`, so it could be to correct index\n",
    "    return left # `right` works too"
   ]
  },
  {
   "cell_type": "code",
   "execution_count": null,
   "metadata": {},
   "outputs": [],
   "source": [
    "def binary_search()"
   ]
  },
  {
   "attachments": {},
   "cell_type": "markdown",
   "metadata": {},
   "source": []
  },
  {
   "cell_type": "code",
   "execution_count": 4,
   "metadata": {},
   "outputs": [],
   "source": [
    "\n",
    "def bisect_right(array: List[int], target: int) -> int:\n",
    "    left, right = 0, len(array)\n",
    "    while left < right:\n",
    "        mid = (left + right) // 2\n",
    "        if array[mid] <= target:\n",
    "            left = mid + 1\n",
    "        else:\n",
    "            right = mid\n",
    "    return left\n",
    "\n",
    "def binary_insert(array: List[int], target: int) -> None:\n",
    "    array.insert(bisect_left(array, target), target)\n",
    "    return\n",
    "\n",
    "def bisect_search(array: List[int], target: int, type : str = 'leftmost') -> int:\n",
    "    index = bisect_left(array, target)\n",
    "    if index < len(array) and array[index] == target:\n",
    "        return index\n",
    "    else:\n",
    "        return -1"
   ]
  },
  {
   "attachments": {},
   "cell_type": "markdown",
   "metadata": {},
   "source": [
    "**Note that the right pointer is initialized as `len(array)`, not `len(array) - 1`**. This allows the returned value to be `len(array)`, in case it should be used for appending a value at the end of the array.\n",
    "\n",
    "### 3-pointer implementations (l, r, m) vs 2-pointer implementations\n",
    "\n",
    "| | 3-pointer | 2-pointer |\n",
    "|----------|----------|----------|\n",
    "| Bounds | r = len(array) - 1 | r = len(array) |\n",
    "| While condition | l <= r | l < r |\n",
    "| Shift | m = r + 1 | r = m |\n",
    "\n",
    "Better use variations of `bisect_left` and `bisect_right` in most cases. "
   ]
  },
  {
   "cell_type": "code",
   "execution_count": 2,
   "metadata": {},
   "outputs": [
    {
     "name": "stdout",
     "output_type": "stream",
     "text": [
      "Looking for 7\n",
      "\n",
      "Left - Not there - Front | [20] | 0\n",
      "Right - Not there - Front | [20] | 0\n",
      "\n",
      "Left - Not there - Middle | [1, 3, 9] | 2\n",
      "Right - Not there - Middle | [1, 3, 9] | 2\n",
      "\n",
      "Left - Not there - Tail | [1, 3, 4, 4, 5] | 5\n",
      "Right - Not there - Tail | [1, 3, 4, 4, 5] | 5\n",
      "\n",
      "Left - There - Unique | [1, 3, 4, 4, 7, 8, 9] | 4\n",
      "Right - There - Unique | [1, 3, 4, 4, 7, 8, 9] | 5\n",
      "\n",
      "Left - There - Multiple | [1, 3, 4, 4, 7, 7, 7, 7, 9] | 4\n",
      "Right - There - Multiple | [1, 3, 4, 4, 7, 7, 7, 7, 9] | 8\n",
      "\n"
     ]
    }
   ],
   "source": [
    "def bisect_left(nums: list[int], target: int) -> int:\n",
    "    l, r = 0, len(nums)\n",
    "    while l < r:\n",
    "        m = (l + r) // 2\n",
    "        if nums[m] < target:\n",
    "            l = m + 1\n",
    "        else:\n",
    "            r = m\n",
    "    return l\n",
    "\n",
    "def bisect_right(nums: list[int], target: int) -> int:\n",
    "    l, r = 0, len(nums)\n",
    "    while l < r:\n",
    "        m = (l + r) // 2\n",
    "        if nums[m] <= target:\n",
    "            l = m + 1\n",
    "        else:\n",
    "            r = m\n",
    "    return l\n",
    "\n",
    "tests = {\n",
    "    \"Not there - Front\": [20],\n",
    "    \"Not there - Middle\": [1, 3, 9],\n",
    "    \"Not there - Tail\": [1, 3, 4, 4, 5],\n",
    "    \"There - Unique\": [1, 3, 4, 4, 7, 8, 9],\n",
    "    \"There - Multiple\": [1, 3, 4, 4, 7, 7, 7, 7, 9]\n",
    "}\n",
    "\n",
    "print(\"Looking for 7\\n\")\n",
    "for key, nums in tests.items():\n",
    "    print(f\"Left - {key} | {nums} | {bisect_left(nums, 7)}\")\n",
    "    print(f\"Right - {key} | {nums} | {bisect_right(nums, 7)}\", end=\"\\n\\n\")"
   ]
  },
  {
   "cell_type": "code",
   "execution_count": null,
   "metadata": {},
   "outputs": [],
   "source": []
  }
 ],
 "metadata": {
  "kernelspec": {
   "display_name": "Python 3",
   "language": "python",
   "name": "python3"
  },
  "language_info": {
   "codemirror_mode": {
    "name": "ipython",
    "version": 3
   },
   "file_extension": ".py",
   "mimetype": "text/x-python",
   "name": "python",
   "nbconvert_exporter": "python",
   "pygments_lexer": "ipython3",
   "version": "3.10.12"
  },
  "orig_nbformat": 4,
  "vscode": {
   "interpreter": {
    "hash": "916dbcbb3f70747c44a77c7bcd40155683ae19c65e1c03b4aa3499c5328201f1"
   }
  }
 },
 "nbformat": 4,
 "nbformat_minor": 2
}
