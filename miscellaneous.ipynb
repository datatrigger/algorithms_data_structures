{
 "cells": [
  {
   "attachments": {},
   "cell_type": "markdown",
   "metadata": {},
   "source": [
    "# Kadane's algorithm\n",
    "\n",
    "Find a non-empty subarray with the largest sum.\n",
    "\n",
    "## Brute force: O(n<sup>2</sup>) time complexity"
   ]
  },
  {
   "cell_type": "code",
   "execution_count": 18,
   "metadata": {},
   "outputs": [],
   "source": [
    "from unittest import TestCase\n",
    "class TestLargestSum(TestCase):\n",
    "    def test(self, algo):\n",
    "        self.assertEqual(algo(-1), -1)\n",
    "        self.assertEqual(algo(1), 1)\n",
    "        self.assertEqual(algo(1, -1, 3), 3)\n",
    "        self.assertEqual(algo(1, -2, 3, 2, -2), 5)\n",
    "\n",
    "\n",
    "def largest_sum_brute(*args: int) -> int:\n",
    "    max_sum = args[0] # float(\"-inf\") useless here, will be overwritten downstream\n",
    "    for i in range(len(args)):\n",
    "        curr_sum = 0\n",
    "        for j in range(i, len(args)):\n",
    "            curr_sum += args[j]\n",
    "            max_sum = max(max_sum, curr_sum)\n",
    "    return max_sum\n",
    "\n",
    "TestLargestSum().test(largest_sum_brute)"
   ]
  },
  {
   "attachments": {},
   "cell_type": "markdown",
   "metadata": {},
   "source": [
    "## Kadane's algorithm: O(n)"
   ]
  },
  {
   "cell_type": "code",
   "execution_count": 19,
   "metadata": {},
   "outputs": [],
   "source": [
    "def largest_sum_kadane(*args: int) -> int:\n",
    "    max_sum = curr = args[0]\n",
    "    for n in args[1:]:\n",
    "        curr = max(curr, 0) + n\n",
    "        max_sum = max(max_sum, curr)\n",
    "    return max_sum\n",
    "\n",
    "TestLargestSum().test(largest_sum_kadane)"
   ]
  },
  {
   "attachments": {},
   "cell_type": "markdown",
   "metadata": {},
   "source": [
    "## Divide and conquer approach"
   ]
  },
  {
   "cell_type": "code",
   "execution_count": 20,
   "metadata": {},
   "outputs": [],
   "source": [
    "def largest_sum_divide(*args: int) -> int:\n",
    "    pass\n",
    "\n",
    "# TestLargestSum().test(largest_sum_divide)"
   ]
  },
  {
   "attachments": {},
   "cell_type": "markdown",
   "metadata": {},
   "source": [
    "## Sliding window\n",
    "\n",
    "Return indices for the subarray with largest sum"
   ]
  },
  {
   "cell_type": "code",
   "execution_count": 22,
   "metadata": {},
   "outputs": [
    {
     "data": {
      "text/plain": [
       "(2, 3)"
      ]
     },
     "execution_count": 22,
     "metadata": {},
     "output_type": "execute_result"
    }
   ],
   "source": [
    "def largest_sum_window(*args: int) -> list[int, int]:\n",
    "    max_sum = curr = args[0]\n",
    "    l = l_max = r_max = 0\n",
    "    for r in range(1, len(args)):\n",
    "        if curr < 0:\n",
    "            l = r\n",
    "            curr = 0\n",
    "        curr += args[r]\n",
    "        if curr > max_sum:\n",
    "            max_sum, l_max, r_max = curr, l, r\n",
    "    return l_max, r_max\n",
    "\n",
    "largest_sum_window(1, -2, 3, 2, -2)"
   ]
  },
  {
   "cell_type": "code",
   "execution_count": null,
   "metadata": {},
   "outputs": [],
   "source": []
  }
 ],
 "metadata": {
  "kernelspec": {
   "display_name": "Python 3",
   "language": "python",
   "name": "python3"
  },
  "language_info": {
   "codemirror_mode": {
    "name": "ipython",
    "version": 3
   },
   "file_extension": ".py",
   "mimetype": "text/x-python",
   "name": "python",
   "nbconvert_exporter": "python",
   "pygments_lexer": "ipython3",
   "version": "3.10.6"
  },
  "orig_nbformat": 4
 },
 "nbformat": 4,
 "nbformat_minor": 2
}
