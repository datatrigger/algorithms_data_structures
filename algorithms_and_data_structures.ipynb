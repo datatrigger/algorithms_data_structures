{
 "cells": [
  {
   "cell_type": "markdown",
   "metadata": {},
   "source": [
    "# Algorithms and Data Structures in Python\n",
    "\n",
    "## 1. Python Primer\n",
    "\n",
    "### Miscellaneous notes:\n",
    "\n",
    "* The keys of ```dict``` are ordered since Python 3.6\n",
    "* > The ```and``` and ```or``` operators *short-circuit*, in that they do not evaluate the second\n",
    "operand if the result can be determined based on the value of the ﬁrst operand\n",
    "* ```a is b``` checks if identifiers ```a``` and ```b``` are aliases of the *same* object, whereas ```a == b``` checks of the objects identified by both identifies are deemed to be equivalent\n",
    "* Operators can be used with sets: ```<```/```<=```, ```|```, ```&```, ```^``` and ```-```\n",
    "* ```list += [4, 5]``` extends ```list``` whereas ```list = list + [4, 5]``` reassign ```list``` to a new list\n",
    "\n",
    "### Generators\n",
    "\n",
    "An interesting example with multiple ```yield``` statements:"
   ]
  },
  {
   "cell_type": "code",
   "execution_count": 1,
   "metadata": {},
   "outputs": [
    {
     "data": {
      "text/plain": [
       "[1, 100, 2, 50, 4, 25, 5, 20, 10]"
      ]
     },
     "execution_count": 1,
     "metadata": {},
     "output_type": "execute_result"
    }
   ],
   "source": [
    "def factors(n):\n",
    "    k=1\n",
    "    while k * k < n:\n",
    "        if n % k ==0:\n",
    "            yield k\n",
    "            yield n//k\n",
    "        k += 1\n",
    "    if k * k == n:\n",
    "        yield k\n",
    "\n",
    "list(factors(100))"
   ]
  },
  {
   "cell_type": "markdown",
   "metadata": {},
   "source": [
    "### Comprenhension\n",
    "\n",
    "Not for lists only!"
   ]
  },
  {
   "cell_type": "code",
   "execution_count": 4,
   "metadata": {},
   "outputs": [],
   "source": [
    "# Generators for squares up to integer n:\n",
    "\n",
    "n = 100\n",
    "\n",
    "lc = [k*k for k in range(1, n+1)] # List comprehension\n",
    "sc = {k*k for k in range(1, n+1)} # Set comprehension\n",
    "gc = (k*k for k in range(1, n+1)) # Generator comprehension\n",
    "dc = {k: k*k for k in range(1, n+1)}  # Dictionary comprehension"
   ]
  },
  {
   "cell_type": "markdown",
   "metadata": {},
   "source": [
    "# Google foo.bar\n",
    "\n",
    "## 2\n",
    "\n",
    "### 2.1"
   ]
  },
  {
   "cell_type": "code",
   "execution_count": 49,
   "metadata": {},
   "outputs": [],
   "source": [
    "def solution(x, y):\n",
    "    '''\n",
    "    General idea:\n",
    "    If x+y=n+1, then point (x,y)) is on the nth diagonal (! Edge case: there is no 0th diagonal !).\n",
    "    The first ID of this nth diagonal is [1+2+...+(n-1)], then + 1 if x=1, or + 2 if x=2 and so on.\n",
    "    So, actual ID of point (x,y) is 1+...+(n-1)+x\n",
    "    Plugging in x+y=n+1, ID = 1 + ... + (x+y-2) + x\n",
    "    \n",
    "    Edge case:\n",
    "    (x,y)=(1,1)\n",
    "    '''\n",
    "    if x+y==2:\n",
    "        return '1'\n",
    "    elif x > 1e5:\n",
    "        raise ValueError('x value is too large')\n",
    "    elif y > 1e5: \n",
    "        raise ValueError('y value is too large')\n",
    "    else:\n",
    "        return str(int(x+(x+y-2)*(x+y-1)/2))"
   ]
  },
  {
   "cell_type": "code",
   "execution_count": 50,
   "metadata": {},
   "outputs": [
    {
     "data": {
      "text/plain": [
       "'96'"
      ]
     },
     "execution_count": 50,
     "metadata": {},
     "output_type": "execute_result"
    }
   ],
   "source": [
    "solution(5, 10)"
   ]
  },
  {
   "cell_type": "markdown",
   "metadata": {},
   "source": [
    "### 2.2)"
   ]
  },
  {
   "cell_type": "code",
   "execution_count": 16,
   "metadata": {},
   "outputs": [
    {
     "data": {
      "text/plain": [
       "15"
      ]
     },
     "execution_count": 16,
     "metadata": {},
     "output_type": "execute_result"
    }
   ],
   "source": [
    "int('120', 3)"
   ]
  },
  {
   "cell_type": "code",
   "execution_count": 12,
   "metadata": {},
   "outputs": [
    {
     "data": {
      "text/plain": [
       "1"
      ]
     },
     "execution_count": 12,
     "metadata": {},
     "output_type": "execute_result"
    }
   ],
   "source": [
    "int('1', 3)"
   ]
  },
  {
   "cell_type": "code",
   "execution_count": 31,
   "metadata": {},
   "outputs": [],
   "source": [
    "[1, 5].reverse()"
   ]
  },
  {
   "cell_type": "code",
   "execution_count": 27,
   "metadata": {},
   "outputs": [
    {
     "ename": "NameError",
     "evalue": "name 'reverse' is not defined",
     "output_type": "error",
     "traceback": [
      "\u001b[0;31m---------------------------------------------------------------------------\u001b[0m",
      "\u001b[0;31mNameError\u001b[0m                                 Traceback (most recent call last)",
      "\u001b[1;32m/home/taliandorogd/algorithms_data_structures/algorithms_and_data_structures.ipynb Cell 10\u001b[0m in \u001b[0;36m<cell line: 1>\u001b[0;34m()\u001b[0m\n\u001b[0;32m----> <a href='vscode-notebook-cell:/home/taliandorogd/algorithms_data_structures/algorithms_and_data_structures.ipynb#X12sZmlsZQ%3D%3D?line=0'>1</a>\u001b[0m reverse(\u001b[39msorted\u001b[39m([\u001b[39m'\u001b[39m\u001b[39m2\u001b[39m\u001b[39m'\u001b[39m, \u001b[39m'\u001b[39m\u001b[39m3\u001b[39m\u001b[39m'\u001b[39m, \u001b[39m'\u001b[39m\u001b[39m1\u001b[39m\u001b[39m'\u001b[39m], reverse \u001b[39m=\u001b[39m \u001b[39mTrue\u001b[39;00m))\n",
      "\u001b[0;31mNameError\u001b[0m: name 'reverse' is not defined"
     ]
    }
   ],
   "source": [
    "reverse(sorted(['2', '3', '1'], reverse = True))"
   ]
  },
  {
   "cell_type": "code",
   "execution_count": 46,
   "metadata": {},
   "outputs": [],
   "source": [
    "def solution(n, b):\n",
    "    def convert_to_base(int_input, b, k):\n",
    "        int_output = ''\n",
    "        i = 0\n",
    "        while int_input >= b**i:\n",
    "            int_output = \n",
    "\n",
    "    def get_next_id(n, b):\n",
    "        digits = sorted(str(n))\n",
    "        y = int(''.join(digits), base = b)\n",
    "        digits.reverse()\n",
    "        x = int(''.join(digits), base = b)\n",
    "        z = x - y\n"
   ]
  },
  {
   "cell_type": "code",
   "execution_count": 48,
   "metadata": {},
   "outputs": [
    {
     "data": {
      "text/plain": [
       "1"
      ]
     },
     "execution_count": 48,
     "metadata": {},
     "output_type": "execute_result"
    }
   ],
   "source": [
    "2**0"
   ]
  },
  {
   "cell_type": "code",
   "execution_count": 43,
   "metadata": {},
   "outputs": [
    {
     "data": {
      "text/plain": [
       "['3', '2', '1']"
      ]
     },
     "execution_count": 43,
     "metadata": {},
     "output_type": "execute_result"
    }
   ],
   "source": [
    "y_list.reverse()"
   ]
  },
  {
   "cell_type": "code",
   "execution_count": 42,
   "metadata": {},
   "outputs": [
    {
     "ename": "TypeError",
     "evalue": "can only join an iterable",
     "output_type": "error",
     "traceback": [
      "\u001b[0;31m---------------------------------------------------------------------------\u001b[0m",
      "\u001b[0;31mTypeError\u001b[0m                                 Traceback (most recent call last)",
      "\u001b[1;32m/home/taliandorogd/algorithms_data_structures/algorithms_and_data_structures.ipynb Cell 13\u001b[0m in \u001b[0;36m<cell line: 1>\u001b[0;34m()\u001b[0m\n\u001b[0;32m----> <a href='vscode-notebook-cell:/home/taliandorogd/algorithms_data_structures/algorithms_and_data_structures.ipynb#X15sZmlsZQ%3D%3D?line=0'>1</a>\u001b[0m \u001b[39mint\u001b[39m(\u001b[39m'\u001b[39;49m\u001b[39m'\u001b[39;49m\u001b[39m.\u001b[39;49mjoin(y_list\u001b[39m.\u001b[39;49mreverse()), base \u001b[39m=\u001b[39m \u001b[39m10\u001b[39m)\n",
      "\u001b[0;31mTypeError\u001b[0m: can only join an iterable"
     ]
    }
   ],
   "source": [
    "int(''.join(y_list.reverse()), base = 10)"
   ]
  },
  {
   "cell_type": "code",
   "execution_count": null,
   "metadata": {},
   "outputs": [],
   "source": []
  }
 ],
 "metadata": {
  "kernelspec": {
   "display_name": "Python 3.10.6 64-bit",
   "language": "python",
   "name": "python3"
  },
  "language_info": {
   "codemirror_mode": {
    "name": "ipython",
    "version": 3
   },
   "file_extension": ".py",
   "mimetype": "text/x-python",
   "name": "python",
   "nbconvert_exporter": "python",
   "pygments_lexer": "ipython3",
   "version": "3.10.6"
  },
  "orig_nbformat": 4,
  "vscode": {
   "interpreter": {
    "hash": "916dbcbb3f70747c44a77c7bcd40155683ae19c65e1c03b4aa3499c5328201f1"
   }
  }
 },
 "nbformat": 4,
 "nbformat_minor": 2
}
