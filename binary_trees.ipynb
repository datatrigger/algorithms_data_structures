{
 "cells": [
  {
   "attachments": {},
   "cell_type": "markdown",
   "metadata": {},
   "source": [
    "# 0) Binary Search"
   ]
  },
  {
   "cell_type": "code",
   "execution_count": 8,
   "metadata": {},
   "outputs": [
    {
     "name": "stdout",
     "output_type": "stream",
     "text": [
      "Index of 0 in array [1, 3, 4]: -1\n",
      "Index of 1 in array [1, 3, 4]: 0\n",
      "Index of 2 in array [1, 3, 4]: -1\n",
      "Index of 3 in array [1, 3, 4]: 1\n",
      "Index of 4 in array [1, 3, 4]: 2\n",
      "Index of 5 in array [1, 3, 4]: -1\n",
      "\n",
      "\n",
      "Index of 3 in array [1, 2, 4, 7]: -1\n",
      "Index of 4 in array [1, 2, 4, 7]: 2\n",
      "Index of 7 in array [1, 2, 4, 7]: 3\n"
     ]
    }
   ],
   "source": [
    "def binary_search(array, target):\n",
    "    left, right = 0, len(array)-1\n",
    "\n",
    "    while left <= right:\n",
    "        mid = (left + right) // 2\n",
    "        if target < array[mid]:\n",
    "            right = mid - 1\n",
    "        elif target > array[mid]:\n",
    "            left = mid + 1\n",
    "        else:\n",
    "            return mid\n",
    "    return -1\n",
    "\n",
    "# Test\n",
    "array = [1, 3, 4]\n",
    "for target in [0, 1, 2, 3, 4, 5]:\n",
    "    print(f'Index of {target} in array {array}: {binary_search(array, target)}')\n",
    "print('\\n')\n",
    "array = [1, 2, 4,7]\n",
    "for target in [3, 4, 7]:\n",
    "    print(f'Index of {target} in array {array}: {binary_search(array, target)}')"
   ]
  },
  {
   "attachments": {},
   "cell_type": "markdown",
   "metadata": {},
   "source": [
    "# 1) Trees\n",
    "\n",
    "*Ordered trees*: a tree is ordered where children of every node are ordered.\n",
    "\n",
    "## Depth/Height\n",
    "\n",
    "### Depth\n",
    "\n",
    "The depth of a node is the number of its ancestor (excluding the node itself).\n",
    "\n",
    "<pre>\n",
    "a\n",
    "├── b\n",
    "├── c\n",
    "    ├── d\n",
    "    ├── e\n",
    "</pre>  \n",
    "\n",
    "*The depth of node d is 2.*\n",
    "\n",
    "The depth can be computed recursively:"
   ]
  },
  {
   "cell_type": "code",
   "execution_count": 9,
   "metadata": {},
   "outputs": [],
   "source": [
    "def depth(node):\n",
    "    if node.isroot():\n",
    "        return 0\n",
    "    else:\n",
    "        return 1 + depth(node.parent())"
   ]
  },
  {
   "attachments": {},
   "cell_type": "markdown",
   "metadata": {},
   "source": [
    "```depth()``` has a O(depth(node)) time complexity for a given node. Hence the worst-case time complexity is O(n) since a one-branch tree would yield a leaf with depth n-1.\n",
    "\n",
    "### Height\n",
    "\n",
    "The height of a **node** is defined as:\n",
    "* height(node) = 1 + max({height(child) | child ∈ children of node}) if the node is not a leaf\n",
    "* height(node) = 0 if the node is a leaf\n",
    "\n",
    "The height of a **tree** is the height of its root. Note that height(T) = max({depth(L) | L ∈ Leaves of T})"
   ]
  },
  {
   "cell_type": "code",
   "execution_count": 10,
   "metadata": {},
   "outputs": [],
   "source": [
    "def height_suboptimal(T):\n",
    "    return max((depth(node) for node in T.nodes() if node.is_leaf()))"
   ]
  },
  {
   "attachments": {},
   "cell_type": "markdown",
   "metadata": {},
   "source": [
    "The above algorithm runs in O(n<sup>2</sup>) worst-case time: listing the nodes can be done in O(n) worst-case time and computing the depth of all the leaves has a O(n<sup>2</sup>) worst-case time complexity (see page 309 and [here](https://cs.stackexchange.com/questions/87336/maximum-sum-of-depths-of-all-external-nodes-in-a-binary-tree) for details).\n",
    "\n",
    "Example of a tree for which computing all the leaves' depths would be n<sup>2</sup>/4 = O(n<sup>2</sup>):\n",
    "\n",
    "<pre>\n",
    "a<sub>1</sub>\n",
    "├── a<sub>2</sub>\n",
    "    ...\n",
    "        ├── a<sub>n/2</sub>\n",
    "            ├── b<sub>1</sub>\n",
    "            ├── b<sub>2</sub>\n",
    "            ...\n",
    "            ├── b<sub>n/2</sub>\n",
    "</pre>\n",
    "\n",
    "On the other hand, using the recursive definition of the height yields a O(n) worst-case running time:"
   ]
  },
  {
   "cell_type": "code",
   "execution_count": 11,
   "metadata": {},
   "outputs": [],
   "source": [
    "def height_optimal(node):\n",
    "    if node.is_leaf():\n",
    "        return 0\n",
    "    else:\n",
    "        return max((height_optimal(child) for child in node.children()))\n"
   ]
  },
  {
   "attachments": {},
   "cell_type": "markdown",
   "metadata": {},
   "source": [
    "# 2) Binary trees\n",
    "\n",
    "A binary tree is an **ordered** tree with **at most** 2 children per node, labeled left child/right child. The order is left child then right child.\n",
    "\n",
    "A binary tree is said to be **proper** if each node has either 0 or 2 children.\n",
    "\n",
    "A **level** d is the set of all nodes that have a depth d. A given level d has at most 2<sup>d</sup> nodes.\n",
    "\n",
    "## Tree Traversal Algorithms"
   ]
  },
  {
   "cell_type": "code",
   "execution_count": 12,
   "metadata": {},
   "outputs": [],
   "source": [
    "### Preorder traversal\n",
    "def preorder(T, p):\n",
    "    T.visit(p)\n",
    "    for c in T.children(p):\n",
    "        preorder(T, c)\n",
    "\n",
    "### Postorder traversal\n",
    "def postorder(T, p):\n",
    "    for c in T.children(p):\n",
    "        postorder(T, c)\n",
    "    T.visit(p)\n",
    "\n",
    "### Breadth-first traversal\n",
    "def breadthfirst(T):\n",
    "    Q=Queue()\n",
    "    Q.enqueue(T.root())\n",
    "    while not Q.is_empty():\n",
    "        p=Q.dequeue()\n",
    "        p.visit()\n",
    "        for c in T.children(p):\n",
    "            Q.enqueue(c)\n",
    "\n",
    "### Inorder traversal\n",
    "# Specific to binary trees\n",
    "def inorder(T, p):\n",
    "    if p.left():\n",
    "        inorder(p.left())\n",
    "    p.visit()\n",
    "    if p.right():\n",
    "        inorder(p.right())"
   ]
  },
  {
   "attachments": {},
   "cell_type": "markdown",
   "metadata": {},
   "source": [
    "# 3) Binary Search Trees (BST)"
   ]
  },
  {
   "cell_type": "markdown",
   "metadata": {},
   "source": []
  }
 ],
 "metadata": {
  "kernelspec": {
   "display_name": "Python 3",
   "language": "python",
   "name": "python3"
  },
  "language_info": {
   "codemirror_mode": {
    "name": "ipython",
    "version": 3
   },
   "file_extension": ".py",
   "mimetype": "text/x-python",
   "name": "python",
   "nbconvert_exporter": "python",
   "pygments_lexer": "ipython3",
   "version": "3.10.6"
  },
  "orig_nbformat": 4,
  "vscode": {
   "interpreter": {
    "hash": "916dbcbb3f70747c44a77c7bcd40155683ae19c65e1c03b4aa3499c5328201f1"
   }
  }
 },
 "nbformat": 4,
 "nbformat_minor": 2
}
