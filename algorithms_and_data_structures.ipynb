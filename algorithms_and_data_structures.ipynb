{
 "cells": [
  {
   "cell_type": "markdown",
   "metadata": {},
   "source": [
    "# Algorithms and Data Structures in Python\n",
    "\n",
    "## 1. Python Primer\n",
    "\n",
    "### Miscellaneous notes:\n",
    "\n",
    "* The keys of ```dict``` are ordered since Python 3.6\n",
    "* > The ```and``` and ```or``` operators *short-circuit*, in that they do not evaluate the second\n",
    "operand if the result can be determined based on the value of the ﬁrst operand\n",
    "* ```a is b``` checks if identifiers ```a``` and ```b``` are aliases of the *same* object, whereas ```a == b``` checks of the objects identified by both identifies are deemed to be equivalent\n",
    "* Operators can be used with sets: ```<```/```<=```, ```|```, ```&```, ```^``` and ```-```\n",
    "* ```list += [4, 5]``` extends ```list``` whereas ```list = list + [4, 5]``` reassign ```list``` to a new list\n",
    "\n",
    "### Generators\n",
    "\n",
    "An interesting example with multiple ```yield``` statements:"
   ]
  },
  {
   "cell_type": "code",
   "execution_count": 1,
   "metadata": {},
   "outputs": [
    {
     "data": {
      "text/plain": [
       "[1, 100, 2, 50, 4, 25, 5, 20, 10]"
      ]
     },
     "execution_count": 1,
     "metadata": {},
     "output_type": "execute_result"
    }
   ],
   "source": [
    "def factors(n):\n",
    "    k=1\n",
    "    while k * k < n:\n",
    "        if n % k ==0:\n",
    "            yield k\n",
    "            yield n//k\n",
    "        k += 1\n",
    "    if k * k == n:\n",
    "        yield k\n",
    "\n",
    "list(factors(100))"
   ]
  },
  {
   "cell_type": "markdown",
   "metadata": {},
   "source": [
    "### Comprenhension\n",
    "\n",
    "Not for lists only!"
   ]
  },
  {
   "cell_type": "code",
   "execution_count": 1,
   "metadata": {},
   "outputs": [],
   "source": [
    "# Generators for squares up to integer n:\n",
    "\n",
    "n = 100\n",
    "\n",
    "lc = [k*k for k in range(1, n+1)] # List comprehension\n",
    "sc = {k*k for k in range(1, n+1)} # Set comprehension\n",
    "gc = (k*k for k in range(1, n+1)) # Generator comprehension\n",
    "dc = {k: k*k for k in range(1, n+1)}  # Dictionary comprehension"
   ]
  },
  {
   "cell_type": "markdown",
   "metadata": {},
   "source": [
    "# 2. OOP\n",
    "\n",
    "General principles:\n",
    "* Modularity (decomposition in separate functional units)\n",
    "* Abstraction, e.g. Abstract Data Types (ADT) which specifies **what** operations do, not **how**\n",
    "* Encapsulation\n",
    "\n",
    "*Getters*/*Setters* are not really considered to pythonic. Use ```@property```, ```@attribute.setter``` and ```@attribute.deleter``` as instead:\n",
    "\n",
    "```python\n",
    "\n",
    "# circle.py\n",
    "class Circle:\n",
    "    \n",
    "    def __init__(self, radius):\n",
    "        self._radius = radius\n",
    "\n",
    "    @property\n",
    "    def radius(self):\n",
    "        \"\"\"The radius property.\"\"\"\n",
    "        print(\"Get radius\")\n",
    "        return self._radius\n",
    "\n",
    "    @radius.setter\n",
    "    def radius(self, value):\n",
    "        print(\"Set radius\")\n",
    "        self._radius = value\n",
    "\n",
    "    @radius.deleter\n",
    "    def radius(self):\n",
    "        print(\"Delete radius\")\n",
    "        del self._radius\n",
    "```\n",
    "\n",
    "* 'Magic' a.k.a *dunder* methods: if ```__str__``` is not overridden, then it is the same as ```__repr__``` by default\n",
    "\n",
    "## Testing:\n",
    "\n",
    "* *Stubbing*: in a top-down approach, replace the output of a function B called inside function A by a fixed value.\n",
    "* Unit testing is actually a bottom-up strategy\n",
    "\n",
    "## Miscellaneous\n",
    "\n",
    "```__slots__```: see [here](https://stackoverflow.com/questions/472000/usage-of-slots)\n",
    "\n",
    "# 3. Complexity\n",
    "\n",
    "## Prefix averages"
   ]
  },
  {
   "cell_type": "code",
   "execution_count": 10,
   "metadata": {},
   "outputs": [],
   "source": [
    "# Quadratic complexity\n",
    "\n",
    "def prefix_average_1_0(S):\n",
    "    averages = []\n",
    "    for j in range(len(S)):\n",
    "        total = 0\n",
    "        for i in range(j+1):\n",
    "            total += S[i]\n",
    "        averages.append(total/(j+1))\n",
    "    return averages\n",
    "\n",
    "def prefix_average_1_1(S):\n",
    "    averages = []\n",
    "    for j in range(len(S)):\n",
    "        averages.append(sum(S[:j+1])/(j+1))\n",
    "    return averages\n",
    "\n",
    "def prefix_average_2(S):\n",
    "    averages = []\n",
    "    sum = 0\n",
    "    for j in range(len(S)):\n",
    "        sum = sum + S[j]\n",
    "        averages.append(sum/(j+1))\n",
    "    return averages\n",
    "\n",
    "prefix_average_1_0([1, 1, 2]), prefix_average_1_1([1, 1, 2]), prefix_average_2([1, 1, 2]), "
   ]
  },
  {
   "cell_type": "code",
   "execution_count": 18,
   "metadata": {},
   "outputs": [
    {
     "data": {
      "text/plain": [
       "(False, False)"
      ]
     },
     "execution_count": 18,
     "metadata": {},
     "output_type": "execute_result"
    }
   ],
   "source": [
    "def disjoint_1(A,B, C):\n",
    "    for a in A:\n",
    "        for b in B:\n",
    "            for c in C:\n",
    "                if a == b == c:\n",
    "                    return False\n",
    "    return True\n",
    "\n",
    "def disjoint_2(A,B, C):\n",
    "    for a in A:\n",
    "        for b in B:\n",
    "            if a == b:\n",
    "                for c in C:\n",
    "                    if a == c:\n",
    "                        return False\n",
    "    return True\n",
    "\n",
    "disjoint_1((1,2,3), (4,1,6), (1,8,9)), disjoint_2((1,2,3), (4,1,6), (1,8,9))"
   ]
  },
  {
   "cell_type": "markdown",
   "metadata": {},
   "source": [
    "## Amortized complexity vs average-case complexity\n",
    "\n",
    "* Amortized complexity considers the total complexity of a sequence of operations rather than one operation repetead n times (where n would be the length of the said sequence): see [Wikipedia](https://en.wikipedia.org/wiki/Amortized_analysis) or [Stackoverflow](https://stackoverflow.com/questions/7333376/difference-between-average-case-and-amortized-analysis)\n",
    "\n",
    "* Average-case complexity considers all possible inputs and makes assumption about their distribution"
   ]
  },
  {
   "cell_type": "markdown",
   "metadata": {},
   "source": [
    "# 4. Recursion\n",
    "\n",
    "It is important to ```return``` the recursive call of the function, otherwise the first call ends returning ```None```."
   ]
  },
  {
   "cell_type": "code",
   "execution_count": 84,
   "metadata": {},
   "outputs": [
    {
     "data": {
      "text/plain": [
       "(0, 1, 2, -1, -1, 0, -1)"
      ]
     },
     "execution_count": 84,
     "metadata": {},
     "output_type": "execute_result"
    }
   ],
   "source": [
    "# Sequential Search vs Binary Search\n",
    "\n",
    "def sequential_search(data, target):\n",
    "    i = 0\n",
    "    while i < len(data):\n",
    "        if data[i] == target:\n",
    "            return i\n",
    "        i += 1\n",
    "    return -1\n",
    "\n",
    "def binary_search(data_ordered, target, low = None, high = None):\n",
    "    '''\n",
    "    Return -1 if `target` is not in the ordered list of unique elements `data_ordered`, else the index of `target` in `data_ordered`\n",
    "    '''\n",
    "    \n",
    "    if low is None: # no need to test both `low` and `high`, neither are None or they are both None\n",
    "        low, high = 0, len(data_ordered)-1\n",
    "    if low > high: # Works for empty lists as well\n",
    "        return -1\n",
    "    else:\n",
    "        mid = (low + high) // 2\n",
    "        if data_ordered[mid] == target:\n",
    "            return mid\n",
    "        elif data_ordered[mid] < target:\n",
    "            return binary_search(data_ordered, target, low = mid + 1, high = high)\n",
    "        else:\n",
    "            return binary_search(data_ordered, target, low = low, high = mid - 1)\n",
    "\n",
    "binary_search([1,2,3], 1), binary_search([1,2,3], 2), binary_search([1,2,3], 3), binary_search([1,2,3], 4), binary_search([1,2,3], -2), binary_search([42], 42), binary_search([], 42)"
   ]
  },
  {
   "cell_type": "code",
   "execution_count": 33,
   "metadata": {},
   "outputs": [],
   "source": [
    "import os\n",
    "\n",
    "def disk_usage(path = os.getcwd()):\n",
    "    total = os.path.getsize(path)\n",
    "    if os.path.isdir(path):\n",
    "        for filename in os.listdir(path):\n",
    "            total += disk_usage(os.path.join(path, filename))\n",
    "    print(f'Size: {total:0.0f} | {path}')\n",
    "    return total"
   ]
  },
  {
   "cell_type": "markdown",
   "metadata": {},
   "source": [
    "## Tail recursion to non-recursive\n",
    "\n",
    "*Not covered*\n",
    "\n",
    "### Binary search\n",
    "\n",
    "*Not covered*"
   ]
  },
  {
   "cell_type": "markdown",
   "metadata": {},
   "source": [
    "# 5. Arrays"
   ]
  },
  {
   "cell_type": "code",
   "execution_count": 46,
   "metadata": {},
   "outputs": [],
   "source": [
    "# Insertion sort\n",
    "\n",
    "def insertion_sort(A):\n",
    "    for i in range(1, len(A)):\n",
    "        current = A[i]\n",
    "        j = i-1\n",
    "        while j >= 0 and A[j] > current:\n",
    "            A[j+1] = A[j] # Here A[i] can be erased, that is why it was saved in `current`\n",
    "            # No value after index i can be lost because j < i\n",
    "            j -= 1\n",
    "        # A[j] <= current - we exited the while loop.\n",
    "        # A[j+1] has been pushed to A[j+2] in the previous step,\n",
    "        # so we can overwrite `current`\n",
    "        A[j+1] = current \n",
    "        \n",
    "    return A\n"
   ]
  },
  {
   "cell_type": "code",
   "execution_count": 31,
   "metadata": {},
   "outputs": [
    {
     "data": {
      "text/plain": [
       "('DEFBC', 'ABCYZ')"
      ]
     },
     "execution_count": 31,
     "metadata": {},
     "output_type": "execute_result"
    }
   ],
   "source": [
    "# Caesar cipher\n",
    "\n",
    "class CaesarCipher:\n",
    "\n",
    "    LENGTH_ALPHABET = ord('Z') - ord('A') + 1\n",
    "\n",
    "    def __init__(self, key=0):\n",
    "        self.key = key    \n",
    "\n",
    "    # Helper functions to encrypt/decrypt characters\n",
    "    @staticmethod\n",
    "    def encrypt_character(char, key):\n",
    "        return chr(ord('A') + (ord(char) - ord('A') + key) % CaesarCipher.LENGTH_ALPHABET )\n",
    "    @staticmethod\n",
    "    def decrypt_character(char, key):\n",
    "        return chr(ord('A') + (ord(char) - ord('A') - key) % CaesarCipher.LENGTH_ALPHABET )\n",
    "\n",
    "    # String encryption\n",
    "    def encrypt(self, string):\n",
    "        return ''.join([CaesarCipher.encrypt_character(char, self.key) for char in string])\n",
    "    \n",
    "    def decrypt(self, string):\n",
    "        return ''.join([CaesarCipher.decrypt_character(char, self.key) for char in string])\n",
    "\n",
    "test = CaesarCipher(3)\n",
    "test.encrypt('ABCYZ'), test.decrypt(test.encrypt('ABCYZ'))\n",
    "\n"
   ]
  },
  {
   "cell_type": "markdown",
   "metadata": {},
   "source": [
    "## Multidimensional arrays"
   ]
  },
  {
   "cell_type": "code",
   "execution_count": 6,
   "metadata": {},
   "outputs": [],
   "source": [
    "# Don't\n",
    "n = 4 # 4 rows\n",
    "p = 3 # 3 columns\n",
    "\n",
    "flawed_2d_list = [[0] * p] * n\n",
    "\n",
    "# Do\n",
    "\n",
    "correct_2d_list = [[0] * p for i in range(n)]"
   ]
  },
  {
   "cell_type": "markdown",
   "metadata": {},
   "source": [
    "# Stacks\n",
    "\n",
    "## Implementation\n",
    "\n",
    "Use the existing Python's list class to implement a stack class with the **adapter** design pattern."
   ]
  },
  {
   "cell_type": "code",
   "execution_count": 2,
   "metadata": {},
   "outputs": [],
   "source": [
    "class Empty(Exception):\n",
    "    '''Error: attempting to access an element from an empty data structure.'''\n",
    "    pass\n",
    "\n",
    "class Stack:\n",
    "    def __init__(self):\n",
    "        self._stack = []\n",
    "\n",
    "    def is_empty(self):\n",
    "        return len(self._stack) == 0\n",
    "\n",
    "    def __len__(self):\n",
    "        return len(self._stack)\n",
    "\n",
    "    def __repr__(self):\n",
    "        return ''.join(\n",
    "            [str(self._stack[i])+'\\n' for i in range(self.__len__()-1, -1, -1)]\n",
    "            )\n",
    "    \n",
    "    def push(self, element):\n",
    "        self._stack.append(element)\n",
    "\n",
    "    def pop(self):\n",
    "        if self.is_empty():\n",
    "            raise Empty('Empty stack')\n",
    "        return self._stack.pop()\n",
    "\n",
    "    def top(self):\n",
    "        if self.is_empty():\n",
    "            raise Empty('Empty stack')\n",
    "        return self._stack[-1]\n"
   ]
  },
  {
   "cell_type": "code",
   "execution_count": 20,
   "metadata": {},
   "outputs": [],
   "source": [
    "# Matching delimiters with a stack\n",
    "\n",
    "def consistent_delim(string):\n",
    "    '''Returns True if parentheses/brackets/curly braces are consistently opened and closed in ``string``, False otherwise'''\n",
    "\n",
    "    left_delim = '([{'\n",
    "    right_delim = ')]}'\n",
    "\n",
    "    stacked_delim = Stack()\n",
    "    for char in string:\n",
    "        if char in left_delim:\n",
    "            stacked_delim.push(char)\n",
    "        elif char in right_delim:\n",
    "            try:\n",
    "                if left_delim.index(stacked_delim.pop()) != right_delim.index(char):\n",
    "                    return False\n",
    "            except Empty:\n",
    "                return False\n",
    "    return stacked_delim.is_empty()"
   ]
  },
  {
   "cell_type": "code",
   "execution_count": 25,
   "metadata": {},
   "outputs": [
    {
     "data": {
      "text/plain": [
       "True"
      ]
     },
     "execution_count": 25,
     "metadata": {},
     "output_type": "execute_result"
    }
   ],
   "source": [
    "consistent_delim('(){}')"
   ]
  },
  {
   "cell_type": "markdown",
   "metadata": {},
   "source": [
    "# Queues\n",
    "\n",
    "## Implementation\n",
    "\n",
    "Using ```.pop(0)``` is not an option because it has a O(n) complexity: every single element exept the one at index 0 has to be shifted to the left individually.\n",
    "\n",
    "Another option would be to point dequeued indexes to ```None```, to append queued elements to 'the right' and to maintain an index of current first element's index. But this ends up with a potentially very long list to maintain (if many queues/dequeues are done), even for a not-that-long queue.\n",
    "\n",
    "The recommended implementation is a circular list."
   ]
  },
  {
   "cell_type": "code",
   "execution_count": 15,
   "metadata": {},
   "outputs": [],
   "source": [
    "class Empty(Exception):\n",
    "    '''Error: attempting to access an element from an empty data structure.'''\n",
    "    pass\n",
    "\n",
    "class Queue:\n",
    "\n",
    "    INITIAL_CAPACITY = 10\n",
    "\n",
    "    def __init__(self):\n",
    "        self._data = [None] * Queue.INITIAL_CAPACITY\n",
    "        self._size = 0\n",
    "        self._front = 0\n",
    "\n",
    "    def __len__(self):\n",
    "        return self._size\n",
    "    \n",
    "    def __repr__(self):\n",
    "        return ', '.join([str(self._data[(self._front + i) % len(self._data)]) for i in range(self._size)])\n",
    "\n",
    "    def is_empty(self):\n",
    "        return self._size == 0\n",
    "\n",
    "    def first(self):\n",
    "        if self.is_empty():\n",
    "            raise Empty('Empty queue.')\n",
    "        else:\n",
    "            return self._data[self._front]\n",
    "\n",
    "    def dequeue(self):\n",
    "        if self.is_empty():\n",
    "            raise Empty('Empty queue.')\n",
    "        first, self._data[self._front] = self._data[self._front], None\n",
    "        self._front = (self._front + 1) % len(self._data)\n",
    "        self._size -= 1        \n",
    "        return first\n",
    "            \n",
    "\n",
    "    def enqueue(self, element):\n",
    "        if self._size == len(self._data):\n",
    "            print('Resizing underlying list...')\n",
    "            self.resize()\n",
    "        back = (self._front + self._size) % len(self._data)\n",
    "        self._data[back] = element\n",
    "        self._size += 1\n",
    "\n",
    "    def resize(self):\n",
    "        new_data = [None] * (2 * len(self._data))\n",
    "        for i in range(self._size):\n",
    "            new_data[i] = self._data[(self._front + i) % len(self._data)]\n",
    "        self._data = new_data\n",
    "        self._front = 0\n",
    "\n",
    "test = Queue()\n",
    "test.enqueue(11)\n",
    "print(test)\n",
    "test.enqueue(33)\n",
    "print(test)\n",
    "test.enqueue(55)\n",
    "print(test)\n",
    "test.dequeue()\n",
    "print(test)\n",
    "test.dequeue()\n",
    "print(test)\n",
    "\n",
    "for i in range(2, 22, 2):\n",
    "    test.enqueue(i)\n",
    "    print(f'Enqueueing {i}: {test}')\n",
    "\n",
    "test.dequeue()\n",
    "test.dequeue()\n",
    "print(f'Finally: {test}')"
   ]
  },
  {
   "cell_type": "markdown",
   "metadata": {},
   "source": [
    "# Linked List"
   ]
  },
  {
   "cell_type": "code",
   "execution_count": 18,
   "metadata": {},
   "outputs": [
    {
     "data": {
      "text/plain": [
       "3 -> 2 -> 1"
      ]
     },
     "execution_count": 18,
     "metadata": {},
     "output_type": "execute_result"
    }
   ],
   "source": [
    "class LinkedList:\n",
    "\n",
    "    # Node 'private' class:\n",
    "    class _Node:\n",
    "        def __init__(self, element, next = None):\n",
    "            self._element = element\n",
    "            self._next = next\n",
    "\n",
    "        @property\n",
    "        def element(self):\n",
    "            return self._element\n",
    "\n",
    "        @property\n",
    "        def next_node(self):\n",
    "            return self._next\n",
    "\n",
    "        @next_node.setter\n",
    "        def next_node(self, node):\n",
    "            self._next = node\n",
    "        \n",
    "        def __repr__(self):\n",
    "            return str(self.element)\n",
    "\n",
    "    # Linked list:\n",
    "    def __init__(self, values = None, side = 'head'):\n",
    "        self._size = 0\n",
    "        self._head = None\n",
    "        self._tail = None\n",
    "\n",
    "        if values is not None:\n",
    "            self.add(values, side=side)\n",
    "\n",
    "    def __iter__(self):\n",
    "        node = self._head\n",
    "        while node:\n",
    "            yield node.element\n",
    "            node = node.next_node\n",
    "    \n",
    "    def __len__(self):\n",
    "        return self._size\n",
    "\n",
    "    def __repr__(self):\n",
    "        return ' -> '.join([str(element) for element in self])\n",
    "\n",
    "    def is_empty(self):\n",
    "        return self._size == 0\n",
    "\n",
    "    @property\n",
    "    def values(self):\n",
    "        return [element for element in self]\n",
    "\n",
    "    def _add(self, element, side = 'head'):\n",
    "        if side == 'head' or side == 'tail':\n",
    "            if self.is_empty():\n",
    "                self._head = LinkedList._Node(element)\n",
    "                self._tail = self._head\n",
    "                self._size += 1\n",
    "            else:\n",
    "                if side == 'head':\n",
    "                    self._head = LinkedList._Node(element, self._head)\n",
    "                    self._size += 1            \n",
    "                elif side == 'tail':\n",
    "                    self._tail.next_node = LinkedList._Node(element)\n",
    "                    self._tail = self._tail.next_node\n",
    "                    self._size += 1\n",
    "        else:\n",
    "            raise Exception(\"\"\"Value of `side` parameter is either 'tail' or 'head'\"\"\")\n",
    "    \n",
    "    def add(self, elements, side = 'head'):\n",
    "        if not isinstance(elements, (list, tuple, dict, set)):\n",
    "            elements = elements,\n",
    "        for e in elements:\n",
    "            self._add(e, side = side)\n",
    "    \n",
    "    def remove(self, side = 'head'):\n",
    "        if self.is_empty():\n",
    "            raise Exception(\"\"\"The linked list is empty: no head to remove.\"\"\")\n",
    "        if side == 'head':\n",
    "            self._head = self._head.next_node\n",
    "            self._size -= 1\n",
    "            if self._size == 0: # Handle special case: removing from a 1-element list\n",
    "                self._tail = self._head\n",
    "        elif side == 'tail':\n",
    "            print('Tail not removed!\\\n",
    "                Removing the tail is not implemented in this singly linked list class,\\\n",
    "                because this operation would require the traversal of the entire singly linked list.\\\n",
    "                \\nSee the doubly linked lists implementation')\n",
    "        else:\n",
    "            raise Exception(\"\"\"Value of `side` parameter is either 'tail' or 'head'\"\"\")\n",
    "    \n",
    "    def head(self):\n",
    "        return self._head.element\n",
    "\n",
    "test = LinkedList()\n",
    "test.add(1)\n",
    "test.add([2, 3])\n",
    "test.add(0)\n",
    "test.remove()\n",
    "test"
   ]
  },
  {
   "cell_type": "code",
   "execution_count": 28,
   "metadata": {},
   "outputs": [],
   "source": [
    "test.add(7)"
   ]
  },
  {
   "cell_type": "code",
   "execution_count": 33,
   "metadata": {},
   "outputs": [],
   "source": [
    "test._head.next_node"
   ]
  },
  {
   "cell_type": "markdown",
   "metadata": {},
   "source": [
    "## Implementing a stack with a Singly Linked List\n",
    "\n",
    "In this case, all operations have a worst-case O(1) running time, whereas the first implementation relying on the standard ```list``` class has amortized O(1) complexity."
   ]
  },
  {
   "cell_type": "code",
   "execution_count": 36,
   "metadata": {},
   "outputs": [],
   "source": [
    "class Empty(Exception):\n",
    "    '''Error: attempting to access an element from an empty data structure.'''\n",
    "    pass\n",
    "\n",
    "class Stack2:\n",
    "    def __init__(self):\n",
    "        self._stack = LinkedList()\n",
    "\n",
    "    def is_empty(self):\n",
    "        return self._stack.is_empty()\n",
    "\n",
    "    def __len__(self):\n",
    "        return len(self._stack)\n",
    "\n",
    "    def __repr__(self):\n",
    "        return ''.join(\n",
    "            [str(value)+'\\n' for value in self._stack.values]\n",
    "            )\n",
    "    \n",
    "    def push(self, element):\n",
    "        self._stack.add(element)\n",
    "\n",
    "    def pop(self):\n",
    "        if self.is_empty():\n",
    "            raise Empty('Empty stack')\n",
    "        top = self.top()\n",
    "        self._stack.remove()\n",
    "        return top\n",
    "\n",
    "    def top(self):\n",
    "        if self.is_empty():\n",
    "            raise Empty('Empty stack')\n",
    "        return self._stack.head()"
   ]
  },
  {
   "cell_type": "code",
   "execution_count": 42,
   "metadata": {},
   "outputs": [
    {
     "name": "stdout",
     "output_type": "stream",
     "text": [
      "Stack:\n",
      "1\n",
      "2\n",
      "3\n",
      "\n",
      ".pop(): 1, .top(): 2\n",
      "\n",
      "Stack:\n",
      "2\n",
      "3\n",
      "\n"
     ]
    }
   ],
   "source": [
    "test = Stack2()\n",
    "len(test)\n",
    "test.push(3)\n",
    "test.push(2)\n",
    "test.push(1)\n",
    "print(f'Stack:\\n{test}')\n",
    "print(f'.pop(): {test.pop()}, .top(): {test.top()}\\n')\n",
    "print(f'Stack:\\n{test}')"
   ]
  }
 ],
 "metadata": {
  "kernelspec": {
   "display_name": "Python 3.10.6 64-bit",
   "language": "python",
   "name": "python3"
  },
  "language_info": {
   "codemirror_mode": {
    "name": "ipython",
    "version": 3
   },
   "file_extension": ".py",
   "mimetype": "text/x-python",
   "name": "python",
   "nbconvert_exporter": "python",
   "pygments_lexer": "ipython3",
   "version": "3.10.6"
  },
  "orig_nbformat": 4,
  "vscode": {
   "interpreter": {
    "hash": "916dbcbb3f70747c44a77c7bcd40155683ae19c65e1c03b4aa3499c5328201f1"
   }
  }
 },
 "nbformat": 4,
 "nbformat_minor": 2
}
