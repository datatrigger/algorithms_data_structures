{
 "cells": [
  {
   "cell_type": "markdown",
   "metadata": {},
   "source": [
    "# Brute force ❌\n",
    "\n",
    "First burst the first balloon, then the second one and so on. Recursively try to burst all the remaining balloons at each node in a DFS fashion. The tree has as many leaves as permutations of n, i.e. $n!$, because each path is an ordered selection of elements. There are as many nodes as k-permutations of n, $1 \\leq k \\leq n$, i.e $\\lfloor e \\cdot n! - 1 \\rfloor$, see [this post](https://math.stackexchange.com/questions/2019675/sum-of-permutations-from-0-to-n). So, the brute force algorithm has a $O(n!)$ runtime complexity. The callstack is at most size $n$."
   ]
  },
  {
   "cell_type": "code",
   "execution_count": 1,
   "metadata": {},
   "outputs": [
    {
     "data": {
      "text/plain": [
       "167"
      ]
     },
     "execution_count": 1,
     "metadata": {},
     "output_type": "execute_result"
    }
   ],
   "source": [
    "def dfs(nums: list[int]) -> int:\n",
    "    if len(nums) == 0:\n",
    "        return 0\n",
    "    output = float(\"-inf\")\n",
    "    for i in range(len(nums)):\n",
    "        coins = (\n",
    "            (nums[i - 1] if 0 <= i - 1 else 1)\n",
    "            * nums[i]\n",
    "            * (nums[i + 1] if i + 1 < len(nums) else 1)\n",
    "        )\n",
    "        balloon = nums.pop(i)\n",
    "        output = max(output, coins + dfs(nums))\n",
    "        nums.insert(i, balloon)\n",
    "    return output\n",
    "    output = dfs(nums)\n",
    "\n",
    "dfs([3,1,5,8])"
   ]
  },
  {
   "cell_type": "markdown",
   "metadata": {},
   "source": [
    "# Dynamic programming\n",
    "\n",
    "# Memoization of DFS backtracking ❌\n",
    "\n",
    "In the above DFS algorithm, several paths in the recursion tree lead to identical nodes i.e. identical subproblems. For instance, with test case `[3, 1, 5, 8]`, bursting 3 then 1 vs 1 then 3 lead to the same subproblem `[5, 8]`. Why? Because the DFS algorithm tries all the permutations of the input: any path corresponds to an ordered selection of elements, i.e a permutation. Then, if two paths are a permutation of one another, they lead to the same subproblem. The set of subproblems is exactly the set of subsequences of the input, that is the number of subsets, that is $2^n$.  \n",
    "  \n",
    "Another way to see it: how to build a subproblem? Choose a balloon to burst, then another one, and so on... This process builds a set. The subproblem is the complement of this set.\n",
    "  \n",
    "Anyway, $2^n$ subproblems are still to much for an efficient dynamic solution."
   ]
  },
  {
   "cell_type": "markdown",
   "metadata": {},
   "source": [
    "# What is better than subsequences?\n",
    "\n",
    "There are much less subarrays than subsequences. But if one bursts `5` first, then one cannot process the remaining subarrays `[3, 1]` and `[8]` independently."
   ]
  },
  {
   "cell_type": "markdown",
   "metadata": {},
   "source": []
  }
 ],
 "metadata": {
  "kernelspec": {
   "display_name": "Python 3",
   "language": "python",
   "name": "python3"
  },
  "language_info": {
   "codemirror_mode": {
    "name": "ipython",
    "version": 3
   },
   "file_extension": ".py",
   "mimetype": "text/x-python",
   "name": "python",
   "nbconvert_exporter": "python",
   "pygments_lexer": "ipython3",
   "version": "3.10.12"
  }
 },
 "nbformat": 4,
 "nbformat_minor": 2
}
