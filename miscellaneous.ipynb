{
 "cells": [
  {
   "attachments": {},
   "cell_type": "markdown",
   "metadata": {},
   "source": [
    "# Kadane's algorithm\n",
    "\n",
    "Find a non-empty subarray with the largest sum.\n",
    "\n",
    "## Brute force: O(n<sup>2</sup>) time complexity"
   ]
  },
  {
   "cell_type": "code",
   "execution_count": 18,
   "metadata": {},
   "outputs": [],
   "source": [
    "from unittest import TestCase\n",
    "class TestLargestSum(TestCase):\n",
    "    def test(self, algo):\n",
    "        self.assertEqual(algo(-1), -1)\n",
    "        self.assertEqual(algo(1), 1)\n",
    "        self.assertEqual(algo(1, -1, 3), 3)\n",
    "        self.assertEqual(algo(1, -2, 3, 2, -2), 5)\n",
    "\n",
    "\n",
    "def largest_sum_brute(*args: int) -> int:\n",
    "    max_sum = args[0] # float(\"-inf\") useless here, will be overwritten downstream\n",
    "    for i in range(len(args)):\n",
    "        curr_sum = 0\n",
    "        for j in range(i, len(args)):\n",
    "            curr_sum += args[j]\n",
    "            max_sum = max(max_sum, curr_sum)\n",
    "    return max_sum\n",
    "\n",
    "TestLargestSum().test(largest_sum_brute)"
   ]
  },
  {
   "attachments": {},
   "cell_type": "markdown",
   "metadata": {},
   "source": [
    "## Kadane's algorithm: O(n)"
   ]
  },
  {
   "cell_type": "code",
   "execution_count": 19,
   "metadata": {},
   "outputs": [],
   "source": [
    "def largest_sum_kadane(*args: int) -> int:\n",
    "    max_sum = curr = args[0]\n",
    "    for n in args[1:]:\n",
    "        curr = max(curr, 0) + n\n",
    "        max_sum = max(max_sum, curr)\n",
    "    return max_sum\n",
    "\n",
    "TestLargestSum().test(largest_sum_kadane)"
   ]
  },
  {
   "attachments": {},
   "cell_type": "markdown",
   "metadata": {},
   "source": [
    "## Divide and conquer approach"
   ]
  },
  {
   "cell_type": "code",
   "execution_count": 20,
   "metadata": {},
   "outputs": [],
   "source": [
    "def largest_sum_divide(*args: int) -> int:\n",
    "    pass\n",
    "\n",
    "# TestLargestSum().test(largest_sum_divide)"
   ]
  },
  {
   "attachments": {},
   "cell_type": "markdown",
   "metadata": {},
   "source": [
    "## Sliding window\n",
    "\n",
    "Return indices for the subarray with largest sum"
   ]
  },
  {
   "cell_type": "code",
   "execution_count": 22,
   "metadata": {},
   "outputs": [
    {
     "data": {
      "text/plain": [
       "(2, 3)"
      ]
     },
     "execution_count": 22,
     "metadata": {},
     "output_type": "execute_result"
    }
   ],
   "source": [
    "\n",
    "\n",
    "def largest_sum_window(*args: int) -> list[int, int]:\n",
    "    max_sum = curr = args[0]\n",
    "    l = l_max = r_max = 0\n",
    "    for r in range(1, len(args)):\n",
    "        if curr < 0:\n",
    "            l = r\n",
    "            curr = 0\n",
    "        curr += args[r]\n",
    "        if curr > max_sum:\n",
    "            max_sum, l_max, r_max = curr, l, r\n",
    "    return l_max, r_max\n",
    "\n",
    "largest_sum_window(1, -2, 3, 2, -2)"
   ]
  },
  {
   "attachments": {},
   "cell_type": "markdown",
   "metadata": {},
   "source": [
    "# Quick select\n",
    "\n",
    "Returns the kth smallest/largest element in an unsorted array. Time complexity:\n",
    "\n",
    "* Average: $O(n)$. Each step cuts the array in half (hopefully), and we only look at 1 half then. So, around $n + \\frac{n}{2} + \\frac{n}{4} ... = 2n$ operations\n",
    "* Worst-case: $O(n^2)$. If every time, the partitions are unbalanced (n-1 elements + 1 elements), then $n + (n-1) + ... = \\frac{n(n+1)}{2}$ operations are required\n",
    "\n",
    "Another solution is to use a heap which is $O(n + k\\,log (n))$ (heapify + pop k times). If $k << n$, then this solution is better than `array.sort()` + `array[k - 1]`, which would be $O(n \\, log (n))$."
   ]
  },
  {
   "cell_type": "code",
   "execution_count": 115,
   "metadata": {},
   "outputs": [],
   "source": [
    "# Constant space\n",
    "def kth_largest(array: list[int], k: int) -> int:\n",
    "    k = len(array) - k # kth largest is at this index or less (in the sorted array)\n",
    "\n",
    "    def quick_select(start: int, end: int) -> int:\n",
    "        left, pivot = start, array[end]\n",
    "        for right in range(start, end):\n",
    "            if array[right] < pivot:\n",
    "                array[left], array[right] = array[right], array[left]\n",
    "                left += 1\n",
    "        array[left], array[end] = array[end], array[left]\n",
    "\n",
    "        if k < left: return quick_select(start, left - 1)\n",
    "        elif k > left: return quick_select(left + 1, end)\n",
    "        else: return array[left] # Base case\n",
    "    \n",
    "    return quick_select(0, len(array) - 1)\n",
    "\n",
    "# O(n) space complexity\n",
    "from random import choice\n",
    "def kth_largest_2(array: list[int], k: int) -> int:\n",
    "    if len(array) == 1:\n",
    "        return array[0]\n",
    "    \n",
    "    pivot = choice(array)\n",
    "    left = [n for n in array if n < pivot]\n",
    "    center = [n for n in array if n == pivot]\n",
    "    right = [n for n in array if n > pivot]\n",
    "\n",
    "    if len(right) >= k:\n",
    "        return kth_largest_2(right, k)\n",
    "    elif  len(right) + len(center) >= k > len(right):\n",
    "        return pivot\n",
    "    else:\n",
    "        return kth_largest_2(left, k - len(center) - len(right))"
   ]
  }
 ],
 "metadata": {
  "kernelspec": {
   "display_name": "Python 3",
   "language": "python",
   "name": "python3"
  },
  "language_info": {
   "codemirror_mode": {
    "name": "ipython",
    "version": 3
   },
   "file_extension": ".py",
   "mimetype": "text/x-python",
   "name": "python",
   "nbconvert_exporter": "python",
   "pygments_lexer": "ipython3",
   "version": "3.10.6"
  },
  "orig_nbformat": 4
 },
 "nbformat": 4,
 "nbformat_minor": 2
}
