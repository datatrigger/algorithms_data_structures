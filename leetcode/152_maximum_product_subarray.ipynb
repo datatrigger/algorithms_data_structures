{
 "cells": [
  {
   "cell_type": "markdown",
   "metadata": {},
   "source": [
    "# TLE - Brute force - Iterative\n",
    "\n",
    "Compute all subarrays and their product, retain max product.  \n",
    "Time complexity: $O(n^3)$ when the entire product of `nums[i:j]` is recomputed for every $0 \\leq i < j \\leq len(nums)$. If a running product is used, then the time complexity drops to $O(n²)$."
   ]
  },
  {
   "cell_type": "code",
   "execution_count": 7,
   "metadata": {},
   "outputs": [
    {
     "data": {
      "text/plain": [
       "(6, 0)"
      ]
     },
     "execution_count": 7,
     "metadata": {},
     "output_type": "execute_result"
    }
   ],
   "source": [
    "from functools import reduce\n",
    "\n",
    "def brute_force_cube(nums: list[int]) -> int:\n",
    "    res = float(\"-inf\")\n",
    "    for i in range(len(nums)):\n",
    "        for j in range(i + 1, len(nums) + 1):\n",
    "            subproduct = reduce(lambda x, y: x * y, nums[i:j])\n",
    "            res = max(res, subproduct)\n",
    "    return res\n",
    "\n",
    "def brute_force_square(nums: list[int]) -> int:\n",
    "    res = float(\"-inf\")\n",
    "    for i in range(len(nums)):\n",
    "        subproduct = 1\n",
    "        for j in range(i, len(nums)):\n",
    "            subproduct *= nums[j] # Lowers the time complexity from O(n3) to O(n2)\n",
    "            res = max(res, subproduct)\n",
    "    return res\n",
    "\n",
    "nums1 = [2,3,-2,4]\n",
    "nums2 = [-2,0,-1]\n",
    "brute_force_cube(nums1), brute_force_cube(nums2)"
   ]
  },
  {
   "cell_type": "code",
   "execution_count": 8,
   "metadata": {},
   "outputs": [
    {
     "data": {
      "text/plain": [
       "(6, 0)"
      ]
     },
     "execution_count": 8,
     "metadata": {},
     "output_type": "execute_result"
    }
   ],
   "source": [
    "brute_force_square(nums1), brute_force_square(nums2)"
   ]
  },
  {
   "cell_type": "markdown",
   "metadata": {},
   "source": [
    "# TLE - Brute force - Recursive\n",
    "\n",
    "Both iterative brute force solutions compute 'overlapping' products (factor-wise) in each outer loop, e.g. for $a = [a_0, a_1, a_2]$:  \n",
    "\n",
    "$a_0, \\, a_0 \\cdot a_1, \\, a_0 \\cdot a_1 \\cdot a_2$  \n",
    "$\\qquad \\quad \\, a_1, \\quad \\ \\ \\, \\, a_1 \\cdot a_2$  \n",
    "$\\qquad \\qquad \\qquad \\qquad a_2$\n",
    "\n",
    "The above layout of the products suggests there might be a way to leverage information from indices $j > i$ in order to compute a result for index $i$, i.e recursively from one row to the row above. For instance, if we have determined that $a_1 \\cdot a_2 > 0$ , then we don't need to compute the first 3 products:\n",
    "* If $a_0 > 0$, then the result is $a_0 \\cdot (a_1 \\cdot a_2)$\n",
    "* If $a_0 = 0$, then the result is $a_1 \\cdot a_2$\n",
    "* If $a_0 < 0$, then the result is $a_1 \\cdot a_2$\n",
    "\n",
    "This operation is $O(1)$, as opposed to $O(n)$ for the computation of all the products of the subarrays starting with $a_0$.  \n",
    "\n",
    "Unfortunately, we can not tackle the exact problem at hand recursively. Take `nums = [2, -1, 3]` and say `f` is a recursive function that returns something like the maximum subarray product, or a valid subarray, or both. `f([-1, 3])` is 3 with subarray `[3]`. But that does not help to recursively determine `f([2, -1, 3])`! Because `2 * f([-1, 3])` = `2 * 3` = `6` is not a valid answer: the `2` and the `3` are not contiguous! We're stuck.  \n",
    "\n",
    "Wait, what if `f(i)` returned the maximum product for subarrays **starting at index i**? Ok, but we want the maximum product for all subarrays, not just the ones starting at index `i`. Well, if we compute `f(i)` for each starting index `i`, then the maximum product subarray is $max \\{ f(i) / 0 \\leq i < N\\}$.\n",
    "\n",
    "I won't detail the inner behavior of `f` which is detailed in a lot of solutions including the editorial."
   ]
  },
  {
   "cell_type": "code",
   "execution_count": 9,
   "metadata": {},
   "outputs": [
    {
     "data": {
      "text/plain": [
       "6"
      ]
     },
     "execution_count": 9,
     "metadata": {},
     "output_type": "execute_result"
    }
   ],
   "source": [
    "def f(i: int) -> tuple[int, int]:\n",
    "    if i == len(nums) - 1:\n",
    "        return nums[-1], nums[-1]\n",
    "    m, M = f(i + 1)\n",
    "    curr = nums[i]\n",
    "    new_m = min(curr, curr * m, curr * M)\n",
    "    new_M = max(curr, curr * m, curr * M)\n",
    "    return new_m, new_M\n",
    "\n",
    "def mps_rec_squared(nums):\n",
    "    return max([f(i)[1] for i in range(len(nums))])\n",
    "\n",
    "nums = [2, 3, -2, 4]\n",
    "mps_rec_squared(nums)"
   ]
  },
  {
   "cell_type": "markdown",
   "metadata": {},
   "source": [
    "# Recursive\n",
    "\n",
    "To lower the time complexity down to $O(n²)$, take advantage of the recursive calls to compute the current max up until 'now' (meaning now in the call stack)."
   ]
  },
  {
   "cell_type": "code",
   "execution_count": 10,
   "metadata": {},
   "outputs": [
    {
     "data": {
      "text/plain": [
       "6"
      ]
     },
     "execution_count": 10,
     "metadata": {},
     "output_type": "execute_result"
    }
   ],
   "source": [
    "def f(i: int) -> tuple[int, int, int]:\n",
    "    # Base case\n",
    "    if i == len(nums) - 1:\n",
    "        last = nums[-1]\n",
    "        return last, last, last\n",
    "    \n",
    "    # Recursion\n",
    "    m, M, max_so_far = f(i + 1)\n",
    "    curr = nums[i]\n",
    "    new_m = min(curr, curr * m, curr * M)\n",
    "    new_M = max(curr, curr * m, curr * M)\n",
    "    max_so_far = max(max_so_far, new_M)\n",
    "    return new_m, new_M, max_so_far\n",
    "\n",
    "def recursive_mps(nums: list[int]) -> int:\n",
    "    return f(0)[-1]\n",
    "\n",
    "nums = [2,3,-2,4]\n",
    "recursive_mps(nums)"
   ]
  },
  {
   "cell_type": "markdown",
   "metadata": {},
   "source": [
    "# Dynamic Programming\n",
    "\n",
    "Start from the base case and iteratively climb up the call stack. The order of the processing does not have any consequence on the result so we can reverse the logic and go from left to right."
   ]
  },
  {
   "cell_type": "markdown",
   "metadata": {},
   "source": [
    "def "
   ]
  }
 ],
 "metadata": {
  "kernelspec": {
   "display_name": "Python 3",
   "language": "python",
   "name": "python3"
  },
  "language_info": {
   "codemirror_mode": {
    "name": "ipython",
    "version": 3
   },
   "file_extension": ".py",
   "mimetype": "text/x-python",
   "name": "python",
   "nbconvert_exporter": "python",
   "pygments_lexer": "ipython3",
   "version": "3.9.2"
  }
 },
 "nbformat": 4,
 "nbformat_minor": 2
}
