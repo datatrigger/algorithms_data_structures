{
 "cells": [
  {
   "attachments": {},
   "cell_type": "markdown",
   "metadata": {},
   "source": [
    "# 1 Sorting\n",
    "\n",
    "Sort the list in reverse order at instanciation and for each append operation. Then, retain first k elements. Kth largest is always the first element of the list.\n",
    "\n",
    "Instanciation has time complexity $O(n \\, log(n))$. `add()` can be then be done in linear time because only the last element is not in the correct position."
   ]
  },
  {
   "cell_type": "code",
   "execution_count": 1,
   "metadata": {},
   "outputs": [],
   "source": [
    "from typing import List\n",
    "class KthLargestVeryNaive:\n",
    "    def __init__(self, k: int, nums: List[int]) -> None:\n",
    "        self.k = k\n",
    "        nums.sort(reverse = True)\n",
    "        self.nums = nums[:self.k]\n",
    "\n",
    "    def add(self, val: int) -> int:\n",
    "        self.nums.append(val)\n",
    "        self.nums.sort(reverse = True)\n",
    "        self.nums = self.nums[:self.k]\n",
    "        return self.nums[-1]"
   ]
  },
  {
   "cell_type": "code",
   "execution_count": 2,
   "metadata": {},
   "outputs": [
    {
     "name": "stdout",
     "output_type": "stream",
     "text": [
      "4\n",
      "5\n",
      "5\n",
      "8\n",
      "8\n"
     ]
    }
   ],
   "source": [
    "thirdLargest = KthLargestVeryNaive(3, [4, 5, 8, 2])\n",
    "print(thirdLargest.add(3)) # return 4\n",
    "print(thirdLargest.add(5)) #return 5\n",
    "print(thirdLargest.add(10)) # return 5\n",
    "print(thirdLargest.add(9)) # return 8\n",
    "print(thirdLargest.add(4)) #return 8"
   ]
  },
  {
   "attachments": {},
   "cell_type": "markdown",
   "metadata": {},
   "source": [
    "# 2 Binary Search\n",
    "\n",
    "Sort the list in reverse order at instanciation and retain first k elements. Kth largest is always the first element of the list.\n",
    "Use binary search for insertion.\n",
    "Instanciation still has time complexity $O(n \\, log(n))$. The \"binary search\" part of `add()` is done in logarithmic time,  but still, inserting in an array is $O(n)$. We could improve this again by using a deque for constant removal and insertions. But a heap is more straightforward."
   ]
  },
  {
   "cell_type": "code",
   "execution_count": 3,
   "metadata": {},
   "outputs": [],
   "source": [
    "def binary_insert_reverse(array, value):\n",
    "    # For an array sorted in reversed order\n",
    "    left, right = 0, len(array)\n",
    "    while left < right:\n",
    "        mid = (left + right) // 2\n",
    "        if array[mid] > value:\n",
    "            left = mid + 1\n",
    "        else:\n",
    "            right = mid\n",
    "    array.insert(left, value)\n",
    "    return\n",
    "\n",
    "class KthLargestNaive:\n",
    "\n",
    "    def __init__(self, k: int, nums: List[int]) -> None:\n",
    "        self.k = k\n",
    "        nums.sort(reverse = True)\n",
    "        self.nums = nums[:self.k]\n",
    "\n",
    "    def add(self, val: int) -> int:\n",
    "        binary_insert_reverse(self.nums, val)\n",
    "        self.nums = self.nums[:self.k]\n",
    "        return self.nums[-1]\n",
    "\n"
   ]
  },
  {
   "cell_type": "code",
   "execution_count": 4,
   "metadata": {},
   "outputs": [
    {
     "name": "stdout",
     "output_type": "stream",
     "text": [
      "4\n",
      "5\n",
      "5\n",
      "8\n",
      "8\n"
     ]
    }
   ],
   "source": [
    "thirdLargest = KthLargestNaive(3, [4, 5, 8, 2])\n",
    "print(thirdLargest.add(3)) # return 4\n",
    "print(thirdLargest.add(5)) #return 5\n",
    "print(thirdLargest.add(10)) # return 5\n",
    "print(thirdLargest.add(9)) # return 8\n",
    "print(thirdLargest.add(4)) #return 8"
   ]
  },
  {
   "attachments": {},
   "cell_type": "markdown",
   "metadata": {},
   "source": [
    "# 3 Heap"
   ]
  },
  {
   "cell_type": "code",
   "execution_count": 5,
   "metadata": {},
   "outputs": [
    {
     "name": "stdout",
     "output_type": "stream",
     "text": [
      "4\n",
      "5\n",
      "5\n",
      "8\n",
      "8\n"
     ]
    }
   ],
   "source": [
    "from heapq import heapify, heappush, heappop\n",
    "\n",
    "class KthLargest:\n",
    "\n",
    "    def __init__(self, k: int, nums: List[int]) -> None:\n",
    "        self.k = k\n",
    "        heapify(nums)\n",
    "        while len(nums) > k:\n",
    "            heappop(nums)\n",
    "        self.nums = nums\n",
    "\n",
    "    def add(self, val: int) -> int:\n",
    "        heappush(self.nums, val)\n",
    "        if len(self.nums) > self.k:\n",
    "            heappop(self.nums)\n",
    "        return self.nums[0]\n",
    "    \n",
    "thirdLargest = KthLargest(3, [4, 5, 8, 2])\n",
    "print(thirdLargest.add(3)) # return 4\n",
    "print(thirdLargest.add(5)) #return 5\n",
    "print(thirdLargest.add(10)) # return 5\n",
    "print(thirdLargest.add(9)) # return 8\n",
    "print(thirdLargest.add(4)) #return 8"
   ]
  },
  {
   "cell_type": "code",
   "execution_count": null,
   "metadata": {},
   "outputs": [],
   "source": []
  }
 ],
 "metadata": {
  "kernelspec": {
   "display_name": "Python 3",
   "language": "python",
   "name": "python3"
  },
  "language_info": {
   "codemirror_mode": {
    "name": "ipython",
    "version": 3
   },
   "file_extension": ".py",
   "mimetype": "text/x-python",
   "name": "python",
   "nbconvert_exporter": "python",
   "pygments_lexer": "ipython3",
   "version": "3.10.13"
  },
  "orig_nbformat": 4
 },
 "nbformat": 4,
 "nbformat_minor": 2
}
