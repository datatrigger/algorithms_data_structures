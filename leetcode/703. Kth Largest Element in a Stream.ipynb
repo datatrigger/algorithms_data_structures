{
 "cells": [
  {
   "cell_type": "code",
   "execution_count": 100,
   "metadata": {},
   "outputs": [],
   "source": [
    "from typing import List\n",
    "class KthLargestVeryNaive:\n",
    "    def __init__(self, k: int, nums: List[int]) -> None:\n",
    "        self.k = k\n",
    "        nums.sort(reverse = True)\n",
    "        self.nums = nums[:self.k]\n",
    "\n",
    "    def add(self, val: int) -> int:\n",
    "        self.nums.append(val)\n",
    "        self.nums.sort(reverse = True)\n",
    "        self.nums = self.nums[:self.k]\n",
    "        return self.nums[-1]\n"
   ]
  },
  {
   "cell_type": "code",
   "execution_count": 101,
   "metadata": {},
   "outputs": [
    {
     "name": "stdout",
     "output_type": "stream",
     "text": [
      "4\n",
      "5\n",
      "5\n",
      "8\n",
      "8\n"
     ]
    }
   ],
   "source": [
    "thirdLargest = KthLargestVeryNaive(3, [4, 5, 8, 2])\n",
    "print(thirdLargest.add(3)) # return 4\n",
    "print(thirdLargest.add(5)) #return 5\n",
    "print(thirdLargest.add(10)) # return 5\n",
    "print(thirdLargest.add(9)) # return 8\n",
    "print(thirdLargest.add(4)) #return 8"
   ]
  },
  {
   "cell_type": "code",
   "execution_count": 102,
   "metadata": {},
   "outputs": [],
   "source": [
    "def binary_insert_reverse(array, value):\n",
    "    # For an array sorted in reversed order\n",
    "    left, right = 0, len(array)\n",
    "    while left < right:\n",
    "        mid = (left + right) // 2\n",
    "        if array[mid] > value:\n",
    "            left = mid + 1\n",
    "        else:\n",
    "            right = mid\n",
    "    array.insert(left, value)\n",
    "    return\n",
    "\n",
    "class KthLargestNaive:\n",
    "\n",
    "    def __init__(self, k: int, nums: List[int]) -> None:\n",
    "        self.k = k\n",
    "        nums.sort(reverse = True)\n",
    "        self.nums = nums[:self.k]\n",
    "\n",
    "    def add(self, val: int) -> int:\n",
    "        binary_insert_reverse(self.nums, val)\n",
    "        self.nums = self.nums[:self.k]\n",
    "        return self.nums[-1]\n",
    "\n"
   ]
  },
  {
   "cell_type": "code",
   "execution_count": 103,
   "metadata": {},
   "outputs": [
    {
     "name": "stdout",
     "output_type": "stream",
     "text": [
      "4\n",
      "5\n",
      "5\n",
      "8\n",
      "8\n"
     ]
    }
   ],
   "source": [
    "thirdLargest = KthLargestNaive(3, [4, 5, 8, 2])\n",
    "print(thirdLargest.add(3)) # return 4\n",
    "print(thirdLargest.add(5)) #return 5\n",
    "print(thirdLargest.add(10)) # return 5\n",
    "print(thirdLargest.add(9)) # return 8\n",
    "print(thirdLargest.add(4)) #return 8"
   ]
  }
 ],
 "metadata": {
  "kernelspec": {
   "display_name": "Python 3",
   "language": "python",
   "name": "python3"
  },
  "language_info": {
   "codemirror_mode": {
    "name": "ipython",
    "version": 3
   },
   "file_extension": ".py",
   "mimetype": "text/x-python",
   "name": "python",
   "nbconvert_exporter": "python",
   "pygments_lexer": "ipython3",
   "version": "3.10.6"
  },
  "orig_nbformat": 4
 },
 "nbformat": 4,
 "nbformat_minor": 2
}
