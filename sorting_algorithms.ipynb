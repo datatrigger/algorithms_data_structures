{
 "cells": [
  {
   "attachments": {},
   "cell_type": "markdown",
   "metadata": {},
   "source": [
    "# Testing"
   ]
  },
  {
   "cell_type": "code",
   "execution_count": 34,
   "metadata": {},
   "outputs": [],
   "source": [
    "import unittest\n",
    "\n",
    "class TestSortingAlgo(unittest.TestCase):\n",
    "\n",
    "    def test_sort(self, sorting_algorithm):\n",
    "        self.assertEqual(sorting_algorithm([]), [], \"Empty list\")\n",
    "        self.assertEqual(sorting_algorithm([1]), [1], \"One-element list\")\n",
    "        self.assertEqual(sorting_algorithm([1, 1, 1]), [1, 1, 1], \"List of duplicates\")\n",
    "        self.assertEqual(sorting_algorithm([1, 2, 3]), [1, 2, 3], \"Sorted list\")\n",
    "        self.assertEqual(sorting_algorithm([7, 2, 5, 6, 1, 9]), [1, 2, 5, 6, 7, 9], \"Unsorted list\")\n",
    "        self.assertEqual(sorting_algorithm([7, 2, 1, 6, 1, 9, 5, 2]), [1, 1, 2, 2, 5, 6, 7, 9], \"Unsorted list with duplicates\")"
   ]
  },
  {
   "attachments": {},
   "cell_type": "markdown",
   "metadata": {},
   "source": [
    "# Selection-sort"
   ]
  },
  {
   "cell_type": "code",
   "execution_count": 38,
   "metadata": {},
   "outputs": [],
   "source": [
    "def selection_sort(array):\n",
    "    L = len(array)\n",
    "    for i in range(L-1):\n",
    "        current_min_idx = i\n",
    "        for j in range(i+1, L):\n",
    "            if array[j] < array[current_min_idx]:\n",
    "                current_min_idx = j\n",
    "        array[i], array[current_min_idx] = array[current_min_idx], array[i]\n",
    "    return array\n",
    "\n",
    "TestSortingAlgo().test_sort(sorting_algorithm = selection_sort)"
   ]
  },
  {
   "attachments": {},
   "cell_type": "markdown",
   "metadata": {},
   "source": [
    "### Time complexity\n",
    "\n",
    "Selection-sort has a O(n<sup>2</sup>) time complexity:\n",
    "* 1st loop does n-1 comparisons\n",
    "* 2nd loop does n-2 comparisons\n",
    "...\n",
    "* (n-1)th loop does 1 comparison\n",
    "\n",
    "(n-1)+(n-2)+...+1 = n(n-1)/2 = O(n<sup>2</sup>)"
   ]
  },
  {
   "attachments": {},
   "cell_type": "markdown",
   "metadata": {},
   "source": [
    "# Insertion-sort"
   ]
  },
  {
   "cell_type": "code",
   "execution_count": 41,
   "metadata": {},
   "outputs": [],
   "source": [
    "def insertion_sort(array):\n",
    "    L = len(array)\n",
    "    for i in range(1, L):\n",
    "        j = i-1\n",
    "        while j >= 0:\n",
    "            if array[j+1] < array[j]:\n",
    "                array[j+1], array[j] = array[j], array[j+1]\n",
    "                j -= 1\n",
    "            else:\n",
    "                break\n",
    "    return array\n",
    "\n",
    "TestSortingAlgo().test_sort(sorting_algorithm = insertion_sort)\n",
    "\n",
    "def insertion_sort_shorter(array):\n",
    "    L = len(array)\n",
    "    for i in range(1, L):\n",
    "        j = i-1\n",
    "        while j >= 0 and array[j+1] < array[j]:\n",
    "            array[j+1], array[j] = array[j], array[j+1]\n",
    "            j -= 1\n",
    "    return array\n",
    "\n",
    "TestSortingAlgo().test_sort(sorting_algorithm = insertion_sort)\n",
    "TestSortingAlgo().test_sort(sorting_algorithm = insertion_sort_shorter)"
   ]
  },
  {
   "attachments": {},
   "cell_type": "markdown",
   "metadata": {},
   "source": [
    "### Time complexity\n",
    "\n",
    "The reasoning is very similar to selection-sort, with two nested loops. The worst-case time complexity is (n-1)+(n-2)+...+1 = n(n-1)/2 = O(n<sup>2</sup>)"
   ]
  },
  {
   "attachments": {},
   "cell_type": "markdown",
   "metadata": {},
   "source": [
    "# Heap sort\n",
    "\n",
    "```\n",
    "def heap_sort(array):\n",
    "    L = len(array)\n",
    "    H = Heap()\n",
    "    for i in range(L):\n",
    "        element = L.pop()\n",
    "        H.add(element)\n",
    "    for i in range(L):\n",
    "        L.append(H.remove(element))\n",
    "    return L\n",
    "```\n",
    "\n",
    "In the first loop, the i<sup>th</sup> add operation has O(log(i)) time complexity because the heap has i entries. This is the same thing in the second loop (but kind of in the reverse order), so the overall time complexity is O[log(2) + ... + log(n)] = O(n!) = O(nlog(n))\n",
    "\n",
    "*Proof:*\n",
    "* log(n!) <= log (n<sup>n</sup>) = nlog(n)\n",
    "* log(n!) = log(2) + ... + log(n) >= log(2) + ... log(n/2 - 1) + log(n/2) + ... + log(n) >= log(2) * (n/2) + log(n/2) * (n/2) = (n/2) log(n)\n",
    "\n",
    "So log(n!) <= nlog(n) <= 2 log(n!), i.e nlog(n) = O(n!)"
   ]
  },
  {
   "cell_type": "markdown",
   "metadata": {},
   "source": []
  }
 ],
 "metadata": {
  "kernelspec": {
   "display_name": "Python 3",
   "language": "python",
   "name": "python3"
  },
  "language_info": {
   "codemirror_mode": {
    "name": "ipython",
    "version": 3
   },
   "file_extension": ".py",
   "mimetype": "text/x-python",
   "name": "python",
   "nbconvert_exporter": "python",
   "pygments_lexer": "ipython3",
   "version": "3.10.6"
  },
  "orig_nbformat": 4,
  "vscode": {
   "interpreter": {
    "hash": "916dbcbb3f70747c44a77c7bcd40155683ae19c65e1c03b4aa3499c5328201f1"
   }
  }
 },
 "nbformat": 4,
 "nbformat_minor": 2
}
