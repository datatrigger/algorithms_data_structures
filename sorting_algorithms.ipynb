{
 "cells": [
  {
   "attachments": {},
   "cell_type": "markdown",
   "metadata": {},
   "source": [
    "# Testing"
   ]
  },
  {
   "cell_type": "code",
   "execution_count": 5,
   "metadata": {},
   "outputs": [],
   "source": [
    "import unittest\n",
    "\n",
    "class TestSortingAlgo(unittest.TestCase):\n",
    "\n",
    "    def test_sort(self, sorting_algorithm):\n",
    "        self.assertEqual(sorting_algorithm([]), [], \"Empty list\")\n",
    "        self.assertEqual(sorting_algorithm([1]), [1], \"One-element list\")\n",
    "        self.assertEqual(sorting_algorithm([1, 1, 1]), [1, 1, 1], \"List of duplicates\")\n",
    "        self.assertEqual(sorting_algorithm([1, 2, 3]), [1, 2, 3], \"Sorted list\")\n",
    "        self.assertEqual(sorting_algorithm([1, 1, 1, 2, 2, 2, 2, 3]), [1, 1, 1, 2, 2, 2, 2, 3], \"Sorted list with duplicates\")\n",
    "        self.assertEqual(sorting_algorithm([7, 2, 5, 6, 1, 9]), [1, 2, 5, 6, 7, 9], \"Unsorted list\")\n",
    "        self.assertEqual(sorting_algorithm([7, 2, 1, 6, 1, 9, 5, 2]), [1, 1, 2, 2, 5, 6, 7, 9], \"Unsorted list with duplicates\")"
   ]
  },
  {
   "attachments": {},
   "cell_type": "markdown",
   "metadata": {},
   "source": [
    "# Selection-sort"
   ]
  },
  {
   "cell_type": "code",
   "execution_count": 38,
   "metadata": {},
   "outputs": [],
   "source": [
    "def selection_sort(array):\n",
    "    L = len(array)\n",
    "    for i in range(L-1):\n",
    "        current_min_idx = i\n",
    "        for j in range(i+1, L):\n",
    "            if array[j] < array[current_min_idx]:\n",
    "                current_min_idx = j\n",
    "        array[i], array[current_min_idx] = array[current_min_idx], array[i]\n",
    "    return array\n",
    "\n",
    "TestSortingAlgo().test_sort(sorting_algorithm = selection_sort)"
   ]
  },
  {
   "attachments": {},
   "cell_type": "markdown",
   "metadata": {},
   "source": [
    "## Selection-sort time complexity\n",
    "\n",
    "Selection-sort has a O(n<sup>2</sup>) time complexity:\n",
    "* 1st loop does n-1 comparisons\n",
    "* 2nd loop does n-2 comparisons\n",
    "...\n",
    "* (n-1)th loop does 1 comparison\n",
    "\n",
    "(n-1)+(n-2)+...+1 = n(n-1)/2 = O(n<sup>2</sup>)"
   ]
  },
  {
   "attachments": {},
   "cell_type": "markdown",
   "metadata": {},
   "source": [
    "# Insertion-sort"
   ]
  },
  {
   "cell_type": "code",
   "execution_count": 7,
   "metadata": {},
   "outputs": [],
   "source": [
    "def insertion_sort(array):\n",
    "    for i in range(1, len(array)):\n",
    "        j = i - 1\n",
    "        while j >= 0 and array[j] > array[j+1]:\n",
    "            array[j], array[j + 1] = array[j + 1], array[j]\n",
    "            j -= 1\n",
    "    return array\n",
    "\n",
    "TestSortingAlgo().test_sort(sorting_algorithm = insertion_sort)"
   ]
  },
  {
   "attachments": {},
   "cell_type": "markdown",
   "metadata": {},
   "source": [
    "### Insertion-sort time complexity\n",
    "\n",
    "The reasoning is very similar to selection-sort, with two nested loops. The worst-case time complexity is (n-1)+(n-2)+...+1 = n(n-1)/2 = O(n<sup>2</sup>)"
   ]
  },
  {
   "attachments": {},
   "cell_type": "markdown",
   "metadata": {},
   "source": [
    "# Heap sort\n",
    "\n",
    "```\n",
    "def heap_sort(array):\n",
    "    L = len(array)\n",
    "    H = Heap()\n",
    "    for i in range(L):\n",
    "        element = L.pop()\n",
    "        H.add(element)\n",
    "    for i in range(L):\n",
    "        L.append(H.remove(element))\n",
    "    return L\n",
    "```\n",
    "\n",
    "In the first loop, the i<sup>th</sup> add operation has O(log(i)) time complexity because the heap has i entries. This is the same thing in the second loop (but kind of in the reverse order), so the **overall time complexity is O[log(2) + ... + log(n)] = O(n!) = O(nlog(n))**\n",
    "\n",
    "*Proof:*\n",
    "* log(n!) <= log (n<sup>n</sup>) = nlog(n)\n",
    "* log(n!) = log(2) + ... + log(n) >= log(2) + ... log(n/2 - 1) + log(n/2) + ... + log(n) >= log(2) * (n/2) + log(n/2) * (n/2) = (n/2) log(n)\n",
    "\n",
    "So log(n!) <= nlog(n) <= 2 log(n!), i.e nlog(n) = O(n!)"
   ]
  },
  {
   "attachments": {},
   "cell_type": "markdown",
   "metadata": {},
   "source": [
    "# Merge sort\n",
    "\n",
    "A divide-and-conquer algorithm."
   ]
  },
  {
   "cell_type": "code",
   "execution_count": 61,
   "metadata": {},
   "outputs": [],
   "source": [
    "def merge_sort(array):\n",
    "    L = len(array)\n",
    "    # Base case\n",
    "    if L <= 1:\n",
    "        return array\n",
    "    # Recursive calls\n",
    "    a1, a2 = merge_sort(array[:L//2]), merge_sort(array[L//2:])\n",
    "    # Merge sorted arrays\n",
    "    i, j, l1, l2 = 0, 0, len(a1), len(a2)\n",
    "    while i + j < L:\n",
    "        if j == l2 or (i < l1 and a1[i] < a2[j]):\n",
    "            array[i+j] = a1[i]\n",
    "            i += 1\n",
    "        else:\n",
    "            array[i+j] = a2[j]\n",
    "            j += 1\n",
    "    return array\n",
    "\n",
    "TestSortingAlgo().test_sort(sorting_algorithm = merge_sort)"
   ]
  },
  {
   "attachments": {},
   "cell_type": "markdown",
   "metadata": {},
   "source": [
    "### Merge-sort time complexity\n",
    "\n",
    "The merge step has a O(l1+l2) time complexity. Now, the most intuitive way to understand the merge-sort time complexity is to look at the merge-sort tree. At depth i, there are 2<sup>i</sup> merged sequences which require O(n/2<sup>i</sup>) to be \"merge-sorted\" each. So, each level amount to O(n) processing time and there log(n) levels. Hence merge-sort is O(nlog(n))"
   ]
  },
  {
   "attachments": {},
   "cell_type": "markdown",
   "metadata": {},
   "source": [
    "# Quick-sort\n",
    "\n",
    "## 1) Common implementation"
   ]
  },
  {
   "cell_type": "code",
   "execution_count": 3,
   "metadata": {},
   "outputs": [],
   "source": [
    "def quick_sort_common(array, start, end):\n",
    "    # Base case: array of 0 or 1 elements can only be sorted\n",
    "    if start >= end:\n",
    "        return None\n",
    "    \n",
    "    # Partition input array\n",
    "    left = start\n",
    "    pivot = array[end]\n",
    "    for right in range(start, end):\n",
    "        if array[right] < pivot:\n",
    "            array[left], array[right] = array[right], array[left]\n",
    "            left += 1\n",
    "    array[left], array[end] = array[end], array[left]\n",
    "\n",
    "    quick_sort_common(array, start, left - 1)\n",
    "    quick_sort_common(array, left + 1, end)\n",
    "\n",
    "# Test\n",
    "def quick_sort_test(array):\n",
    "    quick_sort_common(array, 0, len(array)-1)\n",
    "    return array\n",
    "\n",
    "TestSortingAlgo().test_sort(sorting_algorithm = quick_sort_test)"
   ]
  },
  {
   "cell_type": "code",
   "execution_count": 4,
   "metadata": {},
   "outputs": [
    {
     "data": {
      "text/plain": [
       "[1, 2, 3, 4]"
      ]
     },
     "execution_count": 4,
     "metadata": {},
     "output_type": "execute_result"
    }
   ],
   "source": [
    "quick_sort_test([3, 2, 1, 4])"
   ]
  },
  {
   "attachments": {},
   "cell_type": "markdown",
   "metadata": {},
   "source": [
    "## Quick-sort time complexity\n",
    "\n",
    "Quick-sort runs in O(n<sup>2</sup>) worst-case time, but best-case and average complexity are O(nlog(n)).\n",
    "\n",
    "## 2) Unintuitive implementation from *Data Structures & Algorithms* (Goodrich, Tamassa, Goldwasser)"
   ]
  },
  {
   "cell_type": "code",
   "execution_count": 5,
   "metadata": {},
   "outputs": [],
   "source": [
    "def quick_sort_variant(array, start, end):\n",
    "  \n",
    "  # Base case: arrays with 0 or 1 element are already sorted\n",
    "  if start >= end:\n",
    "    return None\n",
    "\n",
    "  # Partitioning (often enclosed in helper function)\n",
    "  # 1) Put elements <= pivot on its left / elements >= pivot on its right\n",
    "  # 2) Get pivot's index to know where to recursively quick-sort next\n",
    "  i, j, pivot = start, end-1, array[end]\n",
    "  while i <= j:\n",
    "    while i <= j and array[i] < pivot:\n",
    "      i += 1\n",
    "    while i <= j and  pivot < array[j]:\n",
    "      j -= 1\n",
    "    if i <= j:\n",
    "      array[i], array[j] = array[j], array[i]\n",
    "      i += 1\n",
    "      j -= 1\n",
    "\n",
    "  # Finally, put the pivot back at the right index\n",
    "  array[i], array[end] = array[end], array[i]\n",
    "  \n",
    "  # Recursively quick-sort both remaining partitions\n",
    "  quick_sort_variant(array, start, i-1)\n",
    "  quick_sort_variant(array, i+1, end)\n",
    "\n",
    "# Test\n",
    "def quick_sort_test_2(array):\n",
    "    quick_sort_variant(array, 0, len(array)-1)\n",
    "    return array\n",
    "\n",
    "TestSortingAlgo().test_sort(sorting_algorithm = quick_sort_test_2)"
   ]
  },
  {
   "attachments": {},
   "cell_type": "markdown",
   "metadata": {},
   "source": [
    "### Details of above implementation\n",
    "\n",
    "1) Line 11: inequality must be large\n",
    "\n",
    "This ensures we enter the outer loop at least once, this way *i* can reach the *pivot* so that no irrelevant permutation is made at line 22. If the inequality is strict, then arrays like [1,2] become [2,1] at line 22.\n",
    "\n",
    "2) Line 12/14: inequality must be large when comparing *i* and *j*\n",
    "\n",
    "Otherwise condition at line 16 gets satisfied, which incur index *i* to be moved for no reason: try [2,2,1].\n",
    "\n",
    "Note: regarding the pivot comparison, the inequalities can be strict or large\n",
    "\n",
    "3) Line 16: inequality must be large\n",
    "\n",
    "Otherwise some arrays, e.g. [1,1], trigger infinite looping"
   ]
  },
  {
   "attachments": {},
   "cell_type": "markdown",
   "metadata": {},
   "source": [
    "# Bubble-sort"
   ]
  },
  {
   "cell_type": "code",
   "execution_count": 82,
   "metadata": {},
   "outputs": [],
   "source": [
    "def bubble_sort(array):\n",
    "    L=len(array)\n",
    "    for i in range(L-1):\n",
    "        swapped = False\n",
    "        for j in range(L-1-i):\n",
    "            if array[j] > array[j+1]:\n",
    "                array[j], array[j+1] = array[j+1], array[j]\n",
    "                swapped = True\n",
    "        if not swapped: # All elements are ordered. No need to proceed with next value of i\n",
    "            break\n",
    "    return array\n",
    "\n",
    "TestSortingAlgo().test_sort(sorting_algorithm = bubble_sort)"
   ]
  },
  {
   "attachments": {},
   "cell_type": "markdown",
   "metadata": {},
   "source": [
    "### Time complexity\n",
    "\n",
    "O(n<sup>2</sup>) worst-case and average-case time complexity. Bad performer even among the O(n<sup>2</sup>) family (insertion, selection)."
   ]
  },
  {
   "attachments": {},
   "cell_type": "markdown",
   "metadata": {},
   "source": [
    "# Bucket sort\n",
    "\n",
    "Applies when elements are in a finite range, e.g. [0, N]. Then, create a bucket for each value and count the number of the times the value appears in the original array. Finally, build the sorted array."
   ]
  },
  {
   "cell_type": "code",
   "execution_count": 24,
   "metadata": {},
   "outputs": [
    {
     "data": {
      "text/plain": [
       "[0, 0, 1, 2, 2, 2]"
      ]
     },
     "execution_count": 24,
     "metadata": {},
     "output_type": "execute_result"
    }
   ],
   "source": [
    "def bucket_sort(array, max_value):\n",
    "    # Count how many times each value appears in the array\n",
    "    counts = [0]*(max_value+1)\n",
    "    for i in range(len(array)):\n",
    "        counts[array[i]] = counts[array[i]] + 1\n",
    "    \n",
    "    # Build the sorted array\n",
    "    i = 0\n",
    "    for value, count in enumerate(counts):\n",
    "        for _ in range(count):\n",
    "            array[i] = value\n",
    "            i += 1\n",
    "    return array\n",
    "\n",
    "bucket_sort([2,2,0,1,0,2], 3)"
   ]
  }
 ],
 "metadata": {
  "kernelspec": {
   "display_name": "Python 3",
   "language": "python",
   "name": "python3"
  },
  "language_info": {
   "codemirror_mode": {
    "name": "ipython",
    "version": 3
   },
   "file_extension": ".py",
   "mimetype": "text/x-python",
   "name": "python",
   "nbconvert_exporter": "python",
   "pygments_lexer": "ipython3",
   "version": "3.10.6"
  },
  "orig_nbformat": 4,
  "vscode": {
   "interpreter": {
    "hash": "916dbcbb3f70747c44a77c7bcd40155683ae19c65e1c03b4aa3499c5328201f1"
   }
  }
 },
 "nbformat": 4,
 "nbformat_minor": 2
}
