{
 "cells": [
  {
   "attachments": {},
   "cell_type": "markdown",
   "metadata": {},
   "source": [
    "# Miscellaneous\n",
    "\n",
    "* The keys of ```dict``` are ordered since Python 3.6 (i.e. the order elements were inserted is preserved)\n",
    "\n",
    "* The ```and``` and ```or``` operators *short-circuit*, in that they do not evaluate the second operand if the result can be determined based on the value of the ﬁrst operand\n",
    "\n",
    "* Create 2D lists: ```array = [[0]*4 for _ in range(4)]``` --> ```array = [[0]*4]*4``` does not work since rows will be pointers to the first unique row\n",
    "\n",
    "* ```list += [4, 5]``` extends ```list``` whereas ```list = list + [4, 5]``` reassign ```list``` to a new list\n",
    "\n",
    "* Max and min integers are ```float('inf')``` and ```float('-inf')```\n",
    "\n",
    "* Iterable vs iterators vs generators\n",
    "    * Iterable: objects with an ```__iter__()``` or ```getitem()``` method that returns an iterator\n",
    "    * Iterators: objects with a current state + both an ```__iter__()``` (generally returning self) and ```__next__()``` methods\n",
    "    * Generators: functions returning an generator iterator (with keyword ```yield```)\n",
    "\n",
    "* ```a is b``` checks if identifiers ```a``` and ```b``` are aliases of the *same* object, whereas ```a == b``` checks of the objects identified by both identifies are deemed to be equivalent\n",
    "\n",
    "* Operators can be used with sets: ```<```/```<=```, ```|```, ```&```, ```^``` and ```-```\n",
    "\n",
    "# Generators\n",
    "\n",
    "An interesting example with multiple ```yield``` statements:"
   ]
  },
  {
   "cell_type": "code",
   "execution_count": 11,
   "metadata": {},
   "outputs": [
    {
     "data": {
      "text/plain": [
       "[0, 1, 0, 0]"
      ]
     },
     "execution_count": 11,
     "metadata": {},
     "output_type": "execute_result"
    }
   ],
   "source": [
    "arr=[0]*4\n",
    "arr[1]=1\n",
    "arr"
   ]
  },
  {
   "cell_type": "code",
   "execution_count": 5,
   "metadata": {},
   "outputs": [
    {
     "data": {
      "text/plain": [
       "[1, 100, 2, 50, 4, 25, 5, 20, 10]"
      ]
     },
     "execution_count": 5,
     "metadata": {},
     "output_type": "execute_result"
    }
   ],
   "source": [
    "def factors(n):\n",
    "    k=1\n",
    "    while k * k < n:\n",
    "        if n % k ==0:\n",
    "            yield k\n",
    "            yield n//k\n",
    "        k += 1\n",
    "    if k * k == n:\n",
    "        yield k\n",
    "\n",
    "list(factors(100))"
   ]
  },
  {
   "attachments": {},
   "cell_type": "markdown",
   "metadata": {},
   "source": [
    "# Comprehension\n",
    "\n",
    "Not for lists only!"
   ]
  },
  {
   "cell_type": "code",
   "execution_count": 6,
   "metadata": {},
   "outputs": [],
   "source": [
    "# Generators for squares up to integer n:\n",
    "\n",
    "n = 100\n",
    "\n",
    "lc = [k*k for k in range(1, n+1)] # List comprehension\n",
    "sc = {k*k for k in range(1, n+1)} # Set comprehension\n",
    "gc = (k*k for k in range(1, n+1)) # Generator comprehension\n",
    "dc = {k: k*k for k in range(1, n+1)}  # Dictionary comprehension"
   ]
  },
  {
   "attachments": {},
   "cell_type": "markdown",
   "metadata": {},
   "source": [
    "# ```dict``` tips\n",
    "\n",
    "* ```get()```: ```a_dict.get(key, value)``` returns ```a_dict[key]``` if key exists, else it returns ```value```\n",
    "\n",
    "* ```setdefault()```: ```a_dict.setdefault(key, value)``` returns ```a_dict[key]``` if key exists, else it sets ```a_dict[key]``` to ```value``` and returns ```value```. \n",
    "\n",
    "# ```collections.defaultdict```\n",
    "\n",
    "Useful to set default values to *any* key, e.g. ```defaultdict(list)```\n",
    "\n",
    "# ```collections.Counter```\n",
    "\n",
    "Counter is a subclass of dict that uses 0 as the default value for any missing element.\n",
    "\n",
    "```python\n",
    "from collections import Counter\n",
    "words = \"Count these words and words\".split()\n",
    "counts = Counter(words)\n",
    "counts.most_common(2)\n",
    "```\n",
    "\n",
    "# ```itertools```\n",
    "\n",
    "* ```itertools.permutations(say_a_list, r=2)```: returns all couples of elements in ```say_a_list```, with order taken into account\n",
    "* ```itertools.combinations(say_a_list, r=3)```: returns all triplets of elements in ```say_a_list```, without order taken into account\n",
    "* Cartesian product: ```itertools.product```\n",
    "\n",
    "# HashMap vs TreeMap\n",
    "\n",
    "These data structures are both maps:\n",
    "\n",
    "* TreeMap, e.g. ```sortedcontainers.SortedDict()```\n",
    "    * Keys are sorted\n",
    "    * Insert/Remove/Search are O(log(n)) (underlying structure is BST)\n",
    "    * Inorder traversal is O(n)\n",
    "* HashMap: e.g. ```dict```\n",
    "    * Keys are ordered, not sorted\n",
    "    * Insert/Remove/Search are O(1) (average, not worst-case)\n",
    "    * Inorder traversal is O(nlog(n))\n",
    "\n",
    "Duplicate keys are not allowed in both cases."
   ]
  },
  {
   "attachments": {},
   "cell_type": "markdown",
   "metadata": {},
   "source": []
  },
  {
   "cell_type": "markdown",
   "metadata": {},
   "source": []
  }
 ],
 "metadata": {
  "kernelspec": {
   "display_name": "Python 3.10.6 64-bit",
   "language": "python",
   "name": "python3"
  },
  "language_info": {
   "codemirror_mode": {
    "name": "ipython",
    "version": 3
   },
   "file_extension": ".py",
   "mimetype": "text/x-python",
   "name": "python",
   "nbconvert_exporter": "python",
   "pygments_lexer": "ipython3",
   "version": "3.10.6 (main, Nov 14 2022, 16:10:14) [GCC 11.3.0]"
  },
  "orig_nbformat": 4,
  "vscode": {
   "interpreter": {
    "hash": "916dbcbb3f70747c44a77c7bcd40155683ae19c65e1c03b4aa3499c5328201f1"
   }
  }
 },
 "nbformat": 4,
 "nbformat_minor": 2
}
