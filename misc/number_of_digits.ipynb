{
 "cells": [
  {
   "cell_type": "markdown",
   "metadata": {},
   "source": [
    "# Number of digits\n",
    "\n",
    "$\\forall n \\geq 1, 10^{i-1} \\leq n < 10^{i}$ has $i$ digits, so by applying the strictly increasing function $log_{10}$, $i = \\lfloor log_{10}(n) \\rfloor + 1$.\n",
    "\n",
    "Then, $log_{10}(x) = \\frac{ln(x)}{ln(10)} = \\frac{ln(x)}{ln(2)} \\times \\frac{ln(2)}{ln(10)} = \\frac{log_{2}(x)}{log_{2}(10)}$"
   ]
  },
  {
   "cell_type": "code",
   "execution_count": 2,
   "metadata": {},
   "outputs": [
    {
     "data": {
      "text/plain": [
       "'123 has 3 digits.'"
      ]
     },
     "execution_count": 2,
     "metadata": {},
     "output_type": "execute_result"
    }
   ],
   "source": [
    "from math import log\n",
    "n = 123\n",
    "f\"{n} has {int(log(n) / log(10)) + 1} digits.\""
   ]
  },
  {
   "cell_type": "code",
   "execution_count": 1,
   "metadata": {},
   "outputs": [
    {
     "name": "stdout",
     "output_type": "stream",
     "text": [
      "Method log - Elapsed time = 2.626673460006714 seconds.\n",
      "Method loop - Elapsed time = 53.707629442214966 seconds.\n",
      "Method string - Elapsed time = 2.488699436187744 seconds.\n"
     ]
    }
   ],
   "source": [
    "# Example: get first d leading digits\n",
    "\n",
    "from math import log\n",
    "from random import randint\n",
    "import time\n",
    "\n",
    "def leading_digits_log(n: int, digits: int = 2) -> int:\n",
    "    \"\"\"Return the first `d` leading digits of integer `n` using log base 10.\"\"\"\n",
    "    magnitude = int(log(n) / log(10)) + 1\n",
    "    return n // 10 ** (magnitude - digits)\n",
    "\n",
    "def leading_digits_loop(n: int, digits: int = 2) -> int:\n",
    "    \"\"\"Return the first `d` leading digits of integer `n` using a loop.\"\"\"\n",
    "    while n > 10 ** digits:\n",
    "        n //= 10\n",
    "    return n\n",
    "\n",
    "def leading_digits_str(n: int, digits: int = 2) -> int:\n",
    "    \"\"\"Return the first two leading digits of a number using string casting.\"\"\"\n",
    "    return str(n)[:digits]\n",
    "\n",
    "def leading_digits(n: int, digits: int = 2, method: str = \"log\") -> int:\n",
    "    \"\"\"\n",
    "    Return the first `d` leading digits of integer `n`\n",
    "    using method `method`: 'log', 'loop' or 'string'.\n",
    "    \"\"\"\n",
    "    if not isinstance(n, int):\n",
    "        print(f\"Input '{n}' is not an integer.\")\n",
    "        return\n",
    "    n = abs(n)\n",
    "    if n < 10 ** (digits - 1):\n",
    "        print(f\"Input {n} has strictly less than {digits} digits.\")\n",
    "        return\n",
    "    functions = {\n",
    "        \"log\": leading_digits_log,\n",
    "        \"loop\": leading_digits_loop,\n",
    "        \"string\": leading_digits_str\n",
    "    }\n",
    "    return functions[method](n=n, digits=digits)\n",
    "\n",
    "def time_leading_digits(\n",
    "        method: str,\n",
    "        sample_size: int = 10 ** 6,\n",
    "        max_value: int = 10 ** 200,\n",
    "        digits: int = 2\n",
    "    ) -> int:\n",
    "    \"\"\"\n",
    "    Display the time taken to compute the first `d` digits of `sample_size` integers.\n",
    "    The integers are randomly generated and have a value between 10 ** `digits` and `max_value`\n",
    "    \"\"\"\n",
    "    start_time = time.time()\n",
    "    for _ in range(sample_size):\n",
    "        n = randint(10 ** digits, max_value)\n",
    "        leading_digits(n=n, digits=digits, method=method)\n",
    "    end_time = time.time()\n",
    "    elapsed_time = end_time - start_time\n",
    "    print(f\"Method {method} - Elapsed time = {elapsed_time} seconds.\")\n",
    "    return\n",
    "\n",
    "def main() -> None:\n",
    "    methods = (\"log\", \"loop\", \"string\")\n",
    "    for method in methods:\n",
    "            time_leading_digits(method=method)\n",
    "\n",
    "if __name__ == \"__main__\":\n",
    "    main()"
   ]
  },
  {
   "cell_type": "markdown",
   "metadata": {},
   "source": [
    "* `leading_digits_log` has $O(1)$ time complexity in practice* and $0(1)$ space complexity\n",
    "* `leading_digits_loop` has $O(d)$ time complexity, with $d$ the number of digits of input, but $0(1)$ space complexity\n",
    "* `leading_digits_str` has $O(1)$ time but $O(n)$ space complexity\n",
    "\n",
    "*Because `log(n)` is approximated via its Taylor series, which is a sum of a bounded number of inverses. Then each inverse is again approximated by a method like Newton's. So in turn `log(n)` is a constant number of sums with `n` being the only variable. In theory, that would be $O(d)$."
   ]
  },
  {
   "cell_type": "markdown",
   "metadata": {},
   "source": []
  }
 ],
 "metadata": {
  "kernelspec": {
   "display_name": "Python 3",
   "language": "python",
   "name": "python3"
  },
  "language_info": {
   "codemirror_mode": {
    "name": "ipython",
    "version": 3
   },
   "file_extension": ".py",
   "mimetype": "text/x-python",
   "name": "python",
   "nbconvert_exporter": "python",
   "pygments_lexer": "ipython3",
   "version": "3.10.12"
  },
  "orig_nbformat": 4
 },
 "nbformat": 4,
 "nbformat_minor": 2
}
