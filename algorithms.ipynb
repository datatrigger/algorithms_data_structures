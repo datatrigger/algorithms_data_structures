{
 "cells": [
  {
   "cell_type": "code",
   "execution_count": null,
   "metadata": {},
   "outputs": [],
   "source": [
    "# p. 4\n",
    "def lattice(x: list[int], y: list[int]) -> list[int]:\n",
    "    n, m = len(x), len(y)\n",
    "    z = [None] * (n + m)\n",
    "    hold = 0\n",
    "    for k in range(n + m):\n",
    "        for i in range(min(n, k + 1)):\n",
    "            j = k - i\n",
    "            if j >= m:\n",
    "                continue\n",
    "            hold += x[i] * y[j]\n",
    "        z[k] = hold % 10\n",
    "        hold = hold // 10\n",
    "    return z\n",
    "\n",
    "x, y = [5, 2], [5]\n",
    "print(f\"lattice({x}, {y}) = {lattice(x, y)}\")\n",
    "x, y = [2], [5]\n",
    "print(f\"lattice({x}, {y})) = {lattice(x, y)}\")\n",
    "x, y = [0, 0, 1], [1]\n",
    "print(f\"lattice({x}, {y}) = {lattice(x, y)}\")"
   ]
  },
  {
   "cell_type": "code",
   "execution_count": null,
   "metadata": {},
   "outputs": [],
   "source": [
    "#p. 6\n",
    "def peasant_iter(x: int, y: int) -> int:\n",
    "    prod = 0\n",
    "    while x > 0:\n",
    "        prod += y if x % 2 else 0\n",
    "        x, y = x // 2, 2 * y\n",
    "    return prod\n",
    "\n",
    "print(peasant_iter(13, 2))\n",
    "\n",
    "def peasant_rec(x: int, y: int) -> int:\n",
    "    if x == 0:\n",
    "        return 0\n",
    "    \n",
    "    if x % 2 == 0:\n",
    "        return peasant_rec(x // 2, 2 * y)\n",
    "    else:\n",
    "        return y + peasant_rec(x // 2, 2 * y)\n",
    "\n",
    "print(peasant_iter(1, 0))\n",
    "print(peasant_iter(0, 1))\n",
    "print(peasant_iter(0, 0))\n",
    "print(peasant_iter(13, 2))\n",
    "print(peasant_iter(23, 3))"
   ]
  },
  {
   "cell_type": "markdown",
   "metadata": {},
   "source": []
  }
 ],
 "metadata": {
  "language_info": {
   "name": "python"
  }
 },
 "nbformat": 4,
 "nbformat_minor": 2
}
