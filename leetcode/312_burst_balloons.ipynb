{
 "cells": [
  {
   "cell_type": "markdown",
   "metadata": {},
   "source": [
    "# 1 Brute force ❌\n",
    "\n",
    "First burst the first balloon, then the second one and so on. Recursively try to burst all the remaining balloons at each node in a DFS fashion. The tree has as many leaves as permutations of n, i.e. $n!$, because each path is an ordered selection of elements. There are as many nodes as k-permutations of n, $1 \\leq k \\leq n$, i.e $\\lfloor e \\cdot n! - 1 \\rfloor$, see [this post](https://math.stackexchange.com/questions/2019675/sum-of-permutations-from-0-to-n). So, the brute force algorithm has a $O(n \\cdot n!)$ runtime complexity, since each call costs a $O(n)$ iteration on all considered balloons (at most $n$). The callstack is at most size $n$."
   ]
  },
  {
   "cell_type": "code",
   "execution_count": 1,
   "metadata": {},
   "outputs": [
    {
     "data": {
      "text/plain": [
       "167"
      ]
     },
     "execution_count": 1,
     "metadata": {},
     "output_type": "execute_result"
    }
   ],
   "source": [
    "def dfs(nums: list[int]) -> int:\n",
    "    if len(nums) == 0:\n",
    "        return 0\n",
    "    output = 0\n",
    "    for i in range(len(nums)):\n",
    "        coins = (\n",
    "            (nums[i - 1] if 0 <= i - 1 else 1)\n",
    "            * nums[i]\n",
    "            * (nums[i + 1] if i + 1 < len(nums) else 1)\n",
    "        )\n",
    "        balloon = nums.pop(i)\n",
    "        output = max(output, coins + dfs(nums))\n",
    "        nums.insert(i, balloon)\n",
    "    return output\n",
    "\n",
    "dfs([3,1,5,8])"
   ]
  },
  {
   "cell_type": "markdown",
   "metadata": {},
   "source": [
    "# 2 Memoization of DFS backtracking ❌\n",
    "\n",
    "In the above DFS algorithm, several paths in the recursion tree lead to identical nodes i.e. identical subproblems. For instance, with test case `[3, 1, 5, 8]`, bursting 3 then 1 vs 1 then 3 lead to the same subproblem `[5, 8]`. Why? Because the DFS algorithm tries all the permutations of the input: any path corresponds to an ordered selection of elements, i.e a permutation. Then, if two paths are a permutation of one another, they lead to the same subproblem. The set of subproblems is exactly the set of subsequences of the input, that is the number of subsets, that is $2^n$.  \n",
    "  \n",
    "Another way to see it: how to build a subproblem? Choose a balloon to burst, then another one, and so on... This process builds a set. The subproblem is the complement of this set.\n",
    "  \n",
    "Anyway, $2^n$ subproblems are still to much for an efficient dynamic solution."
   ]
  },
  {
   "cell_type": "markdown",
   "metadata": {},
   "source": [
    "# 3 What is better than subsequences?\n",
    "\n",
    "There are much less **subarrays** than subsequences. But if one bursts `5` first, then one cannot process the remaining subarrays `[3, 1]` and `[8]` independently, because 8 has now replaced 5 as a direct neighbor of 1. On the contrary, if 5 is bursted **last**, then the neighboring subarrays can be processed independently: we know for sure their ends will never \"touch\", since 5 was popped after all balloons of both subarrays.\n",
    "\n",
    "Recursive logic on a given subarray with bounds indexed `l` and `r`. Try bursting all the balloons between `l` and `r` included. Each considered balloon would be the last to be bursted in the array. In this case, their neighbors would be balloons at indices `l - 1` and `r + 1`.\n",
    "\n",
    "## 3.1 Reversed logic: backtracking with subarrays ❌\n",
    "\n",
    "Since we are still trying all possible ordered choices of balloons, the time complexity remains $O(n \\cdot n!)$ (see section 1).  \n",
    "Regarding memory, the callstack is at most of size $n$ as well. Even if that does not change the space complexity, there is also the insertion of the value `1` at the beginning of nums. Still, the space complexity is $O(n)$ overall."
   ]
  },
  {
   "cell_type": "code",
   "execution_count": 6,
   "metadata": {},
   "outputs": [
    {
     "data": {
      "text/plain": [
       "167"
      ]
     },
     "execution_count": 6,
     "metadata": {},
     "output_type": "execute_result"
    }
   ],
   "source": [
    "nums = [3, 1, 5, 8]\n",
    "nums.insert(0, 1)\n",
    "nums.append(1)\n",
    "\n",
    "def dfs(l: int, r: int) -> int:\n",
    "    if l > r:\n",
    "        return 0\n",
    "    output = 0\n",
    "    for i in range(l, r + 1):\n",
    "        coins = nums[l - 1] * nums[i] * nums[r + 1]\n",
    "        gain = coins + dfs(l, i - 1) + dfs(i + 1, r)\n",
    "        output = max(output, gain)\n",
    "    return output\n",
    "\n",
    "dfs(1, len(nums) - 2)"
   ]
  },
  {
   "cell_type": "markdown",
   "metadata": {},
   "source": [
    "## 3.2 Memoized backtracking (top-down) with subarrays ✅ \n",
    "\n",
    "Now the time complexity is finally polynomial: $n^2$ states (= subarrays) $\\times$ an iteration on at most $n$ balloons is $O(n^3)$.  \n",
    "The space complexity is $O(n^2)$ because the results for all possible subarrays are stored in the cache. This quadratic space 'eats' the linear space of the callstack + insertion at index 0 of `nums`."
   ]
  },
  {
   "cell_type": "code",
   "execution_count": 8,
   "metadata": {},
   "outputs": [
    {
     "data": {
      "text/plain": [
       "167"
      ]
     },
     "execution_count": 8,
     "metadata": {},
     "output_type": "execute_result"
    }
   ],
   "source": [
    "nums = [3, 1, 5, 8]\n",
    "nums.insert(0, 1)\n",
    "nums.append(1)\n",
    "cache = {}\n",
    "\n",
    "def dfs(l: int, r: int) -> int:\n",
    "    if l > r:\n",
    "        return 0\n",
    "    output = 0\n",
    "    for i in range(l, r + 1):\n",
    "        coins = nums[l - 1] * nums[i] * nums[r + 1]\n",
    "        if (l, i - 1) not in cache:\n",
    "            cache[(l, i - 1)] = dfs(l, i - 1)\n",
    "        if (i + 1, r) not in cache:\n",
    "            cache[(i + 1, r)] = dfs(i + 1, r)\n",
    "        gain = coins + cache[(l, i - 1)] + cache[(i + 1, r)]\n",
    "        output = max(output, gain)\n",
    "    return output\n",
    "\n",
    "dfs(1, len(nums) - 2)"
   ]
  },
  {
   "cell_type": "markdown",
   "metadata": {},
   "source": [
    "## 3.2 Dynamic programming (bottom-up) with subarrays ✅\n",
    "\n",
    "Still $O(n^3)$ for time and $O(n^2)$ for space complexity."
   ]
  },
  {
   "cell_type": "code",
   "execution_count": 12,
   "metadata": {},
   "outputs": [
    {
     "data": {
      "text/plain": [
       "167"
      ]
     },
     "execution_count": 12,
     "metadata": {},
     "output_type": "execute_result"
    }
   ],
   "source": [
    "nums = [3, 1, 5, 8]\n",
    "nums.insert(0, 1)\n",
    "nums.append(1)\n",
    "\n",
    "dp = [[0] * len(nums) for _ in range(len(nums))]\n",
    "for i in range(1, len(nums) - 1):\n",
    "    dp[i][i] = nums[i - 1] * nums[i] * nums[i + 1]\n",
    "for sublength in range(1, (len(nums) - 2) + 1): #len(nums) - 2 is the 'real' length of nums\n",
    "    for l in range(1, (len(nums) - 2) - sublength + 2):\n",
    "        r = l + sublength - 1\n",
    "        for i in range(l, r + 1):\n",
    "            gain = nums[l - 1] * nums[i] * nums[r + 1]\n",
    "            remaining = dp[l][i - 1] + dp[i + 1][r]\n",
    "            dp[l][r] = max(dp[l][r], gain + remaining)\n",
    "dp[1][len(nums) - 2]"
   ]
  }
 ],
 "metadata": {
  "kernelspec": {
   "display_name": "Python 3",
   "language": "python",
   "name": "python3"
  },
  "language_info": {
   "codemirror_mode": {
    "name": "ipython",
    "version": 3
   },
   "file_extension": ".py",
   "mimetype": "text/x-python",
   "name": "python",
   "nbconvert_exporter": "python",
   "pygments_lexer": "ipython3",
   "version": "3.10.12"
  }
 },
 "nbformat": 4,
 "nbformat_minor": 2
}
