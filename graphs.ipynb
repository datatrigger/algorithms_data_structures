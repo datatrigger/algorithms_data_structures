{
 "cells": [
  {
   "attachments": {},
   "cell_type": "markdown",
   "metadata": {},
   "source": [
    "# 1 Data structures\n",
    "\n",
    "## 1.a Matrix\n",
    "\n",
    "A common approach is to represent vertices with 0s with implicit edges (left, right, down, up). 1s mean \"no edge\".\n",
    "\n",
    "*Example:*"
   ]
  },
  {
   "cell_type": "code",
   "execution_count": 77,
   "metadata": {},
   "outputs": [],
   "source": [
    "graph=[\n",
    "    [0,1,1,0],\n",
    "    [0,0,1,0],\n",
    "    [1,1,0,0],\n",
    "    [0,0,0,0],\n",
    "]"
   ]
  },
  {
   "attachments": {},
   "cell_type": "markdown",
   "metadata": {},
   "source": [
    "## 1.b Adjacency matrix\n",
    "\n",
    "In this case; M[r=i][c=j] means an edge exists from vertice *i* to vertice *j*. This structure is not that common in CS because it has a O(V<sup>2</sup>) space complexity, even though the graph has only *V* vertices.\n",
    "\n",
    "## 1.c Adjacency list"
   ]
  },
  {
   "cell_type": "code",
   "execution_count": 78,
   "metadata": {},
   "outputs": [],
   "source": [
    "class Vertice:\n",
    "    def __init__(self, val):\n",
    "        self.val = val\n",
    "        self.neighbors = []"
   ]
  },
  {
   "attachments": {},
   "cell_type": "markdown",
   "metadata": {},
   "source": [
    "# 2 Matrix DFS\n",
    "\n",
    "Question: count unique paths from top left to bottom right. Only 0s are allowed, no more than 1 visit per node for a given path.\n",
    "\n",
    "## Architecture:\n",
    "\n",
    "```\n",
    "dfs(grid: list[list[int]], row: int, col: int, visited: set[tuple[int, int]]):\n",
    "\n",
    "    # Base case: invalid\n",
    "    if <OOB> or <Blocked> or <Visited>:\n",
    "        return 0\n",
    "    # Base case: invalid\n",
    "    if <Reached>:\n",
    "        return 1\n",
    "\n",
    "    # Recursive call\n",
    "    visit.add(row, col)\n",
    "    count = 0\n",
    "    count += dfs(<above|left|right|below>)\n",
    "    visit.remove(row, col)\n",
    "    \n",
    "    return count\n",
    "```\n",
    "\n",
    "## Complexity\n",
    "\n",
    "### Time complexity\n",
    "\n",
    "Intuition: a path can \"cover\" the entire matrix, adding to `n*m` nodes. At each step of the paths, a recursive call is made to up to 4 nodes. Hence the worst-case time complexity is $O(4^{n.m})$.\n",
    "\n",
    "### Space complexity\n",
    "\n",
    "A given path is composed of up to `n*m` nodes, hence the size of the recursive call stack can be $O(n.m)$ in the worst case."
   ]
  },
  {
   "cell_type": "code",
   "execution_count": 79,
   "metadata": {},
   "outputs": [
    {
     "data": {
      "text/plain": [
       "array([[0, 0, 0, 0],\n",
       "       [1, 1, 0, 0],\n",
       "       [0, 0, 0, 1],\n",
       "       [0, 1, 0, 0]])"
      ]
     },
     "execution_count": 79,
     "metadata": {},
     "output_type": "execute_result"
    }
   ],
   "source": [
    "# DFS: implementation\n",
    "\n",
    "def dfs(grid: list[list[int]], row: int = 0, col: int = 0, visited: set[tuple[int, int]] = set()):\n",
    "    R, C = len(grid), len(grid[0])\n",
    "    # OOB or blocked or visited\n",
    "    base_case_invalid = min(row, col) < 0\\\n",
    "        or row >= R or col >= C\\\n",
    "        or grid[row][col] == 1\\\n",
    "        or (row, col) in visited\n",
    "\n",
    "    # Reached target\n",
    "    base_case_valid = ((row, col) == (R - 1, C - 1))\n",
    "\n",
    "    if base_case_invalid:\n",
    "        return 0\n",
    "\n",
    "    if base_case_valid:\n",
    "        return 1\n",
    "    \n",
    "    # Recursive calls\n",
    "    visited.add((row, col))\n",
    "    \n",
    "    count = 0\n",
    "    count += dfs(grid, row - 1, col, visited)\n",
    "    count += dfs(grid, row + 1, col, visited)\n",
    "    count += dfs(grid, row, col - 1, visited)\n",
    "    count += dfs(grid, row, col + 1, visited)\n",
    "\n",
    "    visited.remove((row, col))\n",
    "\n",
    "    return count\n",
    "\n",
    "from numpy import array\n",
    "m = array([[0]*4 for _ in range(4)])\n",
    "m[1,0] = m[1, 1] = m[3, 1] = m[2, 3] = 1\n",
    "m"
   ]
  },
  {
   "cell_type": "code",
   "execution_count": 80,
   "metadata": {},
   "outputs": [
    {
     "data": {
      "text/plain": [
       "2"
      ]
     },
     "execution_count": 80,
     "metadata": {},
     "output_type": "execute_result"
    }
   ],
   "source": [
    "dfs(m)"
   ]
  },
  {
   "attachments": {},
   "cell_type": "markdown",
   "metadata": {},
   "source": [
    "# 3 Matrix BFS\n",
    "\n",
    "Question: Length of shortest path from top left to bottom right.\n",
    "\n",
    "## Architecture:\n",
    "\n",
    "```\n",
    "bfs():\n",
    "    queue, visit = deque[(0, 0)], set[(0, 0)]\n",
    "    length = 1\n",
    "\n",
    "    while queue:\n",
    "        length += 1\n",
    "        for _ in [1..len(queue)]:\n",
    "\n",
    "            row, col = queue.popleft()\n",
    "\n",
    "            if <Reached>:\n",
    "                return length\n",
    "\n",
    "            for neighbor in neighbors(row, col):\n",
    "                if <OOB> or <Blocked> or <Visited>:\n",
    "                    continue\n",
    "                queue.append(neighbor)\n",
    "                visit.add(neighbor)         \n",
    "```\n",
    "\n",
    "## Complexity\n",
    "\n",
    "### Time complexity\n",
    "\n",
    "Worst-case scenario, all the nodes are visited exactly once (thanks to the maintained `set`), so the time complexity is $O(n.m)$\n",
    "\n",
    "### Space complexity\n",
    "\n",
    "All the created objects are $O(n.m)$.\n"
   ]
  },
  {
   "cell_type": "code",
   "execution_count": 81,
   "metadata": {},
   "outputs": [],
   "source": [
    "# BFS: implementation\n",
    "\n",
    "from collections import deque\n",
    "\n",
    "def bfs(grid: list[list[int]]) -> int:\n",
    "    queue = deque()\n",
    "    visited = set()\n",
    "    R, C = len(grid), len(grid[0])\n",
    "\n",
    "    visited.add((0, 0))\n",
    "    queue.append((0, 0))\n",
    "    length = -1\n",
    "    while queue:\n",
    "        length += 1\n",
    "        for _ in range(len(queue)):\n",
    "            row, col = queue.popleft()\n",
    "            if (row, col) == (R - 1, C - 1):\n",
    "                return length\n",
    "            \n",
    "            deltas = [(1, 0), (-1, 0), (0, 1), (0, -1)]\n",
    "            for dr, dc in deltas:\n",
    "                neighbor = (row + dr, col + dc)\n",
    "\n",
    "                invalid_neighbor = min(*neighbor) < 0 or neighbor[0] >= R or neighbor[1] >= C \\\n",
    "                    or grid[neighbor] == 1 \\\n",
    "                    or neighbor in visited\n",
    "                if invalid_neighbor:\n",
    "                    continue\n",
    "                \n",
    "                visited.add(neighbor) # Important to do ASAP: e.g. (1, 1) is a neighbor of both (0, 1) and (1, 0), which are neighbors of (0, 0)\n",
    "                queue.append(neighbor)"
   ]
  },
  {
   "cell_type": "code",
   "execution_count": 82,
   "metadata": {},
   "outputs": [
    {
     "data": {
      "text/plain": [
       "6"
      ]
     },
     "execution_count": 82,
     "metadata": {},
     "output_type": "execute_result"
    }
   ],
   "source": [
    "bfs(m)"
   ]
  },
  {
   "attachments": {},
   "cell_type": "markdown",
   "metadata": {},
   "source": [
    "# 4 Adjacency lists\n",
    "\n",
    "## 4.a Graph nodes"
   ]
  },
  {
   "cell_type": "code",
   "execution_count": 83,
   "metadata": {},
   "outputs": [],
   "source": [
    "class GraphNode:\n",
    "    def __init__(self, val, neighbors: list = []):\n",
    "        self.val = val\n",
    "        self.neighbors = neighbors"
   ]
  },
  {
   "attachments": {},
   "cell_type": "markdown",
   "metadata": {},
   "source": [
    "## 4.b Hash maps"
   ]
  },
  {
   "cell_type": "code",
   "execution_count": 84,
   "metadata": {},
   "outputs": [
    {
     "data": {
      "text/plain": [
       "{'A': ['B'], 'B': ['C', 'E'], 'C': ['E'], 'E': ['D'], 'D': []}"
      ]
     },
     "execution_count": 84,
     "metadata": {},
     "output_type": "execute_result"
    }
   ],
   "source": [
    "# Example\n",
    "adj = {\"A\": [\"B\", \"C\"], \"B\": [\"A\"]}\n",
    "\n",
    "# Build an adjacency list from a list of directed edges\n",
    "edges = [[\"A\", \"B\"], [\"B\", \"C\"], [\"B\", \"E\"], [\"C\", \"E\"], [\"E\", \"D\"]]\n",
    "\n",
    "# defaultdict is not that useful here (save 1 line)\n",
    "# because a vertice that is only an arrival (e.g. \"C\") does not get added as key\n",
    "adj = {}\n",
    "for src, dst in edges:\n",
    "    if src not in adj:\n",
    "        adj[src] = []\n",
    "    if dst not in adj:\n",
    "        adj[dst] = []\n",
    "    adj[src].append(dst)\n",
    "\n",
    "adj"
   ]
  },
  {
   "attachments": {},
   "cell_type": "markdown",
   "metadata": {},
   "source": [
    "## 4.c Traversal algorithms"
   ]
  },
  {
   "cell_type": "code",
   "execution_count": 85,
   "metadata": {},
   "outputs": [],
   "source": [
    "# DFS\n",
    "\n",
    "def dfs(adj: dict[str: list[str]], src: str, dst: str, visited: set[str] = set()) -> int:\n",
    "\n",
    "    if src == dst:\n",
    "        return 1\n",
    "    \n",
    "    if src in visited:\n",
    "        return 0\n",
    "    \n",
    "    count = 0\n",
    "    visited.add(src)\n",
    "    for neighbor in adj[src]:\n",
    "        count += dfs(adj, neighbor, dst, visited)\n",
    "    visited.remove(src)\n",
    "    return count"
   ]
  },
  {
   "cell_type": "code",
   "execution_count": 86,
   "metadata": {},
   "outputs": [
    {
     "data": {
      "text/plain": [
       "2"
      ]
     },
     "execution_count": 86,
     "metadata": {},
     "output_type": "execute_result"
    }
   ],
   "source": [
    "dfs(adj, \"A\", \"E\")"
   ]
  },
  {
   "cell_type": "code",
   "execution_count": 87,
   "metadata": {},
   "outputs": [],
   "source": [
    "# BFS\n",
    "from collections import deque\n",
    "def bfs(adj: dict[str: list[str]], src: str, dst: str) -> int:\n",
    "    queue = deque()\n",
    "    visited = set()\n",
    "\n",
    "    queue.append(src)\n",
    "    visited.add(src)\n",
    "    length = -1\n",
    "\n",
    "    while queue:\n",
    "        length += 1\n",
    "        for _ in range(len(queue)):\n",
    "            current = queue.popleft()\n",
    "            if current == dst:\n",
    "                return length\n",
    "            for neighbor in adj[current]:\n",
    "                if neighbor not in visited:\n",
    "                    queue.append(neighbor)\n",
    "                    visited.add(neighbor)\n",
    "    return -1\n"
   ]
  },
  {
   "cell_type": "code",
   "execution_count": 88,
   "metadata": {},
   "outputs": [
    {
     "data": {
      "text/plain": [
       "2"
      ]
     },
     "execution_count": 88,
     "metadata": {},
     "output_type": "execute_result"
    }
   ],
   "source": [
    "bfs(adj, \"A\", \"E\")"
   ]
  },
  {
   "cell_type": "markdown",
   "metadata": {},
   "source": [
    "# 5 Shortest path algorithms\n",
    "\n",
    "## 5.a Dijkstra\n",
    "\n",
    "Implementation: heapq does not support updating priority queue keys, so instead the same node can be pushed several times, with different keys. It is only marked as visited when it is popped from the queue for the first time (and in such a case, the key is guaranteed to be minimal)."
   ]
  },
  {
   "cell_type": "code",
   "execution_count": 89,
   "metadata": {},
   "outputs": [
    {
     "name": "stdout",
     "output_type": "stream",
     "text": [
      "{0: 0, 1: 7, 2: 3, 3: 9, 4: 5}\n"
     ]
    }
   ],
   "source": [
    "import heapq\n",
    "\n",
    "def dijkstra_with_set(n, edges: list[tuple[str, str, int]], src: str) -> dict[str: int]:\n",
    "  # Convert edges to adjacency list\n",
    "  adj_list = {v: [] for v in range(n)}\n",
    "  for v, neighbor, distance in edges:\n",
    "     adj_list[v].append((neighbor, distance))\n",
    "  # Dijkstra\n",
    "  visited, shortest = set(), {v: float(\"inf\") for v in adj_list}\n",
    "  heap = [(0, src)]\n",
    "  while heap:\n",
    "      src_to_v, v = heapq.heappop(heap)\n",
    "      if v in visited:\n",
    "          continue\n",
    "      visited.add(v)\n",
    "      shortest[v] = src_to_v\n",
    "      for neighbor, v_to_neighbor in adj_list[v]:\n",
    "          # if neighbor not in visited: # Optional, this can just reduce the size of the heap \n",
    "          heapq.heappush(heap, (src_to_v + v_to_neighbor, neighbor))\n",
    "  return shortest\n",
    "\n",
    "print(dijkstra_with_set(n=5, edges=[[0,1,10],[0,2,3],[1,3,2],[2,1,4],[2,3,8],[2,4,2],[3,4,5]], src=0))"
   ]
  },
  {
   "cell_type": "code",
   "execution_count": 90,
   "metadata": {},
   "outputs": [
    {
     "name": "stdout",
     "output_type": "stream",
     "text": [
      "{0: 0, 2: 3, 4: 5, 1: 7, 3: 9}\n"
     ]
    }
   ],
   "source": [
    "# Using the dictionary `shortest` as the set of visited nodes:\n",
    "\n",
    "def dijkstra(n, edges: list[tuple[str, str, int]], src: str) -> dict[str: int]:\n",
    "  # Convert edges to adjacency list\n",
    "  adj_list = {v: [] for v in range(n)}\n",
    "  for v, neighbor, distance in edges:\n",
    "      adj_list[v].append((neighbor, distance))\n",
    "  # Dijkstra\n",
    "  shortest = {}\n",
    "  heap = [(0, src)]\n",
    "  while heap:\n",
    "      src_to_v, v = heapq.heappop(heap)\n",
    "      if v in shortest:\n",
    "          continue\n",
    "      shortest[v] = src_to_v\n",
    "      for neighbor, v_to_neighbor in adj_list[v]:\n",
    "          heapq.heappush(heap, (src_to_v + v_to_neighbor, neighbor))\n",
    "  return shortest\n",
    "\n",
    "print(dijkstra(n=5, edges=[[0,1,10],[0,2,3],[1,3,2],[2,1,4],[2,3,8],[2,4,2],[3,4,5]], src=0))"
   ]
  },
  {
   "cell_type": "markdown",
   "metadata": {},
   "source": [
    "## 5.b A*"
   ]
  },
  {
   "cell_type": "markdown",
   "metadata": {},
   "source": [
    "# 6 Topological Sort\n",
    "\n",
    "For Directed Acyclic Graphs:\n",
    "* Directed: who comes first in undirected edge (u, v)?\n",
    "* Acyclical: same problem, ordering nodes in a cycle is ambiguous"
   ]
  },
  {
   "cell_type": "code",
   "execution_count": 91,
   "metadata": {},
   "outputs": [
    {
     "name": "stdout",
     "output_type": "stream",
     "text": [
      "['A', 'C', 'E', 'B', 'D', 'F']\n",
      "['G', 'H', 'A', 'C', 'E', 'B', 'D', 'F']\n",
      "['G', 'H', 'A', 'C', 'E', 'B', 'D', 'F']\n"
     ]
    }
   ],
   "source": [
    "# Input graph\n",
    "edges = [\n",
    "    (\"A\", \"B\"),\n",
    "    (\"A\", \"C\"),\n",
    "    (\"B\", \"D\"),\n",
    "    (\"C\", \"E\"),\n",
    "    (\"D\", \"F\"),\n",
    "    (\"E\", \"F\"),\n",
    "    (\"G\", \"H\")\n",
    "]\n",
    "\n",
    "# Adjacency list\n",
    "graph = {}\n",
    "for src, dst in edges:\n",
    "    if src not in graph:\n",
    "        graph[src] = []\n",
    "    if dst not in graph:\n",
    "        graph[dst] = []\n",
    "    graph[src].append(dst)\n",
    "\n",
    "# Connected graph, knowing start node\n",
    "def top_sort_with_start(graph: dict[str: list[str]], start_node: str) -> list[str]:\n",
    "    res = []\n",
    "    visited = set()\n",
    "\n",
    "    def dfs_postorder(v: str) -> None:\n",
    "        if v in visited:\n",
    "            return\n",
    "        visited.add(v)\n",
    "        for nei in graph[v]:\n",
    "            dfs_postorder(nei)\n",
    "        res.append(v)\n",
    "    \n",
    "    dfs_postorder(start_node)\n",
    "    res.reverse()\n",
    "    return res\n",
    "\n",
    "print(top_sort_with_start(graph=graph, start_node=\"A\"))\n",
    "\n",
    "# General case\n",
    "def top_sort_no_cycle(graph: dict[str: list[str]]) -> list[str]:\n",
    "\n",
    "    def dfs_postorder(v: str) -> None:\n",
    "        if v in visited:\n",
    "            return\n",
    "        visited.add(v)\n",
    "        for nei in graph[v]:\n",
    "            dfs_postorder(nei)\n",
    "        res.append(v)\n",
    "\n",
    "    res, visited = [], set()\n",
    "    for v in graph:\n",
    "        dfs_postorder(v)\n",
    "    res.reverse()\n",
    "    return res\n",
    "\n",
    "print(top_sort_no_cycle(graph))\n",
    "\n",
    "# Topological sort with cycle detection\n",
    "\n",
    "class CycleDetectedError(Exception):\n",
    "    pass\n",
    "\n",
    "def top_sort(graph: dict[str: list[str]]) -> list[str]:\n",
    "    def dfs(v:str, path: set[str]) -> None:\n",
    "        if v in path:\n",
    "            raise CycleDetectedError(\"Could not run topological sort: cycle detected in input graph\")\n",
    "        if v in visited:\n",
    "            return\n",
    "        path.add(v)\n",
    "        visited.add(v)\n",
    "        for nei in graph[v]:\n",
    "            dfs(nei, path)\n",
    "        path.remove(v)\n",
    "        topsort.append(v)\n",
    "        return\n",
    "\n",
    "    visited = set()\n",
    "    topsort = []\n",
    "    for v in graph:\n",
    "        path = set()\n",
    "        dfs(v, path)\n",
    "    topsort.reverse()\n",
    "    return topsort\n",
    "\n",
    "print(top_sort(graph))"
   ]
  },
  {
   "cell_type": "markdown",
   "metadata": {},
   "source": [
    "# 7 Cycle detection - Directed graphs\n",
    "\n",
    "*Algrithms tested on leetcode's Course Schedule problem*\n",
    "\n",
    "With directed graphs, the nodes must be marked two distinct ways, e.g. 'explored' or 'being_explored', as opposed to the usual `visited` set. This is necessary to avoid wrongly identifying a cycle in such a configuration: `{A: [B, C], B: [D], C: [D], D: []}`\n",
    "\n",
    "## 7.a Using Topological Sort\n",
    "\n",
    "See previous section\n",
    "\n",
    "## 7.a Using standard DFS"
   ]
  },
  {
   "cell_type": "code",
   "execution_count": 92,
   "metadata": {},
   "outputs": [],
   "source": [
    "# Check `being_explored` before `explored`!!!\n",
    "# A node can be explored and not being_explored, but not being_explored and not explored!\n",
    "# To avoid this mistake for sure the current vertex can be marked as explored only at the end of the procedure\n",
    "\n",
    "def has_cycle_set(graph: dict[str: list[str]]) -> bool:\n",
    "    \n",
    "    def dfs(v: str) -> bool:\n",
    "        if v in being_explored:\n",
    "            return True\n",
    "        if v in explored:\n",
    "            return False\n",
    "        explored.add(v)\n",
    "        being_explored.add(v)\n",
    "        for nei in graph[v]:\n",
    "            if dfs(nei):\n",
    "                return True\n",
    "        being_explored.remove(v)\n",
    "        return False\n",
    "\n",
    "    for v in graph:\n",
    "        explored, being_explored = set(), set()\n",
    "        if dfs(v):\n",
    "            return True\n",
    "    return False\n",
    "\n",
    "# Feels a bit less natural but some recursive calls are avoided\n",
    "def has_cycle_set2(graph: dict[str: list[str]]) -> bool:\n",
    "    \n",
    "    def dfs(v: str) -> bool:\n",
    "        explored.add(v)\n",
    "        being_explored.add(v)\n",
    "        back_edge = False\n",
    "        for nei in graph[v]:\n",
    "            if nei in being_explored:\n",
    "                return True\n",
    "            if nei in explored:\n",
    "                continue\n",
    "            back_edge = back_edge or dfs(nei)\n",
    "        being_explored.remove(v)\n",
    "        return back_edge\n",
    "\n",
    "    for v in graph:\n",
    "        explored, being_explored = set(), set()\n",
    "        if dfs(v):\n",
    "            return True\n",
    "    return False"
   ]
  },
  {
   "cell_type": "code",
   "execution_count": 93,
   "metadata": {},
   "outputs": [],
   "source": [
    "from enum import Enum\n",
    "\n",
    "class Status(Enum):\n",
    "    NOT_EXPLORED, EXPLORED, BEING_EXPLORED = range(1, 4)\n",
    "\n",
    "def has_cycle_map(raph: dict[str: list[str]]) -> bool:\n",
    "\n",
    "    def dfs(v: str) -> bool:\n",
    "        status[v] = Status.BEING_EXPLORED\n",
    "        res = False\n",
    "        for neighbor in adj[v]:\n",
    "            if status[neighbor] == Status.EXPLORED:\n",
    "                continue\n",
    "            if status[neighbor] == Status.BEING_EXPLORED:\n",
    "                return True\n",
    "            res = res or dfs(neighbor, status)\n",
    "        status[v] = Status.EXPLORED\n",
    "        return res\n",
    "\n",
    "    for v in adj:\n",
    "        status = {node: Status.NOT_EXPLORED for node in adj}\n",
    "        if dfs(v, status):\n",
    "            return True\n",
    "    return False"
   ]
  },
  {
   "cell_type": "markdown",
   "metadata": {},
   "source": [
    "# 8 Cycle detection - Undirected graphs\n",
    "\n",
    "If the graph is connected, just count the number of edges E. If $E \\geq V$, then there must be a cycle.  \n",
    "\n",
    "Otherwise, the DFS method is simpler than for directed graphs because any encounter with a visited node means a cycle, except if the already visited node is the parent of the current node."
   ]
  },
  {
   "cell_type": "code",
   "execution_count": 94,
   "metadata": {},
   "outputs": [
    {
     "name": "stdout",
     "output_type": "stream",
     "text": [
      "[False, True, True]\n"
     ]
    }
   ],
   "source": [
    "# Adjacency list\n",
    "def build_graph(edges: list[tuple[str, str]]) -> dict[str: list[str]]:\n",
    "    graph = {}\n",
    "    for src, dst in edges:\n",
    "        if src not in graph:\n",
    "            graph[src] = []\n",
    "        if dst not in graph:\n",
    "            graph[dst] = []\n",
    "        graph[src].append(dst)\n",
    "        graph[dst].append(src)\n",
    "    return graph\n",
    "    \n",
    "def has_cycle_undirected(graph: dict[str: list[str]]) -> bool:\n",
    "    def dfs(v: str, p:str):\n",
    "        visited.add(v)\n",
    "        for nei in graph[v]:\n",
    "            if nei == p:\n",
    "                continue\n",
    "            if nei in visited or dfs(nei, v):\n",
    "                return True\n",
    "        return False\n",
    "\n",
    "    visited =set()\n",
    "    for v in graph:\n",
    "        if v in visited:\n",
    "            continue\n",
    "        if dfs(v, None):\n",
    "            return True\n",
    "    return False\n",
    "\n",
    "acyclic = [\n",
    "    (\"A\", \"B\"),\n",
    "    (\"A\", \"C\"),\n",
    "    (\"C\", \"D\"),\n",
    "    (\"D\", \"E\"),\n",
    "    (\"D\", \"G\"),\n",
    "    (\"E\", \"F\")\n",
    "]\n",
    "\n",
    "cyclic_connected = [\n",
    "    (\"A\", \"B\"),\n",
    "    (\"A\", \"C\"),\n",
    "    (\"C\", \"D\"),\n",
    "    (\"D\", \"E\"),\n",
    "    (\"D\", \"F\"),\n",
    "    (\"D\", \"G\"),\n",
    "    (\"E\", \"F\"),\n",
    "    (\"X\", \"Y\"),\n",
    "    (\"Y\", \"Z\")\n",
    "]\n",
    "\n",
    "cyclic_unconnected = [\n",
    "    (\"A\", \"B\"),\n",
    "    (\"A\", \"C\"),\n",
    "    (\"C\", \"D\"),\n",
    "    (\"D\", \"E\"),\n",
    "    (\"D\", \"F\"),\n",
    "    (\"D\", \"G\"),\n",
    "    (\"E\", \"F\"),\n",
    "    (\"X\", \"Y\"),\n",
    "    (\"Y\", \"Z\")\n",
    "]\n",
    "graphs = [build_graph(edges) for edges in (acyclic, cyclic_connected, cyclic_unconnected)]\n",
    "print([has_cycle_undirected(graph) for graph in graphs])"
   ]
  },
  {
   "cell_type": "markdown",
   "metadata": {},
   "source": [
    "# 9 Union-Find a.k.a Disjoint-Set\n",
    "\n",
    "Use-cases:\n",
    "* Count connected components\n",
    "* Detect cycles\n",
    "\n",
    "*Both implementations tested using Leetcode's Redundant Connection*\n",
    "\n",
    "## 9.a Core ideas\n",
    "\n",
    "Input:\n",
    "* ⚠️ Number of vertices: must be known upfront\n",
    "* List of edges\n",
    "\n",
    "Vanilla algorithm:\n",
    "* Initially, the data structures is composed of all the nodes with no edges, except self-references: each node is its own parent\n",
    "* For each edge, get the root parent (\"representative\") of each node, characterized by identity node = parent(node)\n",
    "    * If the roots are the same, then the input graph contains a cycle\n",
    "    * Else, connect the **roots** (the roots! Not the parents!)"
   ]
  },
  {
   "cell_type": "code",
   "execution_count": 1,
   "metadata": {},
   "outputs": [],
   "source": [
    "from __future__ import annotations\n",
    "\n",
    "class UnionFindNaive:\n",
    "    def __init__(self: UnionFindNaive, n_vertices: int) -> None:\n",
    "        self.parent = {vertex: vertex for vertex in range(1, n_vertices + 1)}\n",
    "\n",
    "    def find(self: UnionFindNaive, v: int) -> int:\n",
    "        while v != self.parent[v]:\n",
    "            v = self.parent[v]\n",
    "        return v\n",
    "    \n",
    "    def union(self: UnionFindNaive, edge: tuple[int, int]) -> bool:\n",
    "        v1, v2 = edge\n",
    "        root1, root2 = self.find(v1), self.find(v2)\n",
    "        if root1 == root2:\n",
    "            return False\n",
    "        self.parent[root2] = root1\n",
    "        return True"
   ]
  },
  {
   "cell_type": "code",
   "execution_count": 2,
   "metadata": {},
   "outputs": [
    {
     "name": "stdout",
     "output_type": "stream",
     "text": [
      "{1: 1, 2: 2, 3: 3, 4: 1, 5: 5}\n",
      "{1: 3, 2: 2, 3: 3, 4: 1, 5: 5}\n"
     ]
    },
    {
     "data": {
      "text/plain": [
       "False"
      ]
     },
     "execution_count": 2,
     "metadata": {},
     "output_type": "execute_result"
    }
   ],
   "source": [
    "uf = UnionFindNaive(5)\n",
    "uf.union((1, 4))\n",
    "print(uf.parent)\n",
    "uf.union((3, 4))\n",
    "print(uf.parent)\n",
    "uf.union((1, 3))"
   ]
  },
  {
   "cell_type": "code",
   "execution_count": 3,
   "metadata": {},
   "outputs": [
    {
     "data": {
      "text/plain": [
       "{1: 3, 2: 2, 3: 3, 4: 1, 5: 5}"
      ]
     },
     "execution_count": 3,
     "metadata": {},
     "output_type": "execute_result"
    }
   ],
   "source": [
    "uf.parent"
   ]
  },
  {
   "cell_type": "markdown",
   "metadata": {},
   "source": [
    "## 9.b Heuristics that make Union-Find efficient\n",
    "\n",
    "Quoting from [*Wikipedia*](https://en.wikipedia.org/wiki/Disjoint-set_data_structure)\n",
    "\n",
    "### i) Union by size / Union by rank (=height)\n",
    "\n",
    "> The choice of which node becomes the parent has consequences for the complexity of future operations on the tree. If it is done carelessly, trees can become excessively tall. For example, suppose that Union always made the tree containing x a subtree of the tree containing y. Begin with a forest that has just been initialized with elements 1, 2, 3, …, n and execute Union(1, 2), Union(2, 3), ..., Union(n - 1, n). The resulting forest contains a single tree whose root is n, and the path from 1 to n passes through every node in the tree. For this forest, the time to run Find(1) is O(n).\n",
    "\n",
    "Hence, before merging two trees, the size (number of descendants including self) or the rank (upper bound of height) of both roots are compared. The root with the largest value becomes the parent of the other root.\n",
    "\n",
    "*Note 1*: The *rank* of vertex V corresponds roughly to the *height* of the tree rooted at V. It is actually an upper bound of the rank: initially, the rank is equal to the height, but then applying a `.find()` operations may reduce the height of a given tree. The union by rank method avoids the overhead of maintaining heights for each `.find()` operation.\n",
    "\n",
    "*Note 2*: only the size/ranks of the root is maintained through a `.union()` operation because\n",
    "\n",
    "> It is clear from the above implementations that the size and rank of a node do not matter unless a node is the root of a tree. Once a node becomes a child, its size and rank are never accessed again.\n",
    "\n",
    "### ii) Path compression\n",
    "\n",
    "> Performing a Find operation presents an important opportunity for improving the forest. The time in a Find operation is spent chasing parent pointers, so a flatter tree leads to faster Find operations. When a Find is executed, there is no faster way to reach the root than by following each parent pointer in succession. However, the parent pointers visited during this search can be updated to point closer to the root. Because every element visited on the way to a root is part of the same set, this does not change the sets stored in the forest. But it makes future Find operations faster, not only for the nodes between the query node and the root, but also for their descendants. This updating is an important part of the disjoint-set forest's amortized performance guarantee.\n",
    "\n",
    "These two tricks decrease the amortized time complexity of both Union-Find operations to $O(\\alpha(n))$, where $\\alpha(n)$ is the inverse Ackermann function. This means that in practice, the **runtime complexiy is ~ constant**."
   ]
  },
  {
   "cell_type": "code",
   "execution_count": 5,
   "metadata": {},
   "outputs": [
    {
     "data": {
      "text/plain": [
       "True"
      ]
     },
     "execution_count": 5,
     "metadata": {},
     "output_type": "execute_result"
    }
   ],
   "source": [
    "from __future__ import annotations\n",
    "\n",
    "class UnionFind:\n",
    "    \n",
    "    def __init__(self: UnionFindNaive, n_vertices: int, find_func: str = \"iterative\") -> None:\n",
    "        self.parent = {vertex: vertex for vertex in range(1, n_vertices + 1)}\n",
    "        self.rank = {vertex: 0 for vertex in range(1, n_vertices + 1)}\n",
    "        if find_func in (\"iterative\", \"recursive\"):\n",
    "            self.find_func = find_func\n",
    "        else:\n",
    "            raise ValueError(\"find_func attribute can only be 'iterative' or 'recursive'\")\n",
    "\n",
    "    def find_iterative(self: UnionFindNaive, v: int) -> None|int:\n",
    "        root = self.parent[v]\n",
    "        while root != self.parent[root]:\n",
    "            root = self.parent[root]\n",
    "        while v != root:\n",
    "            tmp = self.parent[v]\n",
    "            self.parent[v] = root\n",
    "            v = tmp\n",
    "        return root\n",
    "            \n",
    "    def find_recursive(self: UnionFindNaive, v: int) -> None|int:\n",
    "        if v != self.parent[v]:\n",
    "            self.parent[v] = self.find_recursive(self.parent[v])\n",
    "        return self.parent[v]\n",
    "    \n",
    "    def find(self: UnionFindNaive, v: int):\n",
    "        if self.find_func == \"iterative\":\n",
    "            return self.find_iterative(v)\n",
    "        return self.find_recursive(v)\n",
    "    \n",
    "    def union(self: UnionFindNaive, edge: tuple[int, int]) -> bool:\n",
    "        v1, v2 = edge\n",
    "        root1, root2 = self.find(v1), self.find(v2)\n",
    "        if root1 == root2:\n",
    "            return False\n",
    "        if self.rank[root1] > self.rank[root2]:\n",
    "            self.parent[root2] = root1\n",
    "        elif self.rank[root1] < self.rank[root2]:\n",
    "            self.parent[root1] = root2\n",
    "        else:\n",
    "            self.parent[root1] = root2\n",
    "            self.rank[root2] += 1\n",
    "        return True\n",
    "    \n",
    "uf = UnionFind(5, \"recursive\")\n",
    "uf.union((1, 4))\n",
    "uf.union((3, 4))\n"
   ]
  },
  {
   "cell_type": "markdown",
   "metadata": {},
   "source": [
    "# 10 Minimum Spanning Trees\n",
    "\n",
    "* Tree: undirected graph where there is *exactly one path* between any pair of nodes $\\Longleftrightarrow$ acyclic connected undirected graph\n",
    "* Spanning tree: subgraph of undirected graph $G$ which includes all vertices of G"
   ]
  },
  {
   "cell_type": "code",
   "execution_count": 2,
   "metadata": {},
   "outputs": [
    {
     "data": {
      "text/plain": [
       "{'A': [('B', 10), ('C', 3)],\n",
       " 'B': [('A', 10), ('C', 4), ('D', 1)],\n",
       " 'C': [('A', 3), ('B', 4), ('D', 4), ('E', 4)],\n",
       " 'D': [('B', 1), ('C', 4), ('E', 2)],\n",
       " 'E': [('C', 4), ('D', 2)]}"
      ]
     },
     "execution_count": 2,
     "metadata": {},
     "output_type": "execute_result"
    }
   ],
   "source": [
    "edges = [\n",
    "    (\"A\", \"B\", 10),\n",
    "    (\"A\", \"C\", 3),\n",
    "    (\"B\", \"C\", 4),\n",
    "    (\"B\", \"D\", 1),\n",
    "    (\"C\", \"D\", 4),\n",
    "    (\"C\", \"E\", 4),\n",
    "    (\"D\", \"E\", 2)\n",
    "]\n",
    "\n",
    "# Adjacency list\n",
    "def build_weighted_adj_list(edges: list[tuple[str, str, int]]) -> dict[str: list[tuple[str, int]]]:\n",
    "    graph = {}\n",
    "    for src, dst, distance in edges:\n",
    "        if src not in graph:\n",
    "            graph[src] = []\n",
    "        if dst not in graph:\n",
    "            graph[dst] = []\n",
    "        graph[src].append((dst, distance))\n",
    "        graph[dst].append((src, distance))\n",
    "    return graph\n",
    "\n",
    "build_weighted_adj_list(edges)"
   ]
  },
  {
   "cell_type": "markdown",
   "metadata": {},
   "source": [
    "## 10.a Prim\n",
    "\n",
    "Greedy algorithm very similay to Dijkstra, it works well with an adjacency list as input.  \n",
    "  \n",
    "Core idea: start from any node, then keep track of the spanned nodes (`visited` hashset) and greedily add new edges using a min heap."
   ]
  },
  {
   "cell_type": "code",
   "execution_count": 3,
   "metadata": {},
   "outputs": [
    {
     "data": {
      "text/plain": [
       "10"
      ]
     },
     "execution_count": 3,
     "metadata": {},
     "output_type": "execute_result"
    }
   ],
   "source": [
    "import heapq\n",
    "\n",
    "def mst_prim(edges: list[tuple[str, str, int]]) -> int:\n",
    "    \"\"\"Returns the total weight of a minimun spanning tree of a given graph `adj_list` \"\"\"\n",
    "    adj_list = build_weighted_adj_list(edges)\n",
    "    start_node = next(iter(adj_list))\n",
    "    visited, heap = set(), [[0, start_node]]\n",
    "    total_weight = 0\n",
    "    while heap:\n",
    "        w, v = heapq.heappop(heap)\n",
    "        if v in visited:\n",
    "            continue\n",
    "        total_weight += w\n",
    "        visited.add(v)\n",
    "        for neighbor, w in adj_list[v]:\n",
    "            heapq.heappush(heap, [w, neighbor])\n",
    "    return total_weight if len(visited) == len(adj_list) else -1\n",
    "\n",
    "mst_prim(edges)"
   ]
  },
  {
   "cell_type": "markdown",
   "metadata": {},
   "source": [
    "Note for the second implementation: the start node's edges must be pushed to the min heap *before* the main loop."
   ]
  },
  {
   "cell_type": "code",
   "execution_count": 4,
   "metadata": {},
   "outputs": [
    {
     "data": {
      "text/plain": [
       "[['A', 'C', 3], ['C', 'B', 4], ['B', 'D', 1], ['D', 'E', 2]]"
      ]
     },
     "execution_count": 4,
     "metadata": {},
     "output_type": "execute_result"
    }
   ],
   "source": [
    "def mst_prim_edges(edges: list[tuple[str, str, int]]) -> list[tuple[str, str]]:\n",
    "    \"\"\"Returns the edges of a minimun spanning tree of a given graph `adj_list`\"\"\"\n",
    "    adj_list = build_weighted_adj_list(edges)\n",
    "    start_node = next(iter(adj_list))\n",
    "    visited, heap, mst = set(), [], []\n",
    "\n",
    "    visited.add(start_node)\n",
    "    for neighbor, w in adj_list[start_node]:\n",
    "        heapq.heappush(heap, [w, start_node, neighbor])\n",
    "\n",
    "    while heap:\n",
    "        w, src, dst = heapq.heappop(heap)\n",
    "        if dst in visited:\n",
    "            continue\n",
    "        visited.add(dst)\n",
    "        mst.append([src, dst, w])\n",
    "        for neighbor, w in adj_list[dst]:\n",
    "            heapq.heappush(heap, [w, dst, neighbor])\n",
    "    return mst\n",
    "\n",
    "mst_prim_edges(edges)"
   ]
  },
  {
   "cell_type": "markdown",
   "metadata": {},
   "source": [
    "## 10.b Kruskal\n",
    "\n",
    "Sort the edges by weights and initialize a UnionFind instance with the appropriate number of vertices. Add the edges one by one, skipping them if they create a cycle. Stop when the expected amount of edges have been found ($V - 1$)."
   ]
  },
  {
   "cell_type": "code",
   "execution_count": 8,
   "metadata": {},
   "outputs": [
    {
     "name": "stdout",
     "output_type": "stream",
     "text": [
      "[(2, 4, 1), (4, 5, 2), (1, 3, 3), (2, 3, 4)]\n"
     ]
    }
   ],
   "source": [
    "edges = [\n",
    "    (1, 2, 10),\n",
    "    (1, 3, 3),\n",
    "    (2, 3, 4),\n",
    "    (2, 4, 1),\n",
    "    (3, 4, 4),\n",
    "    (3, 5, 4),\n",
    "    (4, 5, 2)\n",
    "]\n",
    "\n",
    "def mst_kruskal(n_vertices: int, edges: list[tuple[int, int, int]]) -> list[tuple[int, int, int]]:\n",
    "    \"\"\"Returns the edges of a minimun spanning tree or an empty list if the graph is not connected\"\"\"\n",
    "    edges.sort(key= lambda t: t[-1])\n",
    "    uf, mst = UnionFind(n_vertices), []\n",
    "    for u, v, w in edges:\n",
    "        if not uf.union((u, v)):\n",
    "            continue\n",
    "        mst.append((u, v, w))\n",
    "        if len(mst) == n_vertices - 1:\n",
    "            return mst\n",
    "    return []\n",
    "\n",
    "print(mst_kruskal(5, edges))"
   ]
  }
 ],
 "metadata": {
  "kernelspec": {
   "display_name": "Python 3",
   "language": "python",
   "name": "python3"
  },
  "language_info": {
   "codemirror_mode": {
    "name": "ipython",
    "version": 3
   },
   "file_extension": ".py",
   "mimetype": "text/x-python",
   "name": "python",
   "nbconvert_exporter": "python",
   "pygments_lexer": "ipython3",
   "version": "3.10.12"
  },
  "orig_nbformat": 4,
  "vscode": {
   "interpreter": {
    "hash": "916dbcbb3f70747c44a77c7bcd40155683ae19c65e1c03b4aa3499c5328201f1"
   }
  }
 },
 "nbformat": 4,
 "nbformat_minor": 2
}
