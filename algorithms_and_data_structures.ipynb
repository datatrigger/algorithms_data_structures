{
 "cells": [
  {
   "cell_type": "markdown",
   "metadata": {},
   "source": [
    "# Algorithms and Data Structures in Python\n",
    "\n",
    "## 1. Python Primer\n",
    "\n",
    "### Miscellaneous notes:\n",
    "\n",
    "* The keys of ```dict``` are ordered since Python 3.6\n",
    "* > The ```and``` and ```or``` operators *short-circuit*, in that they do not evaluate the second\n",
    "operand if the result can be determined based on the value of the ﬁrst operand\n",
    "* ```a is b``` checks if identifiers ```a``` and ```b``` are aliases of the *same* object, whereas ```a == b``` checks of the objects identified by both identifies are deemed to be equivalent\n",
    "* Operators can be used with sets: ```<```/```<=```, ```|```, ```&```, ```^``` and ```-```\n",
    "* ```list += [4, 5]``` extends ```list``` whereas ```list = list + [4, 5]``` reassign ```list``` to a new list\n",
    "\n",
    "### Generators\n",
    "\n",
    "An interesting example with multiple ```yield``` statements:"
   ]
  },
  {
   "cell_type": "code",
   "execution_count": 1,
   "metadata": {},
   "outputs": [
    {
     "data": {
      "text/plain": [
       "[1, 100, 2, 50, 4, 25, 5, 20, 10]"
      ]
     },
     "execution_count": 1,
     "metadata": {},
     "output_type": "execute_result"
    }
   ],
   "source": [
    "def factors(n):\n",
    "    k=1\n",
    "    while k * k < n:\n",
    "        if n % k ==0:\n",
    "            yield k\n",
    "            yield n//k\n",
    "        k += 1\n",
    "    if k * k == n:\n",
    "        yield k\n",
    "\n",
    "list(factors(100))"
   ]
  },
  {
   "cell_type": "markdown",
   "metadata": {},
   "source": [
    "### Comprenhension\n",
    "\n",
    "Not for lists only!"
   ]
  },
  {
   "cell_type": "code",
   "execution_count": 4,
   "metadata": {},
   "outputs": [],
   "source": [
    "# Generators for squares up to integer n:\n",
    "\n",
    "n = 100\n",
    "\n",
    "lc = [k*k for k in range(1, n+1)] # List comprehension\n",
    "sc = {k*k for k in range(1, n+1)} # Set comprehension\n",
    "gc = (k*k for k in range(1, n+1)) # Generator comprehension\n",
    "dc = {k: k*k for k in range(1, n+1)}  # Dictionary comprehension"
   ]
  },
  {
   "cell_type": "code",
   "execution_count": null,
   "metadata": {},
   "outputs": [],
   "source": []
  }
 ],
 "metadata": {
  "kernelspec": {
   "display_name": "Python 3.10.6 64-bit",
   "language": "python",
   "name": "python3"
  },
  "language_info": {
   "codemirror_mode": {
    "name": "ipython",
    "version": 3
   },
   "file_extension": ".py",
   "mimetype": "text/x-python",
   "name": "python",
   "nbconvert_exporter": "python",
   "pygments_lexer": "ipython3",
   "version": "3.10.6"
  },
  "orig_nbformat": 4,
  "vscode": {
   "interpreter": {
    "hash": "916dbcbb3f70747c44a77c7bcd40155683ae19c65e1c03b4aa3499c5328201f1"
   }
  }
 },
 "nbformat": 4,
 "nbformat_minor": 2
}
