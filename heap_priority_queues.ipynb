{
 "cells": [
  {
   "attachments": {},
   "cell_type": "markdown",
   "metadata": {},
   "source": [
    "# Definition\n",
    "\n",
    "A (min) heap tree is a **binary** tree with two properties:\n",
    "* **tructure**: the binary tree is **complete**\n",
    "    * Each level has to be full except the last one\n",
    "    * In the last level, all the nodes are added 'left to right'\n",
    "* **Order**: Each node's value is **less** than all its descendants' values\n",
    "\n",
    "*Note: duplicates are allowed (generally not the case in BSTs)*\n",
    "\n",
    "# Implementation\n",
    "\n",
    "The underlying data structure is often an array starting at index 1. This way, for any node at index $i$, then:\n",
    "* The left child is at index $2 \\times i$\n",
    "* The right child is at index $2 \\times i + 1$\n",
    "* The parent is at position `i // 2`\n",
    "\n",
    "See [justification](https://cs.stackexchange.com/questions/87154/why-does-the-formula-2n-1-find-the-child-node-in-a-binary-heap)\n",
    "\n",
    "# Push\n",
    "\n",
    "Because of the structure propoerty, pushing a new value to the heap will necessarily add a new node in the last level, at the right of the \"last\" node. So, that's where the value to be pushed is inserted first. Then it is bubbled up to the right position by successive comparisons with the parent node.\n",
    "\n",
    "*Note: only the comparison with the parent is needed. If a parent and say its right child are swapped, then by transitivity the former right child (now parent) will be less than the values in the left subtree.*\n",
    "\n",
    "# Pop\n",
    "\n",
    "The intuition is to remove the head (min), then replace it with the min of the children and so on. But this destroys the structure property. Once again the trick is to accomodate the structure property: remove the \"last\" node and put it at the top of the heap, then bubble it down appropriately.\n",
    "\n",
    "# Heapify\n",
    "\n",
    "A way to turn an array of values into a heap in O(n) time complexity. A way to get the max value in an array or even to (heap) sort it, using `.heapify` + repeated `.pop()`.\n",
    "\n",
    "*How it works:*\n",
    "\n",
    "The structure property is satisfied out of the box but not the sorted property. Every value should be smaller than all of its descendants. The \"last\" node to have a descendant is at index `(len(array) - 1) // 2`"
   ]
  },
  {
   "cell_type": "code",
   "execution_count": 47,
   "metadata": {},
   "outputs": [],
   "source": [
    "class Heap: # Start-at-index-1 implementation\n",
    "    def __init__(self, array = None):\n",
    "        self.heap = [None]\n",
    "\n",
    "    def push(self, val):\n",
    "        self.heap.append(val)\n",
    "        i = len(self.heap) - 1\n",
    "        # Percolate up\n",
    "        while i > 1 and self.heap[i] < self.heap[i//2]:\n",
    "            self.heap[i], self.heap[i//2] = self.heap[i//2], self.heap[i]\n",
    "            i = i//2\n",
    "\n",
    "    def _percolate_down(self, i):\n",
    "        while 2*i < len(self.heap):\n",
    "            # Parent has 2 children AND right child is the smallest of the three\n",
    "            if 2*i+1 < len(self.heap) and self.heap[2*i+1] < self.heap[2*i] and self.heap[2*i+1] < self.heap[i]:\n",
    "                self.heap[i], self.heap[2*i+1] = self.heap[2*i+1], self.heap[i]\n",
    "                i = 2*i+1\n",
    "            # Only one child OR two children and left child is the smallest\n",
    "            elif self.heap[2*i] < self.heap[i]:\n",
    "                self.heap[i], self.heap[2*i] = self.heap[2*i], self.heap[i]\n",
    "                i = 2*i\n",
    "            else:\n",
    "                break\n",
    "\n",
    "    def pop(self):\n",
    "        # Edge cases\n",
    "        if len(self.heap) == 1:\n",
    "            return None\n",
    "        if len(self.heap) == 2:\n",
    "            return self.heap.pop()\n",
    "\n",
    "        # General case\n",
    "        head = self.heap[1]\n",
    "        self.heap[1] = self.heap.pop()\n",
    "        self._percolate_down(1)\n",
    "\n",
    "        return head\n",
    "\n",
    "    def heapify(self, array):\n",
    "        if not array:\n",
    "            self.heap = [0]\n",
    "\n",
    "        array.append(array[0])\n",
    "        array[0] = None\n",
    "\n",
    "        self.heap = array\n",
    "        current = (len(self.heap) - 1) // 2\n",
    "        while current > 0:\n",
    "            self._percolate_down(current)\n",
    "            current -= 1"
   ]
  },
  {
   "cell_type": "code",
   "execution_count": 42,
   "metadata": {},
   "outputs": [
    {
     "name": "stdout",
     "output_type": "stream",
     "text": [
      "[None, 2, 3, 21, 13, 8, 32]\n"
     ]
    }
   ],
   "source": [
    "test = Heap()\n",
    "test.push(13)\n",
    "test.push(3)\n",
    "test.push(21)\n",
    "test.push(8)\n",
    "test.push(2)\n",
    "test.push(32)\n",
    "\n",
    "print(test.heap)"
   ]
  },
  {
   "cell_type": "code",
   "execution_count": 48,
   "metadata": {},
   "outputs": [
    {
     "name": "stdout",
     "output_type": "stream",
     "text": [
      "[None, 2, 4, 7, 5, 12]\n"
     ]
    }
   ],
   "source": [
    "test.pop()\n",
    "print(test.heap)"
   ]
  },
  {
   "cell_type": "code",
   "execution_count": 49,
   "metadata": {},
   "outputs": [
    {
     "name": "stdout",
     "output_type": "stream",
     "text": [
      "[None, 1, 2, 7, 5, 4, 12]\n"
     ]
    }
   ],
   "source": [
    "test.heapify([12, 4, 5, 7, 1, 2])\n",
    "print(test.heap)"
   ]
  },
  {
   "cell_type": "code",
   "execution_count": 50,
   "metadata": {},
   "outputs": [
    {
     "name": "stdout",
     "output_type": "stream",
     "text": [
      "[None, 4, 6, 7]\n"
     ]
    }
   ],
   "source": [
    "test.heapify([4, 7, 6])\n",
    "print(test.heap)"
   ]
  }
 ],
 "metadata": {
  "kernelspec": {
   "display_name": "Python 3",
   "language": "python",
   "name": "python3"
  },
  "language_info": {
   "codemirror_mode": {
    "name": "ipython",
    "version": 3
   },
   "file_extension": ".py",
   "mimetype": "text/x-python",
   "name": "python",
   "nbconvert_exporter": "python",
   "pygments_lexer": "ipython3",
   "version": "3.10.6"
  },
  "orig_nbformat": 4,
  "vscode": {
   "interpreter": {
    "hash": "916dbcbb3f70747c44a77c7bcd40155683ae19c65e1c03b4aa3499c5328201f1"
   }
  }
 },
 "nbformat": 4,
 "nbformat_minor": 2
}
