{
 "cells": [
  {
   "attachments": {},
   "cell_type": "markdown",
   "metadata": {},
   "source": [
    "# Definition\n",
    "\n",
    "A (min) heap tree is a **binary** tree with two properties:\n",
    "* Structure: the binary tree is **complete**\n",
    "    * Each level has to be full except the last one\n",
    "    * In the last level, all the nodes are added 'left to right'\n",
    "* Order: Each node's value is **less** than all its descendants' values\n",
    "\n",
    "*Note: duplicates are allowed (generally not the case in BSTs)*\n",
    "\n",
    "# Implementation\n",
    "\n",
    "The underlying data structure is often an array starting at index 1. This way, for any node at index $i$, then:\n",
    "* The left child is at index $2 \\times i$\n",
    "* The right child is at index $2 \\times i + 1$\n",
    "* The parent is at position `i // 2`\n"
   ]
  },
  {
   "cell_type": "markdown",
   "metadata": {},
   "source": []
  }
 ],
 "metadata": {
  "kernelspec": {
   "display_name": "Python 3",
   "language": "python",
   "name": "python3"
  },
  "language_info": {
   "name": "python",
   "version": "3.10.6"
  },
  "orig_nbformat": 4,
  "vscode": {
   "interpreter": {
    "hash": "916dbcbb3f70747c44a77c7bcd40155683ae19c65e1c03b4aa3499c5328201f1"
   }
  }
 },
 "nbformat": 4,
 "nbformat_minor": 2
}
