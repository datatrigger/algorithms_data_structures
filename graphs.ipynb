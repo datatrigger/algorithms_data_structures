{
 "cells": [
  {
   "attachments": {},
   "cell_type": "markdown",
   "metadata": {},
   "source": [
    "# Data structures\n",
    "\n",
    "## 1) Matrix\n",
    "\n",
    "A common approach is to represent vertices with 0s with implicit edges (left, right, down, up). 1s mean \"no edge\".\n",
    "\n",
    "*Example:*"
   ]
  },
  {
   "cell_type": "code",
   "execution_count": 2,
   "metadata": {},
   "outputs": [],
   "source": [
    "graph=[\n",
    "    [0,1,1,0],\n",
    "    [0,0,1,0],\n",
    "    [1,1,0,0],\n",
    "    [0,0,0,0],\n",
    "]"
   ]
  },
  {
   "attachments": {},
   "cell_type": "markdown",
   "metadata": {},
   "source": [
    "## 2) Adjacency matrix\n",
    "\n",
    "In this case; M[r=i][c=j] means an edge exists from vertice *i* to vertice *j*. This structure is not that common in CS because it has a O(V<sup>2</sup>) space complexity, even though the graph has only *V* vertices.\n",
    "\n",
    "## 3) Adjacency list"
   ]
  },
  {
   "cell_type": "code",
   "execution_count": 3,
   "metadata": {},
   "outputs": [],
   "source": [
    "class Vertice:\n",
    "    def __init__(self, val):\n",
    "        self.val = val\n",
    "        self.neighbors = []"
   ]
  },
  {
   "attachments": {},
   "cell_type": "markdown",
   "metadata": {},
   "source": [
    "# Matrix DFS\n",
    "\n",
    "Question: count unique paths from top left to bottom right. Only 0s are allowed, no more than 1 visit per node for a given path.\n",
    "\n",
    "## Architecture:\n",
    "\n",
    "```\n",
    "dfs(grid: list[list[int]], row: int, col: int, visited: set[tuple[int, int]]):\n",
    "\n",
    "    # Base case: invalid\n",
    "    if <OOB> or <Blocked> or <Visited>:\n",
    "        return 0\n",
    "    # Base case: invalid\n",
    "    if <Reached>:\n",
    "        return 1\n",
    "\n",
    "    # Recursive call\n",
    "    visit.add(row, col)\n",
    "    count = 0\n",
    "    count += dfs(<above|left|right|below>)\n",
    "    visit.remove(row, col)\n",
    "    \n",
    "    return count\n",
    "```\n",
    "\n",
    "## Complexity\n",
    "\n",
    "### Time complexity\n",
    "\n",
    "Intuition: a path can \"cover\" the entire matrix, adding to `n*m` nodes. At each step of the paths, a recursive call is made to up to 4 nodes. Hence the worst-case time complexity is $O(4^{n.m})$.\n",
    "\n",
    "### Space complexity\n",
    "\n",
    "A given path is composed of up to `n*m` nodes, hence the size of the recursive call stack can be $O(n.m)$ in the worst case."
   ]
  },
  {
   "cell_type": "code",
   "execution_count": 3,
   "metadata": {},
   "outputs": [
    {
     "data": {
      "text/plain": [
       "array([[0, 0, 0, 0],\n",
       "       [1, 1, 0, 0],\n",
       "       [0, 0, 0, 1],\n",
       "       [0, 1, 0, 0]])"
      ]
     },
     "execution_count": 3,
     "metadata": {},
     "output_type": "execute_result"
    }
   ],
   "source": [
    "# DFS: implementation\n",
    "\n",
    "def dfs(grid: list[list[int]], row: int = 0, col: int = 0, visited: set[tuple[int, int]] = set()):\n",
    "    R, C = len(grid), len(grid[0])\n",
    "    # OOB or blocked or visited\n",
    "    base_case_invalid = min(row, col) < 0\\\n",
    "        or row >= R or col >= C\\\n",
    "        or grid[row][col] == 1\\\n",
    "        or (row, col) in visited\n",
    "\n",
    "    # Reached target\n",
    "    base_case_valid = ((row, col) == (R - 1, C - 1))\n",
    "\n",
    "    if base_case_invalid:\n",
    "        return 0\n",
    "\n",
    "    if base_case_valid:\n",
    "        return 1\n",
    "    \n",
    "    # Recursive calls\n",
    "    visited.add((row, col))\n",
    "    \n",
    "    count = 0\n",
    "    count += dfs(grid, row - 1, col, visited)\n",
    "    count += dfs(grid, row + 1, col, visited)\n",
    "    count += dfs(grid, row, col - 1, visited)\n",
    "    count += dfs(grid, row, col + 1, visited)\n",
    "\n",
    "    visited.remove((row, col))\n",
    "\n",
    "    return count\n",
    "\n",
    "from numpy import array\n",
    "m = array([[0]*4 for _ in range(4)])\n",
    "m[1,0] = m[1, 1] = m[3, 1] = m[2, 3] = 1\n",
    "m"
   ]
  },
  {
   "cell_type": "code",
   "execution_count": 4,
   "metadata": {},
   "outputs": [
    {
     "data": {
      "text/plain": [
       "2"
      ]
     },
     "execution_count": 4,
     "metadata": {},
     "output_type": "execute_result"
    }
   ],
   "source": [
    "dfs(m)"
   ]
  },
  {
   "attachments": {},
   "cell_type": "markdown",
   "metadata": {},
   "source": [
    "# Matrix BFS\n",
    "\n",
    "Question: Length of shortest path from top left to bottom right.\n",
    "\n",
    "## Architecture:\n",
    "\n",
    "```\n",
    "bfs():\n",
    "    queue, visit = deque[(0, 0)], set[(0, 0)]\n",
    "    length = 1\n",
    "\n",
    "    while queue:\n",
    "        length += 1\n",
    "        for _ in [1..len(queue)]:\n",
    "\n",
    "            row, col = queue.popleft()\n",
    "\n",
    "            if <Reached>:\n",
    "                return length\n",
    "\n",
    "            for neighbor in neighbors(row, col):\n",
    "                if <OOB> or <Blocked> or <Visited>:\n",
    "                    continue\n",
    "                queue.append(neighbor)\n",
    "                visit.add(neighbor)         \n",
    "```\n",
    "\n",
    "## Complexity\n",
    "\n",
    "### Time complexity\n",
    "\n",
    "Worst-case scenario, all the nodes are visited exactly once (thanks to the maintained `set`), so the time complexity is $O(n.m)$\n",
    "\n",
    "### Space complexity\n",
    "\n",
    "All the created objects are $O(n.m)$.\n"
   ]
  },
  {
   "cell_type": "code",
   "execution_count": 5,
   "metadata": {},
   "outputs": [],
   "source": [
    "# BFS: implementation\n",
    "\n",
    "from collections import deque\n",
    "\n",
    "def bfs(grid: list[list[int]]) -> int:\n",
    "    queue = deque()\n",
    "    visited = set()\n",
    "    R, C = len(grid), len(grid[0])\n",
    "\n",
    "    visited.add((0, 0))\n",
    "    queue.append((0, 0))\n",
    "    length = -1\n",
    "    while queue:\n",
    "        length += 1\n",
    "        for _ in range(len(queue)):\n",
    "            row, col = queue.popleft()\n",
    "            if (row, col) == (R - 1, C - 1):\n",
    "                return length\n",
    "            \n",
    "            deltas = [(1, 0), (-1, 0), (0, 1), (0, -1)]\n",
    "            for dr, dc in deltas:\n",
    "                neighbor = (row + dr, col + dc)\n",
    "\n",
    "                invalid_neighbor = min(*neighbor) < 0 or neighbor[0] >= R or neighbor[1] >= C \\\n",
    "                    or grid[neighbor] == 1 \\\n",
    "                    or neighbor in visited\n",
    "                if invalid_neighbor:\n",
    "                    continue\n",
    "                \n",
    "                visited.add(neighbor) # Important to do ASAP\n",
    "                queue.append(neighbor)"
   ]
  },
  {
   "cell_type": "code",
   "execution_count": 6,
   "metadata": {},
   "outputs": [
    {
     "data": {
      "text/plain": [
       "6"
      ]
     },
     "execution_count": 6,
     "metadata": {},
     "output_type": "execute_result"
    }
   ],
   "source": [
    "bfs(m)"
   ]
  },
  {
   "attachments": {},
   "cell_type": "markdown",
   "metadata": {},
   "source": [
    "# Adjacency lists\n",
    "\n",
    "## Implementation\n",
    "\n",
    "### 1) Graph nodes"
   ]
  },
  {
   "cell_type": "code",
   "execution_count": 7,
   "metadata": {},
   "outputs": [],
   "source": [
    "class GraphNode:\n",
    "    def __init__(self, val, neighbors: list = []):\n",
    "        self.val = val\n",
    "        self.neighbors = neighbors"
   ]
  },
  {
   "attachments": {},
   "cell_type": "markdown",
   "metadata": {},
   "source": [
    "### 2) Hash maps"
   ]
  },
  {
   "cell_type": "code",
   "execution_count": 12,
   "metadata": {},
   "outputs": [
    {
     "data": {
      "text/plain": [
       "{'A': ['B'], 'B': ['C', 'E'], 'C': ['E'], 'E': ['D'], 'D': []}"
      ]
     },
     "execution_count": 12,
     "metadata": {},
     "output_type": "execute_result"
    }
   ],
   "source": [
    "# Example\n",
    "adj = {\"A\": [\"B\", \"C\"], \"B\": [\"A\"]}\n",
    "\n",
    "# Build an adjacency list from a list of directed edges\n",
    "edges = [[\"A\", \"B\"], [\"B\", \"C\"], [\"B\", \"E\"], [\"C\", \"E\"], [\"E\", \"D\"]]\n",
    "\n",
    "# defaultdict is not that useful here (save 1 line)\n",
    "# because a vertice that is only an arrival (e.g. \"C\") does not get added as key\n",
    "adj = {}\n",
    "for src, dst in edges:\n",
    "    if src not in adj:\n",
    "        adj[src] = []\n",
    "    if dst not in adj:\n",
    "        adj[dst] = []\n",
    "    adj[src].append(dst)\n",
    "\n",
    "adj"
   ]
  },
  {
   "attachments": {},
   "cell_type": "markdown",
   "metadata": {},
   "source": [
    "## Traversal algorithms"
   ]
  },
  {
   "cell_type": "code",
   "execution_count": 24,
   "metadata": {},
   "outputs": [],
   "source": [
    "# DFS\n",
    "\n",
    "def dfs(adj: dict[str: list[str]], src: str, dst: str, visited: set[str] = set()) -> int:\n",
    "\n",
    "    if src == dst:\n",
    "        return 1\n",
    "    \n",
    "    if src in visited:\n",
    "        return 0\n",
    "    \n",
    "    count = 0\n",
    "    visited.add(src)\n",
    "    for neighbor in adj[src]:\n",
    "        count += dfs(adj, neighbor, dst, visited)\n",
    "    visited.remove(src)\n",
    "    return count"
   ]
  },
  {
   "cell_type": "code",
   "execution_count": 25,
   "metadata": {},
   "outputs": [
    {
     "data": {
      "text/plain": [
       "2"
      ]
     },
     "execution_count": 25,
     "metadata": {},
     "output_type": "execute_result"
    }
   ],
   "source": [
    "dfs(adj, \"A\", \"E\")"
   ]
  },
  {
   "cell_type": "code",
   "execution_count": 35,
   "metadata": {},
   "outputs": [],
   "source": [
    "# BFS\n",
    "from collections import deque\n",
    "def bfs(adj: dict[str: list[str]], src: str, dst: str) -> int:\n",
    "    queue = deque()\n",
    "    visited = set()\n",
    "\n",
    "    queue.append(src)\n",
    "    visited.add(src)\n",
    "    length = -1\n",
    "\n",
    "    while queue:\n",
    "        length += 1\n",
    "        for _ in range(len(queue)):\n",
    "            current = queue.popleft()\n",
    "            if current == dst:\n",
    "                return length\n",
    "            for neighbor in adj[current]:\n",
    "                if neighbor not in visited:\n",
    "                    queue.append(neighbor)\n",
    "                    visited.add(neighbor)\n",
    "    return -1\n"
   ]
  },
  {
   "cell_type": "code",
   "execution_count": 37,
   "metadata": {},
   "outputs": [
    {
     "data": {
      "text/plain": [
       "2"
      ]
     },
     "execution_count": 37,
     "metadata": {},
     "output_type": "execute_result"
    }
   ],
   "source": [
    "bfs(adj, \"A\", \"E\")"
   ]
  },
  {
   "cell_type": "markdown",
   "metadata": {},
   "source": [
    "# Shortest path algorithms\n",
    "\n",
    "## Dijkstra\n",
    "\n",
    "Implementation: heapq does not support updating priority queue keys, so instead the same node can be pushed several times, with different keys. It is only marked as visited when it is popped from the queue for the first time (and in such a case, the key is guaranteed to be minimal)."
   ]
  },
  {
   "cell_type": "code",
   "execution_count": 3,
   "metadata": {},
   "outputs": [
    {
     "name": "stdout",
     "output_type": "stream",
     "text": [
      "{0: 0, 1: 7, 2: 3, 3: 9, 4: 5}\n"
     ]
    }
   ],
   "source": [
    "import heapq\n",
    "\n",
    "def dijkstra_with_set(n, edges: list[tuple[str, str, int]], src: str) -> dict[str: int]:\n",
    "  # Convert edges to adjacency list\n",
    "  adj_list = {v: [] for v in range(n)}\n",
    "  for v, neighbor, distance in edges:\n",
    "     adj_list[v].append((neighbor, distance))\n",
    "  # Dijkstra\n",
    "  visited, shortest = set(), {v: float(\"inf\") for v in adj_list}\n",
    "  heap = [(0, src)]\n",
    "  while heap:\n",
    "      path_to_v, v = heapq.heappop(heap)\n",
    "      if v in visited:\n",
    "          continue\n",
    "      visited.add(v)\n",
    "      shortest[v] = path_to_v\n",
    "      for neighbor, distance in adj_list[v]:\n",
    "          # if neighbor not in visited: # Optional, this can just reduce the size of the heap \n",
    "          heapq.heappush(heap, (path_to_v + distance, neighbor))\n",
    "  return shortest\n",
    "\n",
    "print(dijkstra_with_set(n=5, edges=[[0,1,10],[0,2,3],[1,3,2],[2,1,4],[2,3,8],[2,4,2],[3,4,5]], src=0))"
   ]
  },
  {
   "cell_type": "code",
   "execution_count": 4,
   "metadata": {},
   "outputs": [
    {
     "name": "stdout",
     "output_type": "stream",
     "text": [
      "{0: 0, 1: 7, 2: 3, 3: 9, 4: 5}\n"
     ]
    }
   ],
   "source": [
    "# Using the dictionary `shortest` as the set of visited nodes:\n",
    "\n",
    "def dijkstra(n, edges: list[tuple[str, str, int]], src: str) -> dict[str: int]:\n",
    "  # Convert edges to adjacency list\n",
    "  adj_list = {v: [] for v in range(n)}\n",
    "  for v, neighbor, distance in edges:\n",
    "      adj_list[v].append((neighbor, distance))\n",
    "  # Dijkstra\n",
    "  shortest = {}\n",
    "  heap = [(0, src)]\n",
    "  while heap:\n",
    "      path_to_v, v = heapq.heappop(heap)\n",
    "      if v in shortest:\n",
    "          continue\n",
    "      shortest[v] = path_to_v\n",
    "      for neighbor, distance in adj_list[v]:\n",
    "          heapq.heappush(heap, (path_to_v + distance, neighbor))\n",
    "  return shortest\n",
    "\n",
    "print(dijkstra_with_set(n=5, edges=[[0,1,10],[0,2,3],[1,3,2],[2,1,4],[2,3,8],[2,4,2],[3,4,5]], src=0))"
   ]
  },
  {
   "cell_type": "code",
   "execution_count": null,
   "metadata": {},
   "outputs": [],
   "source": []
  }
 ],
 "metadata": {
  "kernelspec": {
   "display_name": "Python 3",
   "language": "python",
   "name": "python3"
  },
  "language_info": {
   "codemirror_mode": {
    "name": "ipython",
    "version": 3
   },
   "file_extension": ".py",
   "mimetype": "text/x-python",
   "name": "python",
   "nbconvert_exporter": "python",
   "pygments_lexer": "ipython3",
   "version": "3.10.12"
  },
  "orig_nbformat": 4,
  "vscode": {
   "interpreter": {
    "hash": "916dbcbb3f70747c44a77c7bcd40155683ae19c65e1c03b4aa3499c5328201f1"
   }
  }
 },
 "nbformat": 4,
 "nbformat_minor": 2
}
