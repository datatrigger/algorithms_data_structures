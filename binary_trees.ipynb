{
 "cells": [
  {
   "attachments": {},
   "cell_type": "markdown",
   "metadata": {},
   "source": [
    "# 0) 50 shades of binary search\n",
    "\n",
    "### i) Basic\n",
    "\n",
    "Return index of any matching value in array, or -1.\n",
    "\n",
    "*Note 1*: The while loop continues even when ```left == right```. Example:\n",
    "\n",
    "Say we look for 7:\n",
    "\n",
    "... - 3 - 7 - ...  \n",
    "... - L - R - ...\n",
    "\n",
    "In the above configuration, `mid` becomes `left` because the int divison rounds down. It's only at the next step of the while loop that `mid` can become `right`.\n",
    "\n",
    "*Note 2*: the `left` and`right` pointers are bound to cross because either one of them moves at each step of the while loop."
   ]
  },
  {
   "cell_type": "code",
   "execution_count": 1,
   "metadata": {},
   "outputs": [],
   "source": [
    "# Basic\n",
    "# Return index of any matching value in array, or -1\n",
    "\n",
    "from typing import List, Tuple\n",
    "\n",
    "def binary_search(array: List[int], target: int) -> int:\n",
    "    left, right = 0, len(array)-1\n",
    "\n",
    "    while left <= right:\n",
    "        mid = (left + right) // 2 # No overflow in Python\n",
    "        if array[mid] > target:\n",
    "            right = mid - 1\n",
    "        elif array[mid] < target:\n",
    "            left = mid + 1\n",
    "        else:\n",
    "            return mid\n",
    "    return -1"
   ]
  },
  {
   "attachments": {},
   "cell_type": "markdown",
   "metadata": {},
   "source": [
    "### ii) Duplicates: leftmost and righmost index"
   ]
  },
  {
   "cell_type": "code",
   "execution_count": 2,
   "metadata": {},
   "outputs": [],
   "source": [
    "# Duplicates\n",
    "\n",
    "def binary_search_tips(array: List[int], target: int, type : str = 'leftmost') -> int:\n",
    "    left, right, index = 0, len(array)-1, -1\n",
    "\n",
    "    while left <= right:\n",
    "        mid = (left + right) // 2 # No overflow in Python\n",
    "        if array[mid] > target:\n",
    "            right = mid - 1\n",
    "        elif array[mid] < target:\n",
    "            left = mid + 1\n",
    "        else:\n",
    "            index = mid\n",
    "            if type == 'leftmost':\n",
    "                right = mid - 1\n",
    "            if type == 'rightmost':\n",
    "                left = mid + 1\n",
    "    return index\n",
    "\n",
    "def binary_search_duplicates(array: List[int], target: int) -> Tuple[int]:\n",
    "    return binary_search_tips(array, target, 'leftmost'), binary_search_tips(array, target, 'rightmost')"
   ]
  },
  {
   "attachments": {},
   "cell_type": "markdown",
   "metadata": {},
   "source": [
    "### iii) Bisect: a more general approach\n",
    "\n",
    "Bisect left (resp. right): returns the leftmost (resp. rightmost) index of matching value(s), or the index where the target value should be inserted.\n",
    "\n",
    "Bisect returns outer indexes instead of the middle index. The outer indexes become equal in the last step of the while loop, since their difference decreases by at least 1 unit at each step:\n",
    "* First `if` clause: the left index is shifted by 1 unit or more, since `left <= mid`\n",
    "* Second `if` clause: `mid < right` since int division `//` rounds down in Python\n",
    "\n",
    "Bisect left returns $min \\{ i, array[i] \\geq target \\}$\n",
    "\n",
    "Justification of the `if` clauses:\n",
    "* `array[mid] < target`: `mid` cannot be the seeked index, since we look for the 'first' element $\\geq$ target\n",
    "* `else` condition i.e `array[mid] >= target`: `mid` could be the index we're looking for. Keep it for now and check elements on the left part of the array.\n",
    "\n",
    "[Alternative implementation](https://gist.github.com/py-in-the-sky/e84fd9fc4db0da3f351631ba04b2d91b)"
   ]
  },
  {
   "cell_type": "code",
   "execution_count": 3,
   "metadata": {},
   "outputs": [],
   "source": [
    "def bisect_left(array: List[int], target: int) -> int:\n",
    "    left, right = 0, len(array)\n",
    "    while left < right: # Strict inequality because `left == right` in the last step is guaranteed\n",
    "        mid = (left + right) // 2\n",
    "        if array[mid] < target:\n",
    "            left = mid + 1 # `mid` cannot be the correct index, shift `left`` on its right\n",
    "        else:\n",
    "            right = mid # `array[mid] <= left`, so it could be to correct index\n",
    "    return left # `right` works too"
   ]
  },
  {
   "attachments": {},
   "cell_type": "markdown",
   "metadata": {},
   "source": [
    "Bisect right returns $min \\{ i, array[i] > target \\}$, so it is just about turning the strict inequality into a large one:"
   ]
  },
  {
   "cell_type": "code",
   "execution_count": 4,
   "metadata": {},
   "outputs": [],
   "source": [
    "\n",
    "def bisect_right(array: List[int], target: int) -> int:\n",
    "    left, right = 0, len(array)\n",
    "    while left < right:\n",
    "        mid = (left + right) // 2\n",
    "        if array[mid] <= target:\n",
    "            left = mid + 1\n",
    "        else:\n",
    "            right = mid\n",
    "    return left\n",
    "\n",
    "def binary_insert(array: List[int], target: int) -> None:\n",
    "    array.insert(bisect_left(array, target), target)\n",
    "    return\n",
    "\n",
    "def bisect_search(array: List[int], target: int, type : str = 'leftmost') -> int:\n",
    "    index = bisect_left(array, target)\n",
    "    if index < len(array) and array[index] == target:\n",
    "        return index\n",
    "    else:\n",
    "        return -1"
   ]
  },
  {
   "attachments": {},
   "cell_type": "markdown",
   "metadata": {},
   "source": [
    "**Note that the right pointer is initialized as `len(array)`, not `len(array) - 1`**. This allows the returned value to be `len(array)`, in case it should be used for appending a value at the end of the array."
   ]
  },
  {
   "attachments": {},
   "cell_type": "markdown",
   "metadata": {},
   "source": [
    "# 1) Trees\n",
    "\n",
    "*Ordered trees*: a tree is ordered where children of every node are ordered.\n",
    "\n",
    "## Depth/Height\n",
    "\n",
    "### Depth\n",
    "\n",
    "The depth of a node is the number of its ancestor (excluding the node itself).\n",
    "\n",
    "<pre>\n",
    "a\n",
    "├── b\n",
    "├── c\n",
    "    ├── d\n",
    "    ├── e\n",
    "</pre>  \n",
    "\n",
    "*The depth of node d is 2.*\n",
    "\n",
    "The depth can be computed recursively:"
   ]
  },
  {
   "cell_type": "code",
   "execution_count": 16,
   "metadata": {},
   "outputs": [],
   "source": [
    "def depth(node):\n",
    "    if node.isroot():\n",
    "        return 0\n",
    "    else:\n",
    "        return 1 + depth(node.parent())"
   ]
  },
  {
   "attachments": {},
   "cell_type": "markdown",
   "metadata": {},
   "source": [
    "```depth()``` has a O(depth(node)) time complexity for a given node. Hence the worst-case time complexity is O(n) since a one-branch tree would yield a leaf with depth n-1.\n",
    "\n",
    "### Height\n",
    "\n",
    "The height of a **node** is defined as:\n",
    "* height(node) = 1 + max({height(child) | child ∈ children of node}) if the node is not a leaf\n",
    "* height(node) = 0 if the node is a leaf\n",
    "\n",
    "The height of a **tree** is the height of its root. Note that height(T) = max({depth(L) | L ∈ Leaves of T})"
   ]
  },
  {
   "cell_type": "code",
   "execution_count": 17,
   "metadata": {},
   "outputs": [],
   "source": [
    "def height_suboptimal(T):\n",
    "    return max((depth(node) for node in T.nodes() if node.is_leaf()))"
   ]
  },
  {
   "attachments": {},
   "cell_type": "markdown",
   "metadata": {},
   "source": [
    "The above algorithm runs in O(n<sup>2</sup>) worst-case time: listing the nodes can be done in O(n) worst-case time and computing the depth of all the leaves has a O(n<sup>2</sup>) worst-case time complexity (see page 309 and [here](https://cs.stackexchange.com/questions/87336/maximum-sum-of-depths-of-all-external-nodes-in-a-binary-tree) for details).\n",
    "\n",
    "Example of a tree for which computing all the leaves' depths would be n<sup>2</sup>/4 = O(n<sup>2</sup>):\n",
    "\n",
    "<pre>\n",
    "a<sub>1</sub>\n",
    "├── a<sub>2</sub>\n",
    "    ...\n",
    "        ├── a<sub>n/2</sub>\n",
    "            ├── b<sub>1</sub>\n",
    "            ├── b<sub>2</sub>\n",
    "            ...\n",
    "            ├── b<sub>n/2</sub>\n",
    "</pre>\n",
    "\n",
    "On the other hand, using the recursive definition of the height yields a O(n) worst-case running time:"
   ]
  },
  {
   "cell_type": "code",
   "execution_count": 18,
   "metadata": {},
   "outputs": [],
   "source": [
    "def height_optimal(node):\n",
    "    if node.is_leaf():\n",
    "        return 0\n",
    "    else:\n",
    "        return 1 + max((height_optimal(child) for child in node.children()))\n"
   ]
  },
  {
   "attachments": {},
   "cell_type": "markdown",
   "metadata": {},
   "source": [
    "# 2) Binary trees\n",
    "\n",
    "A binary tree is an **ordered** tree with **at most** 2 children per node, labeled left child/right child. The order is left child then right child.\n",
    "\n",
    "A binary tree is said to be **proper** if each node has either 0 or 2 children.\n",
    "\n",
    "A **level** d is the set of all nodes that have a depth d. A given level d has at most 2<sup>d</sup> nodes.\n",
    "\n",
    "## Tree Traversal Algorithms"
   ]
  },
  {
   "cell_type": "code",
   "execution_count": 19,
   "metadata": {},
   "outputs": [],
   "source": [
    "### Preorder traversal\n",
    "def preorder(T, p):\n",
    "    T.visit(p)\n",
    "    for c in T.children(p):\n",
    "        preorder(T, c)\n",
    "\n",
    "### Postorder traversal\n",
    "def postorder(T, p):\n",
    "    for c in T.children(p):\n",
    "        postorder(T, c)\n",
    "    T.visit(p)\n",
    "\n",
    "### Breadth-first traversal\n",
    "def breadthfirst(T):\n",
    "    Q=Queue()\n",
    "    Q.enqueue(T.root())\n",
    "    while not Q.is_empty():\n",
    "        p=Q.dequeue()\n",
    "        p.visit()\n",
    "        for c in T.children(p):\n",
    "            Q.enqueue(c)\n",
    "\n",
    "### Inorder traversal\n",
    "# Specific to binary trees\n",
    "def inorder(T, p):\n",
    "    if p.left():\n",
    "        inorder(p.left())\n",
    "    p.visit()\n",
    "    if p.right():\n",
    "        inorder(p.right())"
   ]
  },
  {
   "attachments": {},
   "cell_type": "markdown",
   "metadata": {},
   "source": [
    "# 3) Binary Search Trees (BST)\n",
    "\n",
    "A BST is a binary tree with a sorted property: for each node, the left **subtree**'s values are less than the node's value and the right **subtree**'s values are greater than the node's value.\n",
    "\n",
    "Generally speaking, BST do not contain duplicate values."
   ]
  },
  {
   "cell_type": "code",
   "execution_count": 1,
   "metadata": {},
   "outputs": [],
   "source": [
    "class Node:\n",
    "    def __init__(self, val = None):\n",
    "        self.val = val\n",
    "        self.left = None\n",
    "        self.right = None\n",
    "\n",
    "def search(root, target):\n",
    "    '''Return True if BST contains `target`, False otherwise'''\n",
    "    if not root:\n",
    "        return False\n",
    "\n",
    "    if target > root.val:\n",
    "        return search(root.right, target)\n",
    "    elif target < root.val:\n",
    "        return search(root.left, target)\n",
    "    else:\n",
    "        return True"
   ]
  },
  {
   "attachments": {},
   "cell_type": "markdown",
   "metadata": {},
   "source": [
    "The time complexity of ```search()``` for a BST is O(log(n)) if the BST is roughly balanced (i.e as many nodes in the left subtree than in the right subtree). The exact worst-case time complexity for a BST search is O(log(h)), where h is the height of the BST.\n",
    "\n",
    "What is the point of BST if searching has a O(log(n)) time complexity? Binary search is also O(log(n)) on sorted arrays. The thing is **inserting/removing** values has a O(n) time complexity with arrays, whereas only **O(log(n)) with BSTs**.\n",
    "\n",
    "## Inserting"
   ]
  },
  {
   "cell_type": "code",
   "execution_count": 4,
   "metadata": {},
   "outputs": [],
   "source": [
    "def insert(root, val):\n",
    "    if not root:\n",
    "        return Node(val)\n",
    "    \n",
    "    if val > root.val:\n",
    "        root.right = insert(root.right, val)\n",
    "    elif val < root.val:\n",
    "        root.left = insert(root.left, val)\n",
    "    return root"
   ]
  },
  {
   "attachments": {},
   "cell_type": "markdown",
   "metadata": {},
   "source": [
    "## Removing\n",
    "\n",
    "Let's consider two different cases:\n",
    "* Nodes with 0 or 1 child: easy\n",
    "* Nodes with 2 children: hard, need to find_min()"
   ]
  },
  {
   "cell_type": "code",
   "execution_count": 5,
   "metadata": {},
   "outputs": [],
   "source": [
    "def find_min(root):\n",
    "    current = root\n",
    "    while current and current.left:\n",
    "        current = current.left\n",
    "    return current\n",
    "\n",
    "def remove(root, val):\n",
    "    if not root: # base case\n",
    "        return None\n",
    "\n",
    "    if val > root.val:\n",
    "        root.right = remove(root.right, val)\n",
    "    elif val < root.val:\n",
    "        root.left = remove(root.left, val)\n",
    "    else: # val == root.val\n",
    "        if not root.left:\n",
    "            return root.right\n",
    "        elif not root.right:\n",
    "            return root.left\n",
    "        else:\n",
    "            min_node = find_min(root.right)\n",
    "            root.val = min_node.val\n",
    "            root.right = remove(root.right, min_node.val)\n",
    "\n",
    "    return root"
   ]
  },
  {
   "attachments": {},
   "cell_type": "markdown",
   "metadata": {},
   "source": [
    "## Traversal\n",
    "\n",
    "### i) Depth-First-Search (DFS)\n",
    "\n",
    "Inorder, preorder and postorder are DFS."
   ]
  },
  {
   "cell_type": "code",
   "execution_count": 6,
   "metadata": {},
   "outputs": [],
   "source": [
    "# Inorder: traverse values in ascending order (from left to right)\n",
    "# Swap root.right and root.left to go in descending order\n",
    "def inorder_bst(root):\n",
    "    if not root:\n",
    "        return\n",
    "    inorder_bst(root.left)\n",
    "    print(root.val)\n",
    "    inorder_bst(root.right)\n",
    "\n",
    "# Preorder\n",
    "def preorder_bst(root):\n",
    "    if not root:\n",
    "        return\n",
    "    print(root.val)\n",
    "    preorder_bst(root.left)\n",
    "    preorder_bst(root.right)\n",
    "\n",
    "# Postorder\n",
    "def postorder_bst(root):\n",
    "    if not root:\n",
    "        return\n",
    "    postorder_bst(root.left)\n",
    "    postorder_bst(root.right)\n",
    "    print(root.val)"
   ]
  },
  {
   "attachments": {},
   "cell_type": "markdown",
   "metadata": {},
   "source": [
    "### ii) Breadth-First-Search\n",
    "\n",
    "Going layer by layer instead."
   ]
  },
  {
   "cell_type": "code",
   "execution_count": 7,
   "metadata": {},
   "outputs": [],
   "source": [
    "from collections import deque\n",
    "\n",
    "def bfs_bst(root):\n",
    "    queue = deque()\n",
    "    if root:\n",
    "        queue.append(root)\n",
    "    while queue:\n",
    "        current = queue.popleft()\n",
    "        print(current.val)\n",
    "        if current.left:\n",
    "            queue.append(current.left)\n",
    "        if current.right:\n",
    "            queue.append(current.right)\n",
    "\n",
    "def bfs_bst_with_levels(root):\n",
    "    queue = deque()\n",
    "    if root:\n",
    "        queue.append(root)\n",
    "    level = -1\n",
    "    while queue:\n",
    "        level += 1\n",
    "        print(f'--- Level: {level} ---')\n",
    "        for _ in range(len(queue)):\n",
    "            current = queue.popleft()\n",
    "            print(current.val)\n",
    "            if current.left:\n",
    "                queue.append(current.left)\n",
    "            if current.right:\n",
    "                queue.append(current.right)\n"
   ]
  },
  {
   "attachments": {
    "image.png": {
     "image/png": "[encoded data removed]"
    }
   },
   "cell_type": "markdown",
   "metadata": {},
   "source": [
    "![image.png](attachment:image.png)"
   ]
  },
  {
   "cell_type": "code",
   "execution_count": 9,
   "metadata": {},
   "outputs": [
    {
     "name": "stdout",
     "output_type": "stream",
     "text": [
      "Inorder traversal:\n",
      "1\n",
      "3\n",
      "5\n",
      "6\n",
      "7\n",
      "\n",
      "\n",
      "New root after removing 3: 5\n",
      "Inorder traversal:\n",
      "1\n",
      "5\n",
      "6\n",
      "7\n",
      "\n",
      "\n",
      "BFS\n",
      "5\n",
      "1\n",
      "7\n",
      "6\n",
      "\n",
      "BFS with levels\n",
      "--- Level: 0 ---\n",
      "5\n",
      "--- Level: 1 ---\n",
      "1\n",
      "7\n",
      "--- Level: 2 ---\n",
      "6\n"
     ]
    }
   ],
   "source": [
    "root = insert(None, 3)\n",
    "insert(root, 5)\n",
    "insert(root, 1)\n",
    "insert(root, 7)\n",
    "insert(root, 6)\n",
    "\n",
    "print('Inorder traversal:')\n",
    "inorder_bst(root)\n",
    "print('\\n')\n",
    "\n",
    "new_root=remove(root, 3)\n",
    "print(f'New root after removing 3: {new_root.val}')\n",
    "print('Inorder traversal:')\n",
    "inorder_bst(new_root)\n",
    "print('\\n')\n",
    "\n",
    "print('BFS')\n",
    "bfs_bst(root)\n",
    "\n",
    "print('\\nBFS with levels')\n",
    "bfs_bst_with_levels(root)"
   ]
  },
  {
   "attachments": {},
   "cell_type": "markdown",
   "metadata": {},
   "source": [
    "## Iterative traversals\n",
    "\n",
    "For preorder and inorder traversals, both the stack and the tree itself are used to traverse the tree. With preorder, the additional information from the boolean `visited` makes using only ths stack possible."
   ]
  },
  {
   "cell_type": "code",
   "execution_count": 3,
   "metadata": {},
   "outputs": [
    {
     "ename": "SyntaxError",
     "evalue": "closing parenthesis ')' does not match opening parenthesis '[' (1051664162.py, line 64)",
     "output_type": "error",
     "traceback": [
      "\u001b[0;36m  Input \u001b[0;32mIn [3]\u001b[0;36m\u001b[0m\n\u001b[0;31m    stack, traversal = [(root, False))], []\u001b[0m\n\u001b[0m                                     ^\u001b[0m\n\u001b[0;31mSyntaxError\u001b[0m\u001b[0;31m:\u001b[0m closing parenthesis ')' does not match opening parenthesis '['\n"
     ]
    }
   ],
   "source": [
    "from __future__ import annotations\n",
    "from dataclasses import dataclass\n",
    "from utils import validate_dfs_inorder, validate_dfs_preorder, validate_dfs_postorder, list_to_tree\n",
    "\n",
    "@dataclass\n",
    "class TreeNode:\n",
    "    val: int\n",
    "    left: TreeNode = None\n",
    "    right: TreeNode = None\n",
    "\n",
    "def dfs_inorder_recursive(root: TreeNode, traversal: None|list[int] = None) -> list[int]:\n",
    "    traversal = [] if traversal is None else traversal\n",
    "    if not root:\n",
    "        return\n",
    "    dfs_inorder_recursive(root.left, traversal)\n",
    "    traversal.append(root.val)\n",
    "    dfs_inorder_recursive(root.right, traversal)\n",
    "    return traversal\n",
    "\n",
    "def dfs_preorder_recursive(root: TreeNode, traversal: None|list[int] = None) -> list[int]:\n",
    "    traversal = [] if traversal is None else traversal\n",
    "    if not root:\n",
    "        return\n",
    "    traversal.append(root.val)\n",
    "    dfs_preorder_recursive(root.left, traversal)\n",
    "    dfs_preorder_recursive(root.right, traversal)\n",
    "    return traversal\n",
    "\n",
    "def dfs_postorder_recursive(root: TreeNode, traversal: None|list[int] = None) -> list[int]:\n",
    "    traversal = [] if traversal is None else traversal\n",
    "    if not root:\n",
    "        return\n",
    "    dfs_postorder_recursive(root.left, traversal)\n",
    "    dfs_postorder_recursive(root.right, traversal)\n",
    "    traversal.append(root.val)\n",
    "    return traversal\n",
    "\n",
    "def dfs_inorder_iterative(root: TreeNode) -> list[int]:\n",
    "    stack, traversal = [], []\n",
    "    current = root\n",
    "    while stack or current:\n",
    "        if current:\n",
    "            stack.append(current)\n",
    "            current = current.left\n",
    "        else:\n",
    "            current = stack.pop()\n",
    "            traversal.append(current.val)\n",
    "            current = current.right\n",
    "    return traversal\n",
    "\n",
    "def dfs_preorder_iterative(root: TreeNode) -> list[int]:\n",
    "    stack, traversal = [root], []\n",
    "\n",
    "    while stack:\n",
    "        current = stack.pop()\n",
    "        if current:\n",
    "            traversal.append(current.val)\n",
    "            stack.append(current.right)\n",
    "            stack.append(current.left)\n",
    "\n",
    "    return traversal\n",
    "\n",
    "def dfs_postorder_iterative(root: TreeNode) -> list[int]:\n",
    "    stack, traversal = [(root, False)], []\n",
    "\n",
    "    while stack:\n",
    "        current, visited = stack.pop()\n",
    "        if current:\n",
    "            if visited:\n",
    "                traversal.append(current.val)\n",
    "            else:\n",
    "                stack.append((current, True))\n",
    "                stack.append((current.right, False))\n",
    "                stack.append((current.left, False))\n",
    "\n",
    "    return traversal\n",
    "\n",
    "def dfs_postorder_iterative_reverse(root: TreeNode) -> list[int]:\n",
    "    stack, traversal = [], []\n",
    "    current = root\n",
    "    while stack or current:\n",
    "        if current:\n",
    "            traversal.append(current.val)\n",
    "            if current.left:\n",
    "                stack.append(current.left)\n",
    "            current = current.right\n",
    "        else:\n",
    "            current = stack.pop()\n",
    "    traversal.reverse()\n",
    "    return traversal\n",
    "\n",
    "validate_dfs_inorder(dfs_inorder_recursive)\n",
    "validate_dfs_preorder(dfs_preorder_recursive)\n",
    "validate_dfs_postorder(dfs_postorder_recursive)\n",
    "validate_dfs_inorder(dfs_inorder_iterative)\n",
    "validate_dfs_preorder(dfs_preorder_iterative)\n",
    "validate_dfs_postorder(dfs_postorder_iterative)\n",
    "validate_dfs_postorder(dfs_postorder_iterative_reverse)"
   ]
  },
  {
   "cell_type": "code",
   "execution_count": null,
   "metadata": {},
   "outputs": [],
   "source": []
  }
 ],
 "metadata": {
  "kernelspec": {
   "display_name": "Python 3",
   "language": "python",
   "name": "python3"
  },
  "language_info": {
   "codemirror_mode": {
    "name": "ipython",
    "version": 3
   },
   "file_extension": ".py",
   "mimetype": "text/x-python",
   "name": "python",
   "nbconvert_exporter": "python",
   "pygments_lexer": "ipython3",
   "version": "3.10.6"
  },
  "orig_nbformat": 4,
  "vscode": {
   "interpreter": {
    "hash": "916dbcbb3f70747c44a77c7bcd40155683ae19c65e1c03b4aa3499c5328201f1"
   }
  }
 },
 "nbformat": 4,
 "nbformat_minor": 2
}
