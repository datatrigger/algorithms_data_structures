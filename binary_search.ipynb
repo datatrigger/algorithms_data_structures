{
 "cells": [
  {
   "attachments": {},
   "cell_type": "markdown",
   "metadata": {},
   "source": [
    "# 0) 50 shades of binary search\n",
    "\n",
    "### i) Any matching index, or -1\n",
    "\n",
    "Return index of any matching value in array, or -1.\n",
    "\n",
    "*Note 1*: The while loop continues even when ```left == right```. Example:\n",
    "\n",
    "Say we look for 7:\n",
    "\n",
    "... - 3 - 7 - ...  \n",
    "... - L - R - ...\n",
    "\n",
    "In the above configuration, `mid` becomes `left` because the int divison rounds down. It's only at the next step of the while loop that `mid` can become `right`.\n",
    "\n",
    "*Note 2*: the `left` and`right` pointers are bound to cross because either one of them moves at each step of the while loop."
   ]
  },
  {
   "cell_type": "code",
   "execution_count": 1,
   "metadata": {},
   "outputs": [],
   "source": [
    "# Basic\n",
    "# Return index of any matching value in array, or -1\n",
    "\n",
    "from typing import List, Tuple\n",
    "\n",
    "def binary_search(array: List[int], target: int) -> int:\n",
    "    left, right = 0, len(array)-1\n",
    "\n",
    "    while left <= right:\n",
    "        mid = (left + right) // 2 # No overflow in Python\n",
    "        if array[mid] > target:\n",
    "            right = mid - 1\n",
    "        elif array[mid] < target:\n",
    "            left = mid + 1\n",
    "        else:\n",
    "            return mid\n",
    "    return -1"
   ]
  },
  {
   "attachments": {},
   "cell_type": "markdown",
   "metadata": {},
   "source": [
    "### ii) Duplicates: leftmost/righmost matching index, or -1"
   ]
  },
  {
   "cell_type": "code",
   "execution_count": 2,
   "metadata": {},
   "outputs": [],
   "source": [
    "# Duplicates\n",
    "\n",
    "def binary_search_tips(array: List[int], target: int, type : str = 'leftmost') -> int:\n",
    "    left, right, index = 0, len(array)-1, -1\n",
    "\n",
    "    while left <= right:\n",
    "        mid = (left + right) // 2 # No overflow in Python\n",
    "        if array[mid] > target:\n",
    "            right = mid - 1\n",
    "        elif array[mid] < target:\n",
    "            left = mid + 1\n",
    "        else:\n",
    "            index = mid\n",
    "            if type == 'leftmost':\n",
    "                right = mid - 1\n",
    "            if type == 'rightmost':\n",
    "                left = mid + 1\n",
    "    return index\n",
    "\n",
    "def binary_search_duplicates(array: List[int], target: int) -> Tuple[int]:\n",
    "    return binary_search_tips(array, target, 'leftmost'), binary_search_tips(array, target, 'rightmost')"
   ]
  },
  {
   "attachments": {},
   "cell_type": "markdown",
   "metadata": {},
   "source": [
    "### iii) Bisect: a more general approach\n",
    "\n",
    "Bisect left (resp. right): returns the leftmost (resp. rightmost) index of matching value(s), or the index where the target value should be inserted.\n",
    "\n",
    "Bisect returns outer indexes instead of the middle index. The outer indexes become equal in the last step of the while loop, since their difference decreases by at least 1 unit at each step:\n",
    "* First `if` clause: the left index is shifted by 1 unit or more, since `left <= mid`\n",
    "* Second `if` clause: `mid < right` since int division `//` rounds down in Python\n",
    "\n",
    "Bisect left returns $min \\{ i, array[i] \\geq target \\}$\n",
    "\n",
    "Justification of the `if` clauses:\n",
    "* `array[mid] < target`: `mid` cannot be the seeked index, since we look for the 'first' element $\\geq$ target\n",
    "* `else` condition i.e `array[mid] >= target`: `mid` could be the index we're looking for. Keep it for now and check elements on the left part of the array.\n",
    "\n",
    "[Alternative implementation](https://gist.github.com/py-in-the-sky/e84fd9fc4db0da3f351631ba04b2d91b)"
   ]
  },
  {
   "cell_type": "code",
   "execution_count": 3,
   "metadata": {},
   "outputs": [],
   "source": [
    "def bisect_left(array: List[int], target: int) -> int:\n",
    "    left, right = 0, len(array)\n",
    "    while left < right: # Strict inequality because `left == right` in the last step is guaranteed\n",
    "        mid = (left + right) // 2\n",
    "        if array[mid] < target:\n",
    "            left = mid + 1 # `mid` cannot be the correct index, shift `left`` on its right\n",
    "        else:\n",
    "            right = mid # `array[mid] <= left`, so it could be to correct index\n",
    "    return left # `right` works too"
   ]
  },
  {
   "attachments": {},
   "cell_type": "markdown",
   "metadata": {},
   "source": [
    "Bisect right returns $min \\{ i, array[i] > target \\}$, so it is just about turning the strict inequality into a large one:"
   ]
  },
  {
   "cell_type": "code",
   "execution_count": 4,
   "metadata": {},
   "outputs": [],
   "source": [
    "\n",
    "def bisect_right(array: List[int], target: int) -> int:\n",
    "    left, right = 0, len(array)\n",
    "    while left < right:\n",
    "        mid = (left + right) // 2\n",
    "        if array[mid] <= target:\n",
    "            left = mid + 1\n",
    "        else:\n",
    "            right = mid\n",
    "    return left\n",
    "\n",
    "def binary_insert(array: List[int], target: int) -> None:\n",
    "    array.insert(bisect_left(array, target), target)\n",
    "    return\n",
    "\n",
    "def bisect_search(array: List[int], target: int, type : str = 'leftmost') -> int:\n",
    "    index = bisect_left(array, target)\n",
    "    if index < len(array) and array[index] == target:\n",
    "        return index\n",
    "    else:\n",
    "        return -1"
   ]
  },
  {
   "attachments": {},
   "cell_type": "markdown",
   "metadata": {},
   "source": [
    "**Note that the right pointer is initialized as `len(array)`, not `len(array) - 1`**. This allows the returned value to be `len(array)`, in case it should be used for appending a value at the end of the array.\n",
    "\n",
    "### 3-pointer implementations (l, r, m) vs 2-pointer implementations\n",
    "\n",
    "| | 3-pointer | 2-pointer |\n",
    "|----------|----------|----------|\n",
    "| Bounds | r = len(array) - 1 | r = len(array) |\n",
    "| While condition | l <= r | l < r |\n",
    "| Shift | m = r + 1 | r = m |\n",
    "\n",
    "Better use variations of `bisect_left` and `bisect_right` in most cases. "
   ]
  },
  {
   "cell_type": "code",
   "execution_count": 1,
   "metadata": {},
   "outputs": [
    {
     "name": "stdout",
     "output_type": "stream",
     "text": [
      "Left - Not there - Front | [20] | 0\n",
      "Right - Not there - Front | [20] | 0\n",
      "\n",
      "Left - Not there - Middle | [1, 3, 9] | 2\n",
      "Right - Not there - Middle | [1, 3, 9] | 2\n",
      "\n",
      "Left - Not there - Tail | [1, 3, 4, 4, 5] | 5\n",
      "Right - Not there - Tail | [1, 3, 4, 4, 5] | 5\n",
      "\n",
      "Left - There - Unique | [1, 3, 4, 4, 7, 8, 9] | 4\n",
      "Right - There - Unique | [1, 3, 4, 4, 7, 8, 9] | 5\n",
      "\n",
      "Left - There - Multiple | [1, 3, 4, 4, 7, 7, 7, 7, 9] | 4\n",
      "Right - There - Multiple | [1, 3, 4, 4, 7, 7, 7, 7, 9] | 8\n",
      "\n"
     ]
    }
   ],
   "source": [
    "def bisect_left(nums: list[int], target: int) -> int:\n",
    "    l, r = 0, len(nums)\n",
    "    while l < r:\n",
    "        m = (l + r) // 2\n",
    "        if nums[m] < target:\n",
    "            l = m + 1\n",
    "        else:\n",
    "            r = m\n",
    "    return l\n",
    "\n",
    "def bisect_right(nums: list[int], target: int) -> int:\n",
    "    l, r = 0, len(nums)\n",
    "    while l < r:\n",
    "        m = (l + r) // 2\n",
    "        if nums[m] <= target:\n",
    "            l = m + 1\n",
    "        else:\n",
    "            r = m\n",
    "    return l\n",
    "\n",
    "tests = {\n",
    "    \"Not there - Front\": [20],\n",
    "    \"Not there - Middle\": [1, 3, 9],\n",
    "    \"Not there - Tail\": [1, 3, 4, 4, 5],\n",
    "    \"There - Unique\": [1, 3, 4, 4, 7, 8, 9],\n",
    "    \"There - Multiple\": [1, 3, 4, 4, 7, 7, 7, 7, 9]\n",
    "}\n",
    "\n",
    "for key, nums in tests.items():\n",
    "    print(f\"Left - {key} | {nums} | {bisect_left(nums, 7)}\")\n",
    "    print(f\"Right - {key} | {nums} | {bisect_right(nums, 7)}\", end=\"\\n\\n\")"
   ]
  }
 ],
 "metadata": {
  "kernelspec": {
   "display_name": "Python 3",
   "language": "python",
   "name": "python3"
  },
  "language_info": {
   "codemirror_mode": {
    "name": "ipython",
    "version": 3
   },
   "file_extension": ".py",
   "mimetype": "text/x-python",
   "name": "python",
   "nbconvert_exporter": "python",
   "pygments_lexer": "ipython3",
   "version": "3.10.12"
  },
  "orig_nbformat": 4,
  "vscode": {
   "interpreter": {
    "hash": "916dbcbb3f70747c44a77c7bcd40155683ae19c65e1c03b4aa3499c5328201f1"
   }
  }
 },
 "nbformat": 4,
 "nbformat_minor": 2
}
