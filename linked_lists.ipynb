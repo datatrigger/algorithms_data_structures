{
 "cells": [
  {
   "attachments": {},
   "cell_type": "markdown",
   "metadata": {},
   "source": [
    "# Linked lists\n",
    "\n",
    "* Utilities to build and print linked lists\n",
    "* Iterative and recursive algorithms to reverse a linked list\n",
    "\n",
    "**It is important to re-instantiate a linked list for every test**: if the list is -> 1 -> 2 ->, after it's been reversed one time the head will still be 1 and additional calls to ```reverse()``` will output -> 1 -> (with in-place methods)."
   ]
  },
  {
   "cell_type": "code",
   "execution_count": null,
   "metadata": {},
   "outputs": [],
   "source": [
    "class ListNode:\n",
    "    def __init__(self, val = None, next = None):\n",
    "        self.val = val\n",
    "        self.next = next\n",
    "\n",
    "    def __str__(self):\n",
    "        return str(self.val)\n",
    "\n",
    "def build_list(*values):\n",
    "    dummy_head = ListNode()\n",
    "    curr = dummy_head\n",
    "    for val in values:\n",
    "        curr.next = ListNode(val)\n",
    "        curr = curr.next\n",
    "    return dummy_head.next\n",
    "\n",
    "def print_list(head):\n",
    "    dummy_head = ListNode(next=head)\n",
    "    curr, out_str = dummy_head, ''\n",
    "    while curr.next:\n",
    "        out_str += f' -> {curr.next.val}'\n",
    "        curr = curr.next\n",
    "    out_str += ' ->'\n",
    "    return out_str\n",
    "\n",
    "class SolutionNaive:\n",
    "    def reverseList(self, head):\n",
    "        if not head:\n",
    "            return\n",
    "        values = []\n",
    "        curr = head\n",
    "        while curr:\n",
    "            values.append(curr.val)\n",
    "            curr = curr.next\n",
    "        head = ListNode(values[-1])\n",
    "        curr = head\n",
    "        for i in range(len(values)-2, -1, -1):\n",
    "            curr.next = ListNode(values[i])\n",
    "            curr = curr.next\n",
    "        return head        \n",
    "\n",
    "class SolutionIterative:\n",
    "    def reverseList(self, head):\n",
    "        prev, curr = None, head\n",
    "        while curr:\n",
    "            next = curr.next\n",
    "            curr.next = prev\n",
    "            prev = curr\n",
    "            curr = next\n",
    "        return prev\n",
    "\n",
    "\n",
    "class SolutionRecursive:\n",
    "    def reverseList(self, head):\n",
    "        if not head.next:\n",
    "            return head\n",
    "        else:\n",
    "            new_head = self.reverseList(head.next)\n",
    "            head.next.next = head\n",
    "            head.next = None\n",
    "        \n",
    "        return new_head\n",
    "\n",
    "\n",
    "# Test\n",
    "test = [1, 2, 3]\n",
    "print(f'''\n",
    "List: {build_list(*test)}\n",
    "\n",
    "Reversed list (Naïve): {print_list(SolutionNaive().reverseList(build_list(*test)))}\n",
    "Reversed list (Iterative): {print_list(SolutionIterative().reverseList(build_list(*test)))}\n",
    "Reversed list (Recursive): {print_list(SolutionRecursive().reverseList(build_list(*test)))}\n",
    "''')"
   ]
  }
 ],
 "metadata": {
  "kernelspec": {
   "display_name": "Python 3",
   "language": "python",
   "name": "python3"
  },
  "language_info": {
   "name": "python",
   "version": "3.10.6"
  },
  "orig_nbformat": 4,
  "vscode": {
   "interpreter": {
    "hash": "916dbcbb3f70747c44a77c7bcd40155683ae19c65e1c03b4aa3499c5328201f1"
   }
  }
 },
 "nbformat": 4,
 "nbformat_minor": 2
}
