{
 "cells": [
  {
   "cell_type": "code",
   "execution_count": 23,
   "metadata": {},
   "outputs": [],
   "source": [
    "from typing import List\n",
    "\n",
    "def binary_search(array, target):\n",
    "    start, end, leftmost = 0, len(array) - 1, -1\n",
    "\n",
    "    while start <= end:\n",
    "        m = start + (end - start) // 2\n",
    "        if target < array[m]:\n",
    "            end = m - 1\n",
    "        if array[m] < target:\n",
    "            start = m + 1\n",
    "        else:\n",
    "            leftmost = m\n",
    "            if 0 <= m - 1 and array[m - 1] == target:\n",
    "                end = m - 1\n",
    "            else:\n",
    "                break\n",
    "    return leftmost\n",
    "\n",
    "class KthLargestNaive:\n",
    "    def __init__(self, k: int, nums: List[int]):\n",
    "        self.k = k\n",
    "        self.nums = nums\n",
    "        self.nums.sort()\n",
    "        if len(self.nums) > k:\n",
    "            self.nums = self.nums[:k]\n",
    "\n",
    "    def add(self, val: int) -> int:\n",
    "        pass\n"
   ]
  },
  {
   "cell_type": "code",
   "execution_count": 24,
   "metadata": {},
   "outputs": [
    {
     "data": {
      "text/plain": [
       "7"
      ]
     },
     "execution_count": 24,
     "metadata": {},
     "output_type": "execute_result"
    }
   ],
   "source": [
    "binary_search([2, 3, 4, 5, 6, 7, 8, 9, 9, 9, 9, 9], 9)"
   ]
  },
  {
   "cell_type": "code",
   "execution_count": 18,
   "metadata": {},
   "outputs": [],
   "source": [
    "kthLargestNaive = KthLargestNaive(3, [4, 5, 8, 2])\n",
    "kthLargestNaive.add(3);  # return 4\n",
    "kthLargestNaive.add(5);  # return 5\n",
    "kthLargestNaive.add(10)  # return 5\n",
    "kthLargestNaive.add(9);  # return 8\n",
    "kthLargestNaive.add(4);  # return 8"
   ]
  },
  {
   "cell_type": "code",
   "execution_count": null,
   "metadata": {},
   "outputs": [],
   "source": []
  },
  {
   "cell_type": "code",
   "execution_count": null,
   "metadata": {},
   "outputs": [],
   "source": []
  }
 ],
 "metadata": {
  "kernelspec": {
   "display_name": "Python 3",
   "language": "python",
   "name": "python3"
  },
  "language_info": {
   "codemirror_mode": {
    "name": "ipython",
    "version": 3
   },
   "file_extension": ".py",
   "mimetype": "text/x-python",
   "name": "python",
   "nbconvert_exporter": "python",
   "pygments_lexer": "ipython3",
   "version": "3.10.6"
  },
  "orig_nbformat": 4
 },
 "nbformat": 4,
 "nbformat_minor": 2
}
