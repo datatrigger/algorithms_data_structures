{
 "cells": [
  {
   "cell_type": "markdown",
   "metadata": {},
   "source": [
    "# Brute force\n",
    "\n",
    "Compute all subarrays and their product, retain max product."
   ]
  },
  {
   "cell_type": "code",
   "execution_count": 10,
   "metadata": {},
   "outputs": [
    {
     "data": {
      "text/plain": [
       "24"
      ]
     },
     "execution_count": 10,
     "metadata": {},
     "output_type": "execute_result"
    }
   ],
   "source": [
    "from functools import reduce\n",
    "\n",
    "def brute_force_cube(nums: list[int]) -> int:\n",
    "    res = float(\"-inf\")\n",
    "    for i in range(len(nums)):\n",
    "        for j in range(i + 1, len(nums) + 1):\n",
    "            subproduct = reduce(lambda x, y: x * y, nums[i:j])\n",
    "            res = max(res, subproduct)\n",
    "    return res\n",
    "\n",
    "def brute_force_square(nums: list[int]) -> int:\n",
    "    res = float(\"-inf\")\n",
    "    for i in range(len(nums)):\n",
    "        subproduct = 1\n",
    "        for j in range(i, len(nums)):\n",
    "            subproduct *= nums[j]\n",
    "            res = max(res, subproduct)\n",
    "    return res\n",
    "\n",
    "nums = [1, 2, 3, 4]\n",
    "brute_force_cube(nums)"
   ]
  },
  {
   "cell_type": "code",
   "execution_count": 11,
   "metadata": {},
   "outputs": [
    {
     "data": {
      "text/plain": [
       "24"
      ]
     },
     "execution_count": 11,
     "metadata": {},
     "output_type": "execute_result"
    }
   ],
   "source": [
    "brute_force_square(nums)"
   ]
  }
 ],
 "metadata": {
  "kernelspec": {
   "display_name": "Python 3",
   "language": "python",
   "name": "python3"
  },
  "language_info": {
   "codemirror_mode": {
    "name": "ipython",
    "version": 3
   },
   "file_extension": ".py",
   "mimetype": "text/x-python",
   "name": "python",
   "nbconvert_exporter": "python",
   "pygments_lexer": "ipython3",
   "version": "3.10.12"
  }
 },
 "nbformat": 4,
 "nbformat_minor": 2
}
