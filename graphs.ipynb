{
 "cells": [
  {
   "attachments": {},
   "cell_type": "markdown",
   "metadata": {},
   "source": [
    "# 1 Data structures\n",
    "\n",
    "## 1.a Matrix\n",
    "\n",
    "A common approach is to represent vertices with 0s with implicit edges (left, right, down, up). 1s mean \"no edge\".\n",
    "\n",
    "*Example:*"
   ]
  },
  {
   "cell_type": "code",
   "execution_count": 77,
   "metadata": {},
   "outputs": [],
   "source": [
    "graph=[\n",
    "    [0,1,1,0],\n",
    "    [0,0,1,0],\n",
    "    [1,1,0,0],\n",
    "    [0,0,0,0],\n",
    "]"
   ]
  },
  {
   "attachments": {},
   "cell_type": "markdown",
   "metadata": {},
   "source": [
    "## 1.b Adjacency matrix\n",
    "\n",
    "In this case; M[r=i][c=j] means an edge exists from vertice *i* to vertice *j*. This structure is not that common in CS because it has a O(V<sup>2</sup>) space complexity, even though the graph has only *V* vertices.\n",
    "\n",
    "## 1.c Adjacency list"
   ]
  },
  {
   "cell_type": "code",
   "execution_count": 78,
   "metadata": {},
   "outputs": [],
   "source": [
    "class Vertice:\n",
    "    def __init__(self, val):\n",
    "        self.val = val\n",
    "        self.neighbors = []"
   ]
  },
  {
   "attachments": {},
   "cell_type": "markdown",
   "metadata": {},
   "source": [
    "# 2 Matrix DFS\n",
    "\n",
    "Question: count unique paths from top left to bottom right. Only 0s are allowed, no more than 1 visit per node for a given path.\n",
    "\n",
    "## Architecture:\n",
    "\n",
    "```\n",
    "dfs(grid: list[list[int]], row: int, col: int, visited: set[tuple[int, int]]):\n",
    "\n",
    "    # Base case: invalid\n",
    "    if <OOB> or <Blocked> or <Visited>:\n",
    "        return 0\n",
    "    # Base case: invalid\n",
    "    if <Reached>:\n",
    "        return 1\n",
    "\n",
    "    # Recursive call\n",
    "    visit.add(row, col)\n",
    "    count = 0\n",
    "    count += dfs(<above|left|right|below>)\n",
    "    visit.remove(row, col)\n",
    "    \n",
    "    return count\n",
    "```\n",
    "\n",
    "## Complexity\n",
    "\n",
    "### Time complexity\n",
    "\n",
    "Intuition: a path can \"cover\" the entire matrix, adding to `n*m` nodes. At each step of the paths, a recursive call is made to up to 4 nodes - One could argue the fourth one does not count since it is the parent node. Hence the worst-case time complexity is $O(4^{n.m})$ or $O(3^{n.m})$ depending on the analysis.\n",
    "\n",
    "### Space complexity\n",
    "\n",
    "A given path is composed of up to `n*m` nodes, hence the size of the recursive call stack can be $O(n.m)$ in the worst case."
   ]
  },
  {
   "cell_type": "code",
   "execution_count": 1,
   "metadata": {},
   "outputs": [
    {
     "data": {
      "text/plain": [
       "array([[0, 0, 0, 0],\n",
       "       [1, 1, 0, 0],\n",
       "       [0, 0, 0, 1],\n",
       "       [0, 1, 0, 0]])"
      ]
     },
     "execution_count": 1,
     "metadata": {},
     "output_type": "execute_result"
    }
   ],
   "source": [
    "# DFS: implementation\n",
    "\n",
    "def dfs(grid: list[list[int]], row: int = 0, col: int = 0, visited: set[tuple[int, int]] = set()):\n",
    "    R, C = len(grid), len(grid[0])\n",
    "    # OOB or blocked or visited\n",
    "    base_case_invalid = min(row, col) < 0\\\n",
    "        or row >= R or col >= C\\\n",
    "        or grid[row][col] == 1\\\n",
    "        or (row, col) in visited\n",
    "\n",
    "    # Reached target\n",
    "    base_case_valid = ((row, col) == (R - 1, C - 1))\n",
    "\n",
    "    if base_case_invalid:\n",
    "        return 0\n",
    "\n",
    "    if base_case_valid:\n",
    "        return 1\n",
    "    \n",
    "    # Recursive calls\n",
    "    visited.add((row, col))\n",
    "    \n",
    "    count = 0\n",
    "    count += dfs(grid, row - 1, col, visited)\n",
    "    count += dfs(grid, row + 1, col, visited)\n",
    "    count += dfs(grid, row, col - 1, visited)\n",
    "    count += dfs(grid, row, col + 1, visited)\n",
    "\n",
    "    visited.remove((row, col))\n",
    "\n",
    "    return count\n",
    "\n",
    "from numpy import array\n",
    "m = array([[0]*4 for _ in range(4)])\n",
    "m[1,0] = m[1, 1] = m[3, 1] = m[2, 3] = 1\n",
    "m"
   ]
  },
  {
   "cell_type": "code",
   "execution_count": 80,
   "metadata": {},
   "outputs": [
    {
     "data": {
      "text/plain": [
       "2"
      ]
     },
     "execution_count": 80,
     "metadata": {},
     "output_type": "execute_result"
    }
   ],
   "source": [
    "dfs(m)"
   ]
  },
  {
   "attachments": {},
   "cell_type": "markdown",
   "metadata": {},
   "source": [
    "# 3 Matrix BFS\n",
    "\n",
    "Question: Length of shortest path from top left to bottom right.\n",
    "\n",
    "## Architecture:\n",
    "\n",
    "```\n",
    "bfs():\n",
    "    queue, visit = deque[(0, 0)], set[(0, 0)]\n",
    "    length = 1\n",
    "\n",
    "    while queue:\n",
    "        length += 1\n",
    "        for _ in [1..len(queue)]:\n",
    "\n",
    "            row, col = queue.popleft()\n",
    "\n",
    "            if <Reached>:\n",
    "                return length\n",
    "\n",
    "            for neighbor in neighbors(row, col):\n",
    "                if <OOB> or <Blocked> or <Visited>:\n",
    "                    continue\n",
    "                queue.append(neighbor)\n",
    "                visit.add(neighbor)         \n",
    "```\n",
    "\n",
    "## Complexity\n",
    "\n",
    "### Time complexity\n",
    "\n",
    "Worst-case scenario, all the nodes are visited exactly once (thanks to the maintained `set`), so the time complexity is $O(n.m)$\n",
    "\n",
    "### Space complexity\n",
    "\n",
    "All the created objects are $O(n.m)$.\n"
   ]
  },
  {
   "cell_type": "code",
   "execution_count": 81,
   "metadata": {},
   "outputs": [],
   "source": [
    "# BFS: implementation\n",
    "\n",
    "from collections import deque\n",
    "\n",
    "def bfs(grid: list[list[int]]) -> int:\n",
    "    queue = deque()\n",
    "    visited = set()\n",
    "    R, C = len(grid), len(grid[0])\n",
    "\n",
    "    visited.add((0, 0))\n",
    "    queue.append((0, 0))\n",
    "    length = -1\n",
    "    while queue:\n",
    "        length += 1\n",
    "        for _ in range(len(queue)):\n",
    "            row, col = queue.popleft()\n",
    "            if (row, col) == (R - 1, C - 1):\n",
    "                return length\n",
    "            \n",
    "            deltas = [(1, 0), (-1, 0), (0, 1), (0, -1)]\n",
    "            for dr, dc in deltas:\n",
    "                neighbor = (row + dr, col + dc)\n",
    "\n",
    "                invalid_neighbor = min(*neighbor) < 0 or neighbor[0] >= R or neighbor[1] >= C \\\n",
    "                    or grid[neighbor] == 1 \\\n",
    "                    or neighbor in visited\n",
    "                if invalid_neighbor:\n",
    "                    continue\n",
    "                \n",
    "                visited.add(neighbor) # Important to do ASAP: e.g. (1, 1) is a neighbor of both (0, 1) and (1, 0), which are neighbors of (0, 0)\n",
    "                queue.append(neighbor)"
   ]
  },
  {
   "cell_type": "code",
   "execution_count": 82,
   "metadata": {},
   "outputs": [
    {
     "data": {
      "text/plain": [
       "6"
      ]
     },
     "execution_count": 82,
     "metadata": {},
     "output_type": "execute_result"
    }
   ],
   "source": [
    "bfs(m)"
   ]
  },
  {
   "attachments": {},
   "cell_type": "markdown",
   "metadata": {},
   "source": [
    "# 4 Adjacency lists\n",
    "\n",
    "## 4.a Graph nodes"
   ]
  },
  {
   "cell_type": "code",
   "execution_count": 83,
   "metadata": {},
   "outputs": [],
   "source": [
    "class GraphNode:\n",
    "    def __init__(self, val, neighbors: list = []):\n",
    "        self.val = val\n",
    "        self.neighbors = neighbors"
   ]
  },
  {
   "attachments": {},
   "cell_type": "markdown",
   "metadata": {},
   "source": [
    "## 4.b Hash maps"
   ]
  },
  {
   "cell_type": "code",
   "execution_count": 84,
   "metadata": {},
   "outputs": [
    {
     "data": {
      "text/plain": [
       "{'A': ['B'], 'B': ['C', 'E'], 'C': ['E'], 'E': ['D'], 'D': []}"
      ]
     },
     "execution_count": 84,
     "metadata": {},
     "output_type": "execute_result"
    }
   ],
   "source": [
    "# Example\n",
    "adj = {\"A\": [\"B\", \"C\"], \"B\": [\"A\"]}\n",
    "\n",
    "# Build an adjacency list from a list of directed edges\n",
    "edges = [[\"A\", \"B\"], [\"B\", \"C\"], [\"B\", \"E\"], [\"C\", \"E\"], [\"E\", \"D\"]]\n",
    "\n",
    "# defaultdict is not that useful here (save 1 line)\n",
    "# because a vertice that is only an arrival (e.g. \"C\") does not get added as key\n",
    "adj = {}\n",
    "for src, dst in edges:\n",
    "    if src not in adj:\n",
    "        adj[src] = []\n",
    "    if dst not in adj:\n",
    "        adj[dst] = []\n",
    "    adj[src].append(dst)\n",
    "\n",
    "adj"
   ]
  },
  {
   "attachments": {},
   "cell_type": "markdown",
   "metadata": {},
   "source": [
    "## 4.c Traversal algorithms"
   ]
  },
  {
   "cell_type": "code",
   "execution_count": 85,
   "metadata": {},
   "outputs": [],
   "source": [
    "# DFS\n",
    "\n",
    "def dfs(adj: dict[str: list[str]], src: str, dst: str, visited: set[str] = set()) -> int:\n",
    "\n",
    "    if src == dst:\n",
    "        return 1\n",
    "    \n",
    "    if src in visited:\n",
    "        return 0\n",
    "    \n",
    "    count = 0\n",
    "    visited.add(src)\n",
    "    for neighbor in adj[src]:\n",
    "        count += dfs(adj, neighbor, dst, visited)\n",
    "    visited.remove(src)\n",
    "    return count"
   ]
  },
  {
   "cell_type": "code",
   "execution_count": 86,
   "metadata": {},
   "outputs": [
    {
     "data": {
      "text/plain": [
       "2"
      ]
     },
     "execution_count": 86,
     "metadata": {},
     "output_type": "execute_result"
    }
   ],
   "source": [
    "dfs(adj, \"A\", \"E\")"
   ]
  },
  {
   "cell_type": "code",
   "execution_count": 87,
   "metadata": {},
   "outputs": [],
   "source": [
    "# BFS\n",
    "from collections import deque\n",
    "def bfs(adj: dict[str: list[str]], src: str, dst: str) -> int:\n",
    "    queue = deque()\n",
    "    visited = set()\n",
    "\n",
    "    queue.append(src)\n",
    "    visited.add(src)\n",
    "    length = -1\n",
    "\n",
    "    while queue:\n",
    "        length += 1\n",
    "        for _ in range(len(queue)):\n",
    "            current = queue.popleft()\n",
    "            if current == dst:\n",
    "                return length\n",
    "            for neighbor in adj[current]:\n",
    "                if neighbor not in visited:\n",
    "                    queue.append(neighbor)\n",
    "                    visited.add(neighbor)\n",
    "    return -1\n"
   ]
  },
  {
   "cell_type": "code",
   "execution_count": 88,
   "metadata": {},
   "outputs": [
    {
     "data": {
      "text/plain": [
       "2"
      ]
     },
     "execution_count": 88,
     "metadata": {},
     "output_type": "execute_result"
    }
   ],
   "source": [
    "bfs(adj, \"A\", \"E\")"
   ]
  },
  {
   "attachments": {
    "image.png": {
     "image/png": "[encoded data removed]"
    }
   },
   "cell_type": "markdown",
   "metadata": {},
   "source": [
    "# 5 Shortest path algorithms\n",
    "\n",
    "Context: Directed (or undirected, considering each edge to be bidirectional) weighted graphs.\n",
    "\n",
    "## 5.a Dijkstra\n",
    "\n",
    "Implementation: heapq does not support updating priority queue keys, so instead the same node can be pushed several times, with different keys. It is only marked as visited when it is popped from the queue for the first time (and in such a case, the key is guaranteed to be minimal).\n",
    "\n",
    "*Negative weights*: Do not use Dijkstra if any edge has a negative weight, as the algorithm can fail in such a case. Since it is greedy, it cannot anticipate the fact that an expensive edge might be worth taking if the path contains negative weights later on.\n",
    "\n",
    "![image.png](attachment:image.png)"
   ]
  },
  {
   "cell_type": "code",
   "execution_count": 89,
   "metadata": {},
   "outputs": [
    {
     "name": "stdout",
     "output_type": "stream",
     "text": [
      "{0: 0, 1: 7, 2: 3, 3: 9, 4: 5}\n"
     ]
    }
   ],
   "source": [
    "import heapq\n",
    "\n",
    "def dijkstra_with_set(n, edges: list[tuple[str, str, int]], src: str) -> dict[str: int]:\n",
    "  # Convert edges to adjacency list\n",
    "  adj_list = {v: [] for v in range(n)}\n",
    "  for v, neighbor, distance in edges:\n",
    "     adj_list[v].append((neighbor, distance))\n",
    "  # Dijkstra\n",
    "  visited, shortest = set(), {v: float(\"inf\") for v in adj_list}\n",
    "  heap = [(0, src)]\n",
    "  while heap:\n",
    "      src_to_v, v = heapq.heappop(heap)\n",
    "      if v in visited:\n",
    "          continue\n",
    "      visited.add(v)\n",
    "      shortest[v] = src_to_v\n",
    "      for neighbor, v_to_neighbor in adj_list[v]:\n",
    "          # if neighbor not in visited: # Optional, this can just reduce the size of the heap \n",
    "          heapq.heappush(heap, (src_to_v + v_to_neighbor, neighbor))\n",
    "  return shortest\n",
    "\n",
    "print(dijkstra_with_set(n=5, edges=[[0,1,10],[0,2,3],[1,3,2],[2,1,4],[2,3,8],[2,4,2],[3,4,5]], src=0))"
   ]
  },
  {
   "cell_type": "code",
   "execution_count": 90,
   "metadata": {},
   "outputs": [
    {
     "name": "stdout",
     "output_type": "stream",
     "text": [
      "{0: 0, 2: 3, 4: 5, 1: 7, 3: 9}\n"
     ]
    }
   ],
   "source": [
    "# Using the dictionary `shortest` as the set of visited nodes:\n",
    "\n",
    "def dijkstra(n, edges: list[tuple[str, str, int]], src: str) -> dict[str: int]:\n",
    "  # Convert edges to adjacency list\n",
    "  adj_list = {v: [] for v in range(n)}\n",
    "  for v, neighbor, distance in edges:\n",
    "      adj_list[v].append((neighbor, distance))\n",
    "  # Dijkstra\n",
    "  shortest = {}\n",
    "  heap = [(0, src)]\n",
    "  while heap:\n",
    "      src_to_v, v = heapq.heappop(heap)\n",
    "      if v in shortest:\n",
    "          continue\n",
    "      shortest[v] = src_to_v\n",
    "      for neighbor, v_to_neighbor in adj_list[v]:\n",
    "          heapq.heappush(heap, (src_to_v + v_to_neighbor, neighbor))\n",
    "  return shortest\n",
    "\n",
    "print(dijkstra(n=5, edges=[[0,1,10],[0,2,3],[1,3,2],[2,1,4],[2,3,8],[2,4,2],[3,4,5]], src=0))"
   ]
  },
  {
   "cell_type": "markdown",
   "metadata": {},
   "source": [
    "## 5.b A*\n",
    "\n",
    "[A* algorithm](https://en.wikipedia.org/wiki/A*_search_algorithm).\n",
    "\n",
    "A* is Dijkstra enhanced with a heuristic, but with a specific target node. The nodes are popped from the priority queue according to their distance to the source through visited nodes **+ an admissible heuristic that evalutates the remaining distance to the target node**. Admissible means that the heuristic should never overestimate the remaining distance to the target node, otherwise A* may skip the actual shortest path."
   ]
  },
  {
   "cell_type": "markdown",
   "metadata": {},
   "source": [
    "## 5.c Bellman-Ford\n",
    "\n",
    "* Less efficient than Dijkstra: $O(EV)$\n",
    "* Negative weights\n",
    "    * Works with negative weights that are not part of a cycle\n",
    "    * Detects negative cycles\n",
    "* Works with edges as an input\n",
    "* Convenient to track the number of iterations (e.g. 787. Cheapest Flights Within K Stops)\n",
    "\n",
    "```python\n",
    "# n = number of nodes\n",
    "\n",
    "# Find shortest paths, for the nodes who are not directly or indirectly part of a negative cycle\n",
    "shortest = {node: float(\"inf\") for node in range(n)}\n",
    "shortest[\"A\"] = 0\n",
    "for _ in range(n - 1):\n",
    "    for u, v, d in edges:\n",
    "        shortest[v] = min(shortest[v], shortest[u] + d)\n",
    "\n",
    "# Mark nodes that are directly or indirectly part of a negative cycle with a float(\"-inf\") shortest distance\n",
    "for _ in range(n - 1):\n",
    "    for u, v, d in edges:\n",
    "        if shortest[u] + d < shortest[v]:\n",
    "            shortest[v] = float(\"-inf\")\n",
    "```\n",
    "\n",
    "### Shortest Path Faster Algorithm (SPFA)\n",
    "\n",
    "It is an optimized version of Bellman-Ford. Instead of blindly iterating over the edges, use an adjacency list and process the nodes with a queue. When processing a node:\n",
    "* If the shortest distance from source does not improve, then there is no point adding the neighbors to the queue -> Continue\n",
    "* If the shortest distance from source improves, then add the neighbors to the queue"
   ]
  },
  {
   "cell_type": "markdown",
   "metadata": {},
   "source": [
    "# 6 Topological Sort\n",
    "\n",
    ">  Topological sort or topological ordering of a directed graph is a linear ordering of its vertices such that for every directed edge (u,v) from vertex u to vertex v, u comes before v in the ordering\n",
    "\n",
    "For Directed Acyclic Graphs:\n",
    "* Directed: who comes first in undirected edge (u, v)?\n",
    "* Acyclical: same problem, ordering nodes in a cycle is ambiguous"
   ]
  },
  {
   "cell_type": "code",
   "execution_count": 3,
   "metadata": {},
   "outputs": [
    {
     "name": "stdout",
     "output_type": "stream",
     "text": [
      "['A', 'C', 'E', 'B', 'D', 'F']\n",
      "['G', 'H', 'A', 'C', 'E', 'B', 'D', 'F']\n",
      "['G', 'H', 'A', 'C', 'E', 'B', 'D', 'F']\n"
     ]
    }
   ],
   "source": [
    "# Input graph\n",
    "edges = [\n",
    "    (\"A\", \"B\"),\n",
    "    (\"A\", \"C\"),\n",
    "    (\"B\", \"D\"),\n",
    "    (\"C\", \"E\"),\n",
    "    (\"D\", \"F\"),\n",
    "    (\"E\", \"F\"),\n",
    "    (\"G\", \"H\")\n",
    "]\n",
    "\n",
    "# Adjacency list\n",
    "graph = {}\n",
    "for src, dst in edges:\n",
    "    if src not in graph:\n",
    "        graph[src] = []\n",
    "    if dst not in graph:\n",
    "        graph[dst] = []\n",
    "    graph[src].append(dst)\n",
    "\n",
    "# Connected graph, knowing start node\n",
    "def top_sort_with_start(graph: dict[str: list[str]], start_node: str) -> list[str]:\n",
    "    res = []\n",
    "    visited = set()\n",
    "\n",
    "    def dfs_postorder(v: str) -> None:\n",
    "        if v in visited:\n",
    "            return\n",
    "        visited.add(v)\n",
    "        for nei in graph[v]:\n",
    "            dfs_postorder(nei)\n",
    "        res.append(v)\n",
    "    \n",
    "    dfs_postorder(start_node)\n",
    "    res.reverse()\n",
    "    return res\n",
    "\n",
    "print(top_sort_with_start(graph=graph, start_node=\"A\"))\n",
    "\n",
    "# General case\n",
    "def top_sort_no_cycle(graph: dict[str: list[str]]) -> list[str]:\n",
    "\n",
    "    def dfs_postorder(v: str) -> None:\n",
    "        if v in visited:\n",
    "            return\n",
    "        visited.add(v)\n",
    "        for nei in graph[v]:\n",
    "            dfs_postorder(nei)\n",
    "        res.append(v)\n",
    "\n",
    "    res, visited = [], set()\n",
    "    for v in graph:\n",
    "        dfs_postorder(v)\n",
    "    res.reverse()\n",
    "    return res\n",
    "\n",
    "print(top_sort_no_cycle(graph))\n",
    "\n",
    "# Topological sort with cycle detection\n",
    "\n",
    "class CycleDetectedError(Exception):\n",
    "    pass\n",
    "\n",
    "def top_sort(graph: dict[str: list[str]]) -> list[str]:\n",
    "    def dfs(v:str, path: set[str]) -> None:\n",
    "        if v in path:\n",
    "            raise CycleDetectedError(\"Could not run topological sort: cycle detected in input graph\")\n",
    "        if v in visited:\n",
    "            return\n",
    "        path.add(v)\n",
    "        visited.add(v) # Can also be put after the recursive calls, in such a case the 2 base cases can be in any order\n",
    "        for nei in graph[v]:\n",
    "            dfs(nei, path)\n",
    "        path.remove(v)\n",
    "        topsort.append(v)\n",
    "        return\n",
    "\n",
    "    visited = set()\n",
    "    topsort = []\n",
    "    for v in graph:\n",
    "        path = set()\n",
    "        dfs(v, path)\n",
    "    topsort.reverse()\n",
    "    return topsort\n",
    "\n",
    "print(top_sort(graph))"
   ]
  },
  {
   "cell_type": "code",
   "execution_count": 4,
   "metadata": {},
   "outputs": [
    {
     "data": {
      "text/plain": [
       "['A', 'G', 'B', 'C', 'H', 'D', 'E', 'F']"
      ]
     },
     "execution_count": 4,
     "metadata": {},
     "output_type": "execute_result"
    }
   ],
   "source": [
    "from collections import deque\n",
    "def kahn(graph: dict[str: list[str]]) -> list[str]:\n",
    "    \"\"\"\n",
    "    Returns a topological sort of the input adjacency list if possible.\n",
    "    If there is a cycle, returns an empty list.\n",
    "    \"\"\"\n",
    "\n",
    "    # Get in-degrees\n",
    "    in_degree = {v: 0 for v in graph}\n",
    "    for v in graph:\n",
    "        for nei in graph[v]:\n",
    "            in_degree[nei] += 1\n",
    "    \n",
    "    # Init queue with 0-in-degree nodes\n",
    "    queue = deque([v for v in in_degree if in_degree[v] == 0])\n",
    "\n",
    "    # Topological sort\n",
    "    topsort = []\n",
    "    while queue:\n",
    "        v = queue.popleft()\n",
    "        topsort.append(v)\n",
    "        for nei in graph[v]:\n",
    "            in_degree[nei] -= 1\n",
    "            if in_degree[nei] == 0:\n",
    "                queue.append(nei)\n",
    "\n",
    "    return topsort if len(topsort) == len(graph) else []\n",
    "\n",
    "kahn(graph)"
   ]
  },
  {
   "cell_type": "markdown",
   "metadata": {},
   "source": [
    "# 7 Cycle detection - Directed graphs\n",
    "\n",
    "*Algrithms tested on leetcode's Course Schedule problem*\n",
    "\n",
    "With directed graphs, the nodes must be marked two distinct ways, e.g. 'explored' or 'being_explored', as opposed to the usual `visited` set. This is necessary to avoid wrongly identifying a cycle in such a configuration: `{A: [B, C], B: [D], C: [D], D: []}`\n",
    "\n",
    "## 7.a Using Topological Sort\n",
    "\n",
    "See previous section\n",
    "\n",
    "## 7.b Using standard DFS"
   ]
  },
  {
   "cell_type": "code",
   "execution_count": 92,
   "metadata": {},
   "outputs": [],
   "source": [
    "# Check `being_explored` before `explored`!!!\n",
    "# A node can be (explored and not being_explored) i.e. completely processed,\n",
    "# but not (being_explored and not explored)!\n",
    "# To avoid this mistake for sure the current vertex can be marked as explored only at the end of the procedure\n",
    "\n",
    "def has_cycle_set(graph: dict[str: list[str]]) -> bool:\n",
    "    \n",
    "    def dfs(v: str) -> bool:\n",
    "        if v in being_explored:\n",
    "            return True\n",
    "        if v in explored:\n",
    "            return False\n",
    "        explored.add(v)\n",
    "        being_explored.add(v)\n",
    "        for nei in graph[v]:\n",
    "            if dfs(nei):\n",
    "                return True\n",
    "        being_explored.remove(v)\n",
    "        return False\n",
    "\n",
    "    for v in graph:\n",
    "        explored, being_explored = set(), set()\n",
    "        if dfs(v):\n",
    "            return True\n",
    "    return False\n",
    "\n",
    "# Feels a bit less natural but some recursive calls are avoided\n",
    "def has_cycle_set2(graph: dict[str: list[str]]) -> bool:\n",
    "    \n",
    "    def dfs(v: str) -> bool:\n",
    "        explored.add(v)\n",
    "        being_explored.add(v)\n",
    "        back_edge = False\n",
    "        for nei in graph[v]:\n",
    "            if nei in being_explored:\n",
    "                return True\n",
    "            if nei in explored:\n",
    "                continue\n",
    "            back_edge = back_edge or dfs(nei)\n",
    "        being_explored.remove(v)\n",
    "        return back_edge\n",
    "\n",
    "    for v in graph:\n",
    "        explored, being_explored = set(), set()\n",
    "        if dfs(v):\n",
    "            return True\n",
    "    return False"
   ]
  },
  {
   "cell_type": "code",
   "execution_count": 93,
   "metadata": {},
   "outputs": [],
   "source": [
    "from enum import Enum\n",
    "\n",
    "class Status(Enum):\n",
    "    NOT_EXPLORED, EXPLORED, BEING_EXPLORED = range(1, 4)\n",
    "\n",
    "def has_cycle_map(raph: dict[str: list[str]]) -> bool:\n",
    "\n",
    "    def dfs(v: str) -> bool:\n",
    "        status[v] = Status.BEING_EXPLORED\n",
    "        res = False\n",
    "        for neighbor in adj[v]:\n",
    "            if status[neighbor] == Status.EXPLORED:\n",
    "                continue\n",
    "            if status[neighbor] == Status.BEING_EXPLORED:\n",
    "                return True\n",
    "            res = res or dfs(neighbor, status)\n",
    "        status[v] = Status.EXPLORED\n",
    "        return res\n",
    "\n",
    "    for v in adj:\n",
    "        status = {node: Status.NOT_EXPLORED for node in adj}\n",
    "        if dfs(v, status):\n",
    "            return True\n",
    "    return False"
   ]
  },
  {
   "cell_type": "markdown",
   "metadata": {},
   "source": [
    "# 8 Cycle detection - Undirected graphs\n",
    "\n",
    "If the graph is connected, just count the number of edges E. If $E \\geq V$, then there must be a cycle.  \n",
    "\n",
    "Otherwise, the DFS method is simpler than for directed graphs because any encounter with a visited node means a cycle, except if the already visited node is the parent of the current node."
   ]
  },
  {
   "cell_type": "code",
   "execution_count": 94,
   "metadata": {},
   "outputs": [
    {
     "name": "stdout",
     "output_type": "stream",
     "text": [
      "[False, True, True]\n"
     ]
    }
   ],
   "source": [
    "# Adjacency list\n",
    "def build_graph(edges: list[tuple[str, str]]) -> dict[str: list[str]]:\n",
    "    graph = {}\n",
    "    for src, dst in edges:\n",
    "        if src not in graph:\n",
    "            graph[src] = []\n",
    "        if dst not in graph:\n",
    "            graph[dst] = []\n",
    "        graph[src].append(dst)\n",
    "        graph[dst].append(src)\n",
    "    return graph\n",
    "    \n",
    "def has_cycle_undirected(graph: dict[str: list[str]]) -> bool:\n",
    "    def dfs(v: str, p:str):\n",
    "        visited.add(v)\n",
    "        for nei in graph[v]:\n",
    "            if nei == p:\n",
    "                continue\n",
    "            if nei in visited or dfs(nei, v):\n",
    "                return True\n",
    "        return False\n",
    "\n",
    "    visited =set()\n",
    "    for v in graph:\n",
    "        if v in visited:\n",
    "            continue\n",
    "        if dfs(v, None):\n",
    "            return True\n",
    "    return False\n",
    "\n",
    "acyclic = [\n",
    "    (\"A\", \"B\"),\n",
    "    (\"A\", \"C\"),\n",
    "    (\"C\", \"D\"),\n",
    "    (\"D\", \"E\"),\n",
    "    (\"D\", \"G\"),\n",
    "    (\"E\", \"F\")\n",
    "]\n",
    "\n",
    "cyclic_connected = [\n",
    "    (\"A\", \"B\"),\n",
    "    (\"A\", \"C\"),\n",
    "    (\"C\", \"D\"),\n",
    "    (\"D\", \"E\"),\n",
    "    (\"D\", \"F\"),\n",
    "    (\"D\", \"G\"),\n",
    "    (\"E\", \"F\"),\n",
    "    (\"X\", \"Y\"),\n",
    "    (\"Y\", \"Z\")\n",
    "]\n",
    "\n",
    "cyclic_unconnected = [\n",
    "    (\"A\", \"B\"),\n",
    "    (\"A\", \"C\"),\n",
    "    (\"C\", \"D\"),\n",
    "    (\"D\", \"E\"),\n",
    "    (\"D\", \"F\"),\n",
    "    (\"D\", \"G\"),\n",
    "    (\"E\", \"F\"),\n",
    "    (\"X\", \"Y\"),\n",
    "    (\"Y\", \"Z\")\n",
    "]\n",
    "graphs = [build_graph(edges) for edges in (acyclic, cyclic_connected, cyclic_unconnected)]\n",
    "print([has_cycle_undirected(graph) for graph in graphs])"
   ]
  },
  {
   "cell_type": "markdown",
   "metadata": {},
   "source": [
    "This is useful to determine if a graph is a tree, i.e. a connected acyclic undirected graph."
   ]
  },
  {
   "cell_type": "markdown",
   "metadata": {},
   "source": [
    "# 9 Union-Find a.k.a Disjoint-Set\n",
    "\n",
    "Context: **undirected** graphs.\n",
    "\n",
    "Use-cases:\n",
    "* Count connected components\n",
    "* Detect cycles\n",
    "\n",
    "*Both implementations tested using Leetcode's Redundant Connection*\n",
    "\n",
    "## 9.a Core ideas\n",
    "\n",
    "Input:\n",
    "* List of vertices\n",
    "* List of edges\n",
    "\n",
    "Vanilla algorithm:\n",
    "* Initially, the data structures is composed of all the nodes with no edges, except self-references: each node is its own parent\n",
    "* For each edge, get the root parent (\"representative\") of each node, characterized by identity node = parent(node)\n",
    "    * If the roots are the same, then the input graph contains a cycle\n",
    "    * Else, connect the **roots** (the roots! Not the parents!)"
   ]
  },
  {
   "cell_type": "code",
   "execution_count": 95,
   "metadata": {},
   "outputs": [],
   "source": [
    "from __future__ import annotations\n",
    "\n",
    "class UnionFindNaive:\n",
    "    def __init__(self: UnionFindNaive, n_vertices: int) -> None:\n",
    "        self.parent = {vertex: vertex for vertex in range(1, n_vertices + 1)}\n",
    "\n",
    "    def find(self: UnionFindNaive, v: int) -> int:\n",
    "        while self.parent[v] != v:\n",
    "            v = self.parent[v]\n",
    "        return v\n",
    "    \n",
    "    def union(self: UnionFindNaive, edge: tuple[int, int]) -> bool:\n",
    "        v1, v2 = edge\n",
    "        root1, root2 = self.find(v1), self.find(v2)\n",
    "        if root1 == root2:\n",
    "            return False\n",
    "        self.parent[root2] = root1\n",
    "        return True"
   ]
  },
  {
   "cell_type": "code",
   "execution_count": 96,
   "metadata": {},
   "outputs": [
    {
     "name": "stdout",
     "output_type": "stream",
     "text": [
      "{1: 1, 2: 2, 3: 3, 4: 1, 5: 5}\n",
      "{1: 3, 2: 2, 3: 3, 4: 1, 5: 5}\n"
     ]
    },
    {
     "data": {
      "text/plain": [
       "False"
      ]
     },
     "execution_count": 96,
     "metadata": {},
     "output_type": "execute_result"
    }
   ],
   "source": [
    "uf = UnionFindNaive(5)\n",
    "uf.union((1, 4))\n",
    "print(uf.parent)\n",
    "uf.union((3, 4))\n",
    "print(uf.parent)\n",
    "uf.union((1, 3))"
   ]
  },
  {
   "cell_type": "code",
   "execution_count": 97,
   "metadata": {},
   "outputs": [
    {
     "data": {
      "text/plain": [
       "{1: 3, 2: 2, 3: 3, 4: 1, 5: 5}"
      ]
     },
     "execution_count": 97,
     "metadata": {},
     "output_type": "execute_result"
    }
   ],
   "source": [
    "uf.parent"
   ]
  },
  {
   "cell_type": "markdown",
   "metadata": {},
   "source": [
    "## 9.b Heuristics that make Union-Find efficient\n",
    "\n",
    "Quoting from [*Wikipedia*](https://en.wikipedia.org/wiki/Disjoint-set_data_structure)\n",
    "\n",
    "### i) Union by size / Union by rank (=height)\n",
    "\n",
    "> The choice of which node becomes the parent has consequences for the complexity of future operations on the tree. If it is done carelessly, trees can become excessively tall. For example, suppose that Union always made the tree containing x a subtree of the tree containing y. Begin with a forest that has just been initialized with elements 1, 2, 3, …, n and execute Union(1, 2), Union(2, 3), ..., Union(n - 1, n). The resulting forest contains a single tree whose root is n, and the path from 1 to n passes through every node in the tree. For this forest, the time to run Find(1) is O(n).\n",
    "\n",
    "Hence, before merging two trees, the size (number of descendants including self) or the rank (upper bound of height) of the both roots are compared. The root with the largest value becomes the parent of the other root.\n",
    "\n",
    "*Note 1*: The *rank* of vertex V corresponds roughly to the *height* of the tree rooted at V. It is actually an upper bound of the rank: initially, the rank is equal to the height, but then applying a `.find()` operations may reduce the height of a given tree. The union by rank method avoids the overhead of maintaining heights for each `.find()` operation.\n",
    "\n",
    "*Note 2*: only the size/upper bound of rank of the root is maintained through a `.union()` operation because\n",
    "\n",
    "> It is clear from the above implementations that the size and rank of a node do not matter unless a node is the root of a tree. Once a node becomes a child, its size and rank are never accessed again.\n",
    "\n",
    "### ii) Path compression\n",
    "\n",
    "> Performing a Find operation presents an important opportunity for improving the forest. The time in a Find operation is spent chasing parent pointers, so a flatter tree leads to faster Find operations. When a Find is executed, there is no faster way to reach the root than by following each parent pointer in succession. However, the parent pointers visited during this search can be updated to point closer to the root. Because every element visited on the way to a root is part of the same set, this does not change the sets stored in the forest. But it makes future Find operations faster, not only for the nodes between the query node and the root, but also for their descendants. This updating is an important part of the disjoint-set forest's amortized performance guarantee.\n",
    "\n",
    "These two tricks decrease the amortized time complexity of both Union-Find operations to $O(\\alpha(n))$, where $\\alpha(n)$ is the inverse Ackermann function. This means that in practice, the **runtime complexiy is ~ constant**."
   ]
  },
  {
   "cell_type": "code",
   "execution_count": 5,
   "metadata": {},
   "outputs": [
    {
     "data": {
      "text/plain": [
       "True"
      ]
     },
     "execution_count": 5,
     "metadata": {},
     "output_type": "execute_result"
    }
   ],
   "source": [
    "from __future__ import annotations\n",
    "\n",
    "class UnionFind:\n",
    "    \n",
    "    def __init__(self: UnionFind, n_vertices: int, find_func: str = \"iterative\") -> None:\n",
    "        self.parent = {vertex: vertex for vertex in range(1, n_vertices + 1)}\n",
    "        self.rank = {vertex: 0 for vertex in range(1, n_vertices + 1)}\n",
    "        if find_func in (\"iterative\", \"recursive\"):\n",
    "            self.find_func = find_func\n",
    "        else:\n",
    "            raise ValueError(\"find_func attribute can only be 'iterative' or 'recursive'\")\n",
    "\n",
    "    def find_iterative(self: UnionFind, v: int) -> None|int:\n",
    "        root = self.parent[v]\n",
    "        while root != self.parent[root]:\n",
    "            root = self.parent[root]\n",
    "        while v != root:\n",
    "            tmp = self.parent[v]\n",
    "            self.parent[v] = root\n",
    "            v = tmp\n",
    "        return root\n",
    "            \n",
    "    def find_recursive(self: UnionFind, v: int) -> None|int:\n",
    "        if v != self.parent[v]:\n",
    "            self.parent[v] = self.find_recursive(self.parent[v])\n",
    "        return self.parent[v]\n",
    "    \n",
    "    def find(self: UnionFind, v: int):\n",
    "        if self.find_func == \"iterative\":\n",
    "            return self.find_iterative(v)\n",
    "        return self.find_recursive(v)\n",
    "    \n",
    "    def union(self: UnionFind, edge: tuple[int, int]) -> bool:\n",
    "        v1, v2 = edge\n",
    "        root1, root2 = self.find(v1), self.find(v2)\n",
    "        if root1 == root2:\n",
    "            return False\n",
    "        if self.rank[root1] > self.rank[root2]:\n",
    "            self.parent[root2] = root1\n",
    "        elif self.rank[root1] < self.rank[root2]:\n",
    "            self.parent[root1] = root2\n",
    "        else:\n",
    "            self.parent[root1] = root2\n",
    "            self.rank[root2] += 1\n",
    "        return True\n",
    "    \n",
    "uf = UnionFind(5, \"recursive\")\n",
    "uf.union((1, 4))\n",
    "uf.union((3, 4))\n"
   ]
  },
  {
   "cell_type": "markdown",
   "metadata": {},
   "source": [
    "# 10 Minimum Spanning Trees\n",
    "\n",
    "* Tree: undirected graph where there is *exactly one path* between any pair of nodes $\\Longleftrightarrow$ acyclic connected undirected graph\n",
    "* Spanning tree: subgraph of undirected graph $G$ which includes all vertices of G"
   ]
  },
  {
   "cell_type": "code",
   "execution_count": 2,
   "metadata": {},
   "outputs": [
    {
     "data": {
      "text/plain": [
       "{'A': [('B', 10), ('C', 3)],\n",
       " 'B': [('A', 10), ('C', 4), ('D', 1)],\n",
       " 'C': [('A', 3), ('B', 4), ('D', 4), ('E', 4)],\n",
       " 'D': [('B', 1), ('C', 4), ('E', 2)],\n",
       " 'E': [('C', 4), ('D', 2)]}"
      ]
     },
     "execution_count": 2,
     "metadata": {},
     "output_type": "execute_result"
    }
   ],
   "source": [
    "edges = [\n",
    "    (\"A\", \"B\", 10),\n",
    "    (\"A\", \"C\", 3),\n",
    "    (\"B\", \"C\", 4),\n",
    "    (\"B\", \"D\", 1),\n",
    "    (\"C\", \"D\", 4),\n",
    "    (\"C\", \"E\", 4),\n",
    "    (\"D\", \"E\", 2)\n",
    "]\n",
    "\n",
    "# Adjacency list\n",
    "def build_weighted_adj_list(edges: list[tuple[str, str, int]]) -> dict[str: list[tuple[str, int]]]:\n",
    "    graph = {}\n",
    "    for src, dst, distance in edges:\n",
    "        if src not in graph:\n",
    "            graph[src] = []\n",
    "        if dst not in graph:\n",
    "            graph[dst] = []\n",
    "        graph[src].append((dst, distance))\n",
    "        graph[dst].append((src, distance))\n",
    "    return graph\n",
    "\n",
    "build_weighted_adj_list(edges)"
   ]
  },
  {
   "cell_type": "markdown",
   "metadata": {},
   "source": [
    "## 10.a Prim\n",
    "\n",
    "Greedy algorithm very similay to Dijkstra, it works well with an adjacency list as input.  \n",
    "  \n",
    "Core idea: start from any node, then keep track of the spanned nodes (`visited` hashset) and greedily add new edges using a min heap."
   ]
  },
  {
   "cell_type": "code",
   "execution_count": 3,
   "metadata": {},
   "outputs": [
    {
     "data": {
      "text/plain": [
       "10"
      ]
     },
     "execution_count": 3,
     "metadata": {},
     "output_type": "execute_result"
    }
   ],
   "source": [
    "import heapq\n",
    "\n",
    "def mst_prim(edges: list[tuple[str, str, int]]) -> int:\n",
    "    \"\"\"Returns the total weight of a minimun spanning tree of a given graph `adj_list` \"\"\"\n",
    "    adj_list = build_weighted_adj_list(edges)\n",
    "    start_node = next(iter(adj_list))\n",
    "    visited, heap = set(), [[0, start_node]]\n",
    "    total_weight = 0\n",
    "    while heap:\n",
    "        w, v = heapq.heappop(heap)\n",
    "        if v in visited:\n",
    "            continue\n",
    "        total_weight += w\n",
    "        visited.add(v)\n",
    "        for neighbor, w in adj_list[v]:\n",
    "            heapq.heappush(heap, [w, neighbor])\n",
    "    return total_weight if len(visited) == len(adj_list) else -1\n",
    "\n",
    "mst_prim(edges)"
   ]
  },
  {
   "cell_type": "markdown",
   "metadata": {},
   "source": [
    "Note for the second implementation: the start node's edges must be pushed to the min heap *before* the main loop."
   ]
  },
  {
   "cell_type": "code",
   "execution_count": 4,
   "metadata": {},
   "outputs": [
    {
     "data": {
      "text/plain": [
       "[['A', 'C', 3], ['C', 'B', 4], ['B', 'D', 1], ['D', 'E', 2]]"
      ]
     },
     "execution_count": 4,
     "metadata": {},
     "output_type": "execute_result"
    }
   ],
   "source": [
    "def mst_prim_edges(edges: list[tuple[str, str, int]]) -> list[tuple[str, str]]:\n",
    "    \"\"\"Returns the edges of a minimun spanning tree of a given graph `adj_list`\"\"\"\n",
    "    adj_list = build_weighted_adj_list(edges)\n",
    "    start_node = next(iter(adj_list))\n",
    "    visited, heap, mst = set(), [], []\n",
    "\n",
    "    visited.add(start_node)\n",
    "    for neighbor, w in adj_list[start_node]:\n",
    "        heapq.heappush(heap, [w, start_node, neighbor])\n",
    "\n",
    "    while heap:\n",
    "        w, src, dst = heapq.heappop(heap)\n",
    "        if dst in visited:\n",
    "            continue\n",
    "        visited.add(dst)\n",
    "        mst.append([src, dst, w])\n",
    "        for neighbor, w in adj_list[dst]:\n",
    "            heapq.heappush(heap, [w, dst, neighbor])\n",
    "    return mst\n",
    "\n",
    "mst_prim_edges(edges)"
   ]
  },
  {
   "cell_type": "markdown",
   "metadata": {},
   "source": [
    "## 10.b Kruskal\n",
    "\n",
    "Sort the edges by weights and initialize a UnionFind instance with the appropriate number of vertices. Add the edges one by one, skipping them if they create a cycle. Stop when the expected amount of edges have been found ($V - 1$)."
   ]
  },
  {
   "cell_type": "code",
   "execution_count": 8,
   "metadata": {},
   "outputs": [
    {
     "name": "stdout",
     "output_type": "stream",
     "text": [
      "[(2, 4, 1), (4, 5, 2), (1, 3, 3), (2, 3, 4)]\n"
     ]
    }
   ],
   "source": [
    "edges = [\n",
    "    (1, 2, 10),\n",
    "    (1, 3, 3),\n",
    "    (2, 3, 4),\n",
    "    (2, 4, 1),\n",
    "    (3, 4, 4),\n",
    "    (3, 5, 4),\n",
    "    (4, 5, 2)\n",
    "]\n",
    "\n",
    "def mst_kruskal(n_vertices: int, edges: list[tuple[int, int, int]]) -> list[tuple[int, int, int]]:\n",
    "    \"\"\"Returns the edges of a minimun spanning tree or an empty list if the graph is not connected\"\"\"\n",
    "    edges.sort(key= lambda t: t[-1])\n",
    "    uf, mst = UnionFind(n_vertices), []\n",
    "    for u, v, w in edges:\n",
    "        if not uf.union((u, v)):\n",
    "            continue\n",
    "        mst.append((u, v, w))\n",
    "        if len(mst) == n_vertices - 1:\n",
    "            return mst\n",
    "    return []\n",
    "\n",
    "print(mst_kruskal(5, edges))"
   ]
  },
  {
   "cell_type": "markdown",
   "metadata": {},
   "source": [
    "# 11 Eulerian paths\n",
    "\n",
    "An [Eulerian path](https://en.wikipedia.org/wiki/Eulerian_path) is a path such that all the edges of the graph appear exactly once.\n",
    "\n",
    "An Eulerian circuit is an eulerian path that is also a cycle.\n",
    "\n",
    "Conditions of existence below, given that the graph at hand is connected:\n",
    "\n",
    "## 11.a Undirected graphs\n",
    "\n",
    "Build intuition with the [Seven Bridges of Königsberg](https://en.wikipedia.org/wiki/Seven_Bridges_of_K%C3%B6nigsberg) problem.\n",
    "\n",
    "An Eulerian path exists if and only if every vertex has even degrees or only 2 vertices have odd degrees. In the latter case, these 2 vertices are the start and end of the Eulerian path. Then it follows that an Eulerian circuit can exist if and only if every vertex has an even degree.\n",
    "\n",
    "## 11.b Directed graphs\n",
    "\n",
    "Replace the condition \"every vertex has even degree\" with \"every vertex has the same indegree and outdegree\" for the Eulerian Circuit. For the Eulerian Path, this condition can be relaxed: in one node, the in-degree is one larger than the out-degree, in another node, the out-degree is one larger than the in-degree, and in all other nodes, the in-degree equals the out-degree.\n",
    "\n",
    "In the case of an Eulerian circuit, any node will be both the start node and the end node. For the Eulerian path, the node with the larger out-degree will be the start node, and the one with the larger in-degree will be the end node.\n",
    "\n",
    "*Note: there is an equivalent fact for undirected graphs. The number of vertices with an odd degree can only be even: see the [handshaking lemma](https://en.wikipedia.org/wiki/Handshaking_lemma)*\n",
    "\n",
    "## Hierholzer's algorithm\n",
    "\n",
    "### Why preorder DFS is not enough\n",
    "\n",
    "See [Reconstruct Itinerary](https://leetcode.com/problems/reconstruct-itinerary/description/) problem.\n",
    "\n",
    "Once the existence is determined and the start node is known (any node for Eulerian circuits, a specific node for Eulerian paths), the brute force way to find the circuit/path is with DFS preorder: attempt every path, then when stuck (no more edges):\n",
    "* If the length of the path/circuit is $E$: the path has been found, return\n",
    "* Else backtrack\n",
    "\n",
    "The worst-case time complexity is $O(E^d)$, where d is the maximum outgoing edges for all the nodes of the input graph: at each recursive step, we can choose from $d$ edges in the worst case. This choice is repeated $E$ times, hence the time complexity.\n",
    "\n",
    "### Hierholzer idea\n",
    "\n",
    "Starting from any node and blindly exhausting the edges, you will:\n",
    "* Necessarily finish the current path (get stuck) at the end node (= start node for Eulerian circuits/unique end node for Eulerian paths)\n",
    "* **Not** necessarily exhaust *all* the edges of the input graph\n",
    "\n",
    "But that's a good start. Now for sure the node where we're stuck is the end of the Eulerian circuit/path and we can add it to the output, then go up in the recursion stack until we're not stuck anymore. Important to understand: when the DFS is restarted from a node $V$ where there are still edges to include in the output, it is guaranteed a cycle will be made back to $V$, because $V$ has identical in-degree and out-degree.\n",
    "\n",
    "See also [this explanation](https://leetcode.com/problems/reconstruct-itinerary/solutions/78768/short-ruby-python-java-c/)."
   ]
  },
  {
   "cell_type": "code",
   "execution_count": 4,
   "metadata": {},
   "outputs": [
    {
     "name": "stdout",
     "output_type": "stream",
     "text": [
      "in_deg = {1: 1, 2: 3, 3: 3, 4: 2, 5: 1, 6: 2}\n",
      "out_deg = {1: 2, 2: 3, 3: 3, 4: 2, 5: 1, 6: 1}\n",
      "has_eulerian_path(graph) = True\n",
      "Start node: 1\n",
      "The graph is not connected!\n"
     ]
    }
   ],
   "source": [
    "# Input graph\n",
    "graph = {\n",
    "    1: [2, 3],\n",
    "    2: [2, 4, 4],\n",
    "    3: [1, 2, 5],\n",
    "    4: [3, 6],\n",
    "    5: [6],\n",
    "    6: [3]\n",
    "}\n",
    "\n",
    "# Degrees - As easy to compute with an adjacency list or with a list of edges\n",
    "in_deg, out_deg = {v: 0 for v in graph}, {v: 0 for v in graph}\n",
    "for v in graph:\n",
    "    for nei in graph[v]:\n",
    "        out_deg[v] += 1\n",
    "        in_deg[nei] += 1\n",
    "\n",
    "print(f\"{in_deg = }\")\n",
    "print(f\"{out_deg = }\")\n",
    "\n",
    "# Existence\n",
    "def has_eulerian_path(graph: dict[int: list[int]]) -> bool:\n",
    "    n1 = n2 = 0\n",
    "    for v in graph:\n",
    "        diff_out_in = out_deg[v] - in_deg[v]\n",
    "        if abs(diff_out_in) > 1:\n",
    "            return False\n",
    "        if diff_out_in == 1:\n",
    "            n1 += 1\n",
    "        if diff_out_in == -1:\n",
    "            n2 += 1\n",
    "    return (n1 == n2 == 0) or (n1 == n2 == 1)\n",
    "\n",
    "print(f\"{has_eulerian_path(graph) = }\")\n",
    "\n",
    "# Start node\n",
    "def get_start_node(in_deg: dict[int: int], out_deg: dict[int: int]) -> int:\n",
    "    start_node = next(iter(in_deg))\n",
    "    for v in in_deg:\n",
    "        if out_deg[v] - in_deg[v] == 1:\n",
    "            return v\n",
    "        if out_deg[v] > 0: # Edge case: the graph contain isolated node(s)\n",
    "            start_node = v\n",
    "    return start_node\n",
    "\n",
    "start_node = get_start_node(in_deg, out_deg)\n",
    "print(f\"Start node: {start_node}\")\n",
    "\n",
    "# Hierholzer\n",
    "eulerian_path = []\n",
    "def dfs_postorder(v: int):\n",
    "    while graph[v]:\n",
    "        nei = graph[v].pop()\n",
    "        dfs_postorder(nei)\n",
    "    eulerian_path.append(v)\n",
    "    return\n",
    "    \n",
    "dfs_postorder(start_node)\n",
    "# Edge case: the graph is not connected\n",
    "if len(eulerian_path) == len(graph) + 1:\n",
    "    print(f\"Eulerian path: {eulerian_path[::-1]}\")\n",
    "else:\n",
    "    print(\"The graph is not connected!\")"
   ]
  },
  {
   "cell_type": "markdown",
   "metadata": {},
   "source": [
    "# Appendix 1 - Space/time complexity\n",
    "\n",
    "| Algorithm | Time | Space |\n",
    "|-----------|------|-------|\n",
    "| Matrix DFS | $\\approx O(3^{n \\cdot m})$ | $O(n \\cdot m)$ |\n",
    "| Matrix BFS | $O(n \\cdot m)$ | $O(n \\cdot m)$ |\n",
    "| Adjacency list DFS - Multiple visits | $\\approx O([\\frac{E}{V}]^{V})$ ($\\frac{E}{V}:$ average # edges per vertex)| $O(V)$ (max size of call stack)|\n",
    "| Adjacency list BFS | $O(V + E)$ | $O(V)$ |\n",
    "| Dijkstra: heap of size E at most | $O(E \\cdot log(E))$ | $O(E)$ |\n",
    "| Topsort - DFS with unique visits | $O(V + E)$ | $O(V)$ |\n",
    "| Topsort - Kahn | $O(V + E)$ | $O(V)$ |\n",
    "| Prim: heap of size E at most | $O(E \\cdot log(E))$ | $O(E)$ |\n",
    "| Kruskal: sorting edges | $O(E \\cdot log(E))$ | $O(E)$ |\n",
    "\n",
    "Note: the input is not considered for space complexity, e.g. even if the input is an adjacency list, still the space complexity can be less than the space of the adj. list i.e. $O(E+V)$."
   ]
  },
  {
   "cell_type": "markdown",
   "metadata": {},
   "source": []
  }
 ],
 "metadata": {
  "kernelspec": {
   "display_name": "Python 3",
   "language": "python",
   "name": "python3"
  },
  "language_info": {
   "codemirror_mode": {
    "name": "ipython",
    "version": 3
   },
   "file_extension": ".py",
   "mimetype": "text/x-python",
   "name": "python",
   "nbconvert_exporter": "python",
   "pygments_lexer": "ipython3",
   "version": "3.10.13"
  },
  "orig_nbformat": 4,
  "vscode": {
   "interpreter": {
    "hash": "916dbcbb3f70747c44a77c7bcd40155683ae19c65e1c03b4aa3499c5328201f1"
   }
  }
 },
 "nbformat": 4,
 "nbformat_minor": 2
}
