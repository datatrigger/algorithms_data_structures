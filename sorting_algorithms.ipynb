{
 "cells": [
  {
   "cell_type": "code",
   "execution_count": 18,
   "metadata": {},
   "outputs": [],
   "source": [
    "from utils import validate_sorting"
   ]
  },
  {
   "cell_type": "markdown",
   "metadata": {},
   "source": [
    "# Selection sort"
   ]
  },
  {
   "cell_type": "code",
   "execution_count": 19,
   "metadata": {},
   "outputs": [
    {
     "name": "stdout",
     "output_type": "stream",
     "text": [
      "selection_sort successfully sorted all test arrays!\n"
     ]
    },
    {
     "data": {
      "text/plain": [
       "True"
      ]
     },
     "execution_count": 19,
     "metadata": {},
     "output_type": "execute_result"
    }
   ],
   "source": [
    "def selection_sort(array: list[int]) -> None:\n",
    "    for i in range(len(array) - 1):\n",
    "        min_idx = i\n",
    "        for j in range(i + 1, len(array)):\n",
    "            if array[j] < array[min_idx]:\n",
    "                min_idx = j\n",
    "        array[i], array[min_idx] = array[min_idx], array[i]\n",
    "\n",
    "validate_sorting(selection_sort)"
   ]
  },
  {
   "attachments": {},
   "cell_type": "markdown",
   "metadata": {},
   "source": [
    "### Selection sort time complexity\n",
    "\n",
    "Selection sort has a O(n<sup>2</sup>) time complexity:\n",
    "* 1st loop does n-1 comparisons\n",
    "* 2nd loop does n-2 comparisons\n",
    "...\n",
    "* (n-1)th loop does 1 comparison\n",
    "\n",
    "(n-1)+(n-2)+...+1 = n(n-1)/2 = O(n<sup>2</sup>)"
   ]
  },
  {
   "attachments": {},
   "cell_type": "markdown",
   "metadata": {},
   "source": [
    "# Insertion sort"
   ]
  },
  {
   "cell_type": "code",
   "execution_count": 20,
   "metadata": {},
   "outputs": [
    {
     "name": "stdout",
     "output_type": "stream",
     "text": [
      "insertion_sort successfully sorted all test arrays!\n"
     ]
    },
    {
     "data": {
      "text/plain": [
       "True"
      ]
     },
     "execution_count": 20,
     "metadata": {},
     "output_type": "execute_result"
    }
   ],
   "source": [
    "def insertion_sort(array: list[int]) -> None:\n",
    "    for i in range(len(array) - 1):\n",
    "        j = i\n",
    "        while j >= 0 and array[j] > array[j + 1]:\n",
    "            array[j], array[j + 1] = array[j + 1], array[j]\n",
    "            j -= 1\n",
    "\n",
    "validate_sorting(insertion_sort)"
   ]
  },
  {
   "attachments": {},
   "cell_type": "markdown",
   "metadata": {},
   "source": [
    "### Insertion sort time complexity\n",
    "\n",
    "The reasoning is very similar to selection sort, with two nested loops. The worst-case time complexity is (n-1)+(n-2)+...+1 = n(n-1)/2 = O(n<sup>2</sup>)"
   ]
  },
  {
   "attachments": {},
   "cell_type": "markdown",
   "metadata": {},
   "source": [
    "# Heap sort\n",
    "\n",
    "```\n",
    "def heap_sort(array):\n",
    "    L = len(array)\n",
    "    H = Heap()\n",
    "    for i in range(L):\n",
    "        element = L.pop()\n",
    "        H.add(element)\n",
    "    for i in range(L):\n",
    "        L.append(H.remove(element))\n",
    "    return L\n",
    "```\n",
    "\n",
    "In the first loop, the i<sup>th</sup> add operation has O(log(i)) time complexity because the heap has i entries. This is the same thing in the second loop (but kind of in the reverse order), so the **overall time complexity is O[log(2) + ... + log(n)] = O(n!) = O(nlog(n))**\n",
    "\n",
    "*Proof:*\n",
    "* log(n!) <= log (n<sup>n</sup>) = nlog(n)\n",
    "* log(n!) = log(2) + ... + log(n) >= log(2) + ... log(n/2 - 1) + log(n/2) + ... + log(n) >= log(2) * (n/2) + log(n/2) * (n/2) = (n/2) log(n)\n",
    "\n",
    "So log(n!) <= nlog(n) <= 2 log(n!), i.e nlog(n) = O(n!)"
   ]
  },
  {
   "attachments": {},
   "cell_type": "markdown",
   "metadata": {},
   "source": [
    "# Merge sort\n",
    "\n",
    "A divide-and-conquer algorithm."
   ]
  },
  {
   "cell_type": "code",
   "execution_count": 21,
   "metadata": {},
   "outputs": [
    {
     "name": "stdout",
     "output_type": "stream",
     "text": [
      "merge_sort successfully sorted all test arrays!\n"
     ]
    },
    {
     "data": {
      "text/plain": [
       "True"
      ]
     },
     "execution_count": 21,
     "metadata": {},
     "output_type": "execute_result"
    }
   ],
   "source": [
    "# Forked from Neetcode's implementation\n",
    "def merge_sort(array: list[int]) -> list[int]:\n",
    "    L = len(array)\n",
    "    if L <= 1:\n",
    "        return array\n",
    "    \n",
    "    left, right = merge_sort(array[:L//2]), merge_sort(array[L//2:])\n",
    "\n",
    "    i, j = 0, 0\n",
    "    while i < len(left) and j < len(right):\n",
    "        if left[i] < right[j]:\n",
    "            array[i+j] = left[i]\n",
    "            i += 1\n",
    "        else:\n",
    "            array[i+j] = right[j]\n",
    "            j += 1\n",
    "\n",
    "    while i < len(left):\n",
    "        array[i+j] = left[i]\n",
    "        i += 1\n",
    "\n",
    "    while j < len(right):\n",
    "        array[i+j] = right[j]\n",
    "        j += 1\n",
    "\n",
    "    return array\n",
    "\n",
    "# A bit more convoluted, but concise implementation\n",
    "def merge_sort_2(array: list[int]) -> list[int]:\n",
    "    L = len(array)\n",
    "    # Base case\n",
    "    if L <= 1:\n",
    "        return array\n",
    "    # Recursive calls\n",
    "    a1, a2 = merge_sort_2(array[:L//2]), merge_sort_2(array[L//2:])\n",
    "    # Merge sorted arrays\n",
    "    i, j, l1, l2 = 0, 0, len(a1), len(a2)\n",
    "    while i + j < L:\n",
    "        if j == l2 or (i < l1 and a1[i] < a2[j]):\n",
    "            array[i+j] = a1[i]\n",
    "            i += 1\n",
    "        else:\n",
    "            array[i+j] = a2[j]\n",
    "            j += 1\n",
    "    return array\n",
    "\n",
    "validate_sorting(merge_sort)"
   ]
  },
  {
   "attachments": {},
   "cell_type": "markdown",
   "metadata": {},
   "source": [
    "### Merge sort time complexity\n",
    "\n",
    "The merge step has a O(l1+l2) time complexity. Now, the most intuitive way to understand the merge sort time complexity is to look at the merge sort tree. At depth i, there are 2<sup>i</sup> merged sequences which require O(n/2<sup>i</sup>) to be \"merge sorted\" each. So, each level amount to O(n) processing time and there log(n) levels. Hence merge sort is O(nlog(n))\n",
    "\n",
    "### Space complexity\n",
    "\n",
    "In the implementations above, the line ```left, right = merge_sort(array[:L//2]), merge_sort(array[L//2:])``` creates shallow copies of each part of the array via slicing. As a consequence, the space complexity is O(n)."
   ]
  },
  {
   "attachments": {},
   "cell_type": "markdown",
   "metadata": {},
   "source": [
    "# Quick sort\n",
    "\n",
    "## Common implementation"
   ]
  },
  {
   "cell_type": "code",
   "execution_count": 30,
   "metadata": {},
   "outputs": [
    {
     "name": "stdout",
     "output_type": "stream",
     "text": [
      "quick_sort successfully sorted all test arrays!\n"
     ]
    },
    {
     "data": {
      "text/plain": [
       "True"
      ]
     },
     "execution_count": 30,
     "metadata": {},
     "output_type": "execute_result"
    }
   ],
   "source": [
    "def partition(array: list[int], start: int, end: int) -> int:\n",
    "    left, pivot = start, array[end]\n",
    "    for right in range(start, end):\n",
    "        if array[right] < pivot:\n",
    "            array[left], array[right] = array[right], array[left]\n",
    "            left += 1\n",
    "    array[left], array[end] = array[end], array[left]\n",
    "    return left\n",
    "\n",
    "def quick_sort(array: list[int], start: int = None, end: int = None) -> None:\n",
    "    start, end = 0 if start is None else start, len(array) - 1 if end is None else end\n",
    "\n",
    "    # Base case\n",
    "    if start >= end:\n",
    "        return\n",
    "    \n",
    "    # Recursive calls\n",
    "    p = partition(array, start, end)\n",
    "    quick_sort(array, start, p - 1)\n",
    "    quick_sort(array, p + 1, end)\n",
    "\n",
    "validate_sorting(quick_sort)"
   ]
  },
  {
   "attachments": {},
   "cell_type": "markdown",
   "metadata": {},
   "source": [
    "### Quick sort time complexity\n",
    "\n",
    "Quick sort runs in O(n<sup>2</sup>) worst-case time, but best-case and average complexity are O(nlog(n))."
   ]
  },
  {
   "attachments": {},
   "cell_type": "markdown",
   "metadata": {},
   "source": [
    "# Bubble sort"
   ]
  },
  {
   "cell_type": "code",
   "execution_count": 25,
   "metadata": {},
   "outputs": [
    {
     "name": "stdout",
     "output_type": "stream",
     "text": [
      "bubble_sort1 successfully sorted all test arrays!\n"
     ]
    },
    {
     "data": {
      "text/plain": [
       "True"
      ]
     },
     "execution_count": 25,
     "metadata": {},
     "output_type": "execute_result"
    }
   ],
   "source": [
    "def bubble_sort1(array: list[int]) -> None:\n",
    "    for _ in range(len(array) - 1):\n",
    "        for j in range(len(array) - 1):\n",
    "            if array[j] > array[j + 1]:\n",
    "                array[j], array[j + 1] = array[j + 1], array[j]\n",
    "\n",
    "validate_sorting(bubble_sort1)"
   ]
  },
  {
   "cell_type": "code",
   "execution_count": null,
   "metadata": {},
   "outputs": [],
   "source": [
    "# Take into account the sorted partition at the \"end\" of the array\n",
    "def bubble_sort2(array: list[int]) -> None:\n",
    "    for i in range(len(array) - 1):\n",
    "        for j in range(len(array) - 1 - i):\n",
    "            if array[j] > array[j + 1]:\n",
    "                array[j], array[j + 1] = array[j + 1], array[j]\n",
    "\n",
    "validate_sorting(bubble_sort2)\n",
    "\n",
    "# Same idea in reverse order\n",
    "def bubble_sort21(a: list[int]) -> None:\n",
    "    for i in range(len(a) - 1):\n",
    "        for j in range(i + 1, len(a)):\n",
    "            if a[i] > a[j]:\n",
    "                a[i], a[j] = a[j], a[i]\n",
    "\n",
    "validate_sorting(bubble_sort21)"
   ]
  },
  {
   "cell_type": "code",
   "execution_count": null,
   "metadata": {},
   "outputs": [
    {
     "name": "stdout",
     "output_type": "stream",
     "text": [
      "bubble_sort3 successfully sorted all test arrays!\n"
     ]
    },
    {
     "data": {
      "text/plain": [
       "True"
      ]
     },
     "execution_count": 27,
     "metadata": {},
     "output_type": "execute_result"
    }
   ],
   "source": [
    "# If the array happens to be sorted at some point, stop the algorithm\n",
    "def bubble_sort3(array: list[int]) -> None:\n",
    "    for i in range(len(array) - 1):\n",
    "        swapped = False\n",
    "        for j in range(len(array) - 1 - i):\n",
    "            if array[j] > array[j + 1]:\n",
    "                array[j], array[j + 1] = array[j + 1], array[j]\n",
    "                swapped = True\n",
    "        if not swapped:\n",
    "            break\n",
    "\n",
    "validate_sorting(bubble_sort3)"
   ]
  },
  {
   "attachments": {},
   "cell_type": "markdown",
   "metadata": {},
   "source": [
    "### Bubble sort time complexity\n",
    "\n",
    "O(n<sup>2</sup>) worst-case and average-case time complexity. Bad performer even among the O(n<sup>2</sup>) family (insertion, selection)."
   ]
  },
  {
   "attachments": {},
   "cell_type": "markdown",
   "metadata": {},
   "source": [
    "# Bucket sort\n",
    "\n",
    "Applies when elements are in a finite range, e.g. [0, N]. Then, create a bucket for each value and count the number of the times the value appears in the original array. Finally, build the sorted array."
   ]
  },
  {
   "cell_type": "code",
   "execution_count": 28,
   "metadata": {},
   "outputs": [
    {
     "data": {
      "text/plain": [
       "[0, 0, 1, 2, 2, 2]"
      ]
     },
     "execution_count": 28,
     "metadata": {},
     "output_type": "execute_result"
    }
   ],
   "source": [
    "def bucket_sort(array, max_value):\n",
    "    # Count how many times each value appears in the array\n",
    "    counts = [0]*(max_value+1)\n",
    "    for i in range(len(array)):\n",
    "        counts[array[i]] = counts[array[i]] + 1\n",
    "    \n",
    "    # Build the sorted array\n",
    "    i = 0\n",
    "    for value, count in enumerate(counts):\n",
    "        for _ in range(count):\n",
    "            array[i] = value\n",
    "            i += 1\n",
    "    return array\n",
    "\n",
    "bucket_sort([2,2,0,1,0,2], 3)"
   ]
  },
  {
   "attachments": {},
   "cell_type": "markdown",
   "metadata": {},
   "source": [
    "# Kth smallest element with Quick Sort's `partition()`"
   ]
  },
  {
   "cell_type": "code",
   "execution_count": 32,
   "metadata": {},
   "outputs": [
    {
     "name": "stdout",
     "output_type": "stream",
     "text": [
      "quick_select([7, 5, 2, 9, 4, 1, 9, 2, 3], 4) = 4\n"
     ]
    }
   ],
   "source": [
    "def quick_select(array: list[int], k: int, start: int = None, end: int = None) -> int:\n",
    "    start, end = 0 if start is None else start, len(array) - 1 if end is None else end\n",
    "    p = partition(array, start, end)\n",
    "    if k > p: return quick_select(array, k, p + 1, end)\n",
    "    elif k < p: return quick_select(array, k, start, p - 1)\n",
    "    else: return array[p]\n",
    "\n",
    "l = [7, 5, 2, 9, 4, 1, 9, 2, 3]\n",
    "print(f\"quick_select([7, 5, 2, 9, 4, 1, 9, 2, 3], 4) = {quick_select(l, 4)}\")"
   ]
  }
 ],
 "metadata": {
  "kernelspec": {
   "display_name": "Python 3",
   "language": "python",
   "name": "python3"
  },
  "language_info": {
   "codemirror_mode": {
    "name": "ipython",
    "version": 3
   },
   "file_extension": ".py",
   "mimetype": "text/x-python",
   "name": "python",
   "nbconvert_exporter": "python",
   "pygments_lexer": "ipython3",
   "version": "3.11.2"
  },
  "orig_nbformat": 4,
  "vscode": {
   "interpreter": {
    "hash": "916dbcbb3f70747c44a77c7bcd40155683ae19c65e1c03b4aa3499c5328201f1"
   }
  }
 },
 "nbformat": 4,
 "nbformat_minor": 2
}
