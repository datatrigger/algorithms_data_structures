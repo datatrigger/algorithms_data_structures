{
 "cells": [
  {
   "cell_type": "markdown",
   "metadata": {},
   "source": [
    "# Brute force\n",
    "\n",
    "Try bursting all the remaining balloons at each level of the recursion tree. The tree has as many leaves as permutations of n, i.e. $n!$, because each path is an ordered selection of elements. There are as many nodes as k-permutations of n, $1 \\leq k \\leq n$, i.e $\\lfloor e \\cdot n! - 1 \\rfloor$, see [this post](https://math.stackexchange.com/questions/2019675/sum-of-permutations-from-0-to-n). So, the brute force algorithm has a $O(n!)$ runtime complexity. The callstack is at most size $n$."
   ]
  },
  {
   "cell_type": "code",
   "execution_count": 1,
   "metadata": {},
   "outputs": [
    {
     "data": {
      "text/plain": [
       "167"
      ]
     },
     "execution_count": 1,
     "metadata": {},
     "output_type": "execute_result"
    }
   ],
   "source": [
    "def dfs(nums: list[int]) -> int:\n",
    "    if len(nums) == 0:\n",
    "        return 0\n",
    "    output = float(\"-inf\")\n",
    "    for i in range(len(nums)):\n",
    "        coins = (\n",
    "            (nums[i - 1] if 0 <= i - 1 else 1)\n",
    "            * nums[i]\n",
    "            * (nums[i + 1] if i + 1 < len(nums) else 1)\n",
    "        )\n",
    "        balloon = nums.pop(i)\n",
    "        output = max(output, coins + dfs(nums))\n",
    "        nums.insert(i, balloon)\n",
    "    return output\n",
    "    output = dfs(nums)\n",
    "\n",
    "dfs([3,1,5,8])"
   ]
  },
  {
   "cell_type": "markdown",
   "metadata": {},
   "source": [
    "# Dynamic programming\n",
    "\n"
   ]
  },
  {
   "cell_type": "code",
   "execution_count": 9,
   "metadata": {},
   "outputs": [
    {
     "data": {
      "text/plain": [
       "(12, 36)"
      ]
     },
     "execution_count": 9,
     "metadata": {},
     "output_type": "execute_result"
    }
   ],
   "source": [
    "dfs([1, 2, 3]), dfs([4, 3, 2])"
   ]
  },
  {
   "cell_type": "code",
   "execution_count": null,
   "metadata": {},
   "outputs": [],
   "source": []
  }
 ],
 "metadata": {
  "kernelspec": {
   "display_name": "Python 3",
   "language": "python",
   "name": "python3"
  },
  "language_info": {
   "codemirror_mode": {
    "name": "ipython",
    "version": 3
   },
   "file_extension": ".py",
   "mimetype": "text/x-python",
   "name": "python",
   "nbconvert_exporter": "python",
   "pygments_lexer": "ipython3",
   "version": "3.10.12"
  }
 },
 "nbformat": 4,
 "nbformat_minor": 2
}
