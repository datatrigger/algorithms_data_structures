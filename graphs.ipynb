{
 "cells": [
  {
   "attachments": {},
   "cell_type": "markdown",
   "metadata": {},
   "source": [
    "# Data structures\n",
    "\n",
    "## 1) Matrix\n",
    "\n",
    "A common approach is to represent vertices with 0s with implicit edges (left, right, down, up). 1s mean \"no edge\".\n",
    "\n",
    "*Example:*"
   ]
  },
  {
   "cell_type": "code",
   "execution_count": 5,
   "metadata": {},
   "outputs": [],
   "source": [
    "graph=[\n",
    "    [0,1,1,0],\n",
    "    [0,0,1,0],\n",
    "    [1,1,0,0],\n",
    "    [0,0,0,0],\n",
    "]"
   ]
  },
  {
   "attachments": {},
   "cell_type": "markdown",
   "metadata": {},
   "source": [
    "## 2) Adjacency matrix\n",
    "\n",
    "In this case; M[r=i][c=j] means an edge exists from vertice *i* to vertice *j*. This structure is not that common in CS because it has a O(V<sup>2</sup>) space complexity, even though the graph has only *V* vertices.\n",
    "\n",
    "## 3) Adjacency list"
   ]
  },
  {
   "cell_type": "code",
   "execution_count": 3,
   "metadata": {},
   "outputs": [],
   "source": [
    "class Vertice:\n",
    "    def __init__(self, val):\n",
    "        self.val = val\n",
    "        self.neighbors = []"
   ]
  },
  {
   "attachments": {},
   "cell_type": "markdown",
   "metadata": {},
   "source": [
    "# Matrix DFS\n",
    "\n",
    "Question: count unique paths from top left to bottom right. Only 0s are allowed, no more than 1 visit per node for a given path.\n",
    "\n",
    "## Architecture:\n",
    "\n",
    "```\n",
    "dfs(grid: list[list[int]], row: int, col: int, visited: set[tuple[int, int]]):\n",
    "\n",
    "    # Base case: invalid\n",
    "    if <Outside> or <Blocked>:\n",
    "        return 0\n",
    "    # Base case: invalid\n",
    "    if <Reached>:\n",
    "        return 1\n",
    "\n",
    "    # Recursive call\n",
    "    visit.add(row, col)\n",
    "    count = 0\n",
    "    count += dfs(<above|left|right|below>)\n",
    "    visit.remove(row, col)\n",
    "    \n",
    "    return count\n",
    "```\n",
    "\n",
    "## Complexity\n",
    "\n",
    "### Time complexity\n",
    "\n",
    "Intuition: a path can \"cover\" the entire matrix, adding to `n*m` nodes. At each step of the paths, a recursive call is made to up to 4 nodes. Hence the worst-case time complexity is $O(4^{n.m})$.\n",
    "\n",
    "### Space complexity\n",
    "\n",
    "A given path is composed of up to `n*m` nodes, hence the size of the recursive call stack can be $O(n.m)$ in the worst case."
   ]
  },
  {
   "cell_type": "code",
   "execution_count": 4,
   "metadata": {},
   "outputs": [],
   "source": [
    "# DFS: implementation"
   ]
  },
  {
   "attachments": {},
   "cell_type": "markdown",
   "metadata": {},
   "source": [
    "# Matrix BFS\n",
    "\n",
    "Question: Length of shortest path from top left to bottom right.\n",
    "\n",
    "## Architecture:\n",
    "\n",
    "```\n",
    "bfs():\n",
    "\n",
    "```\n",
    "\n",
    "## Complexity\n",
    "\n",
    "### Time complexity\n",
    "\n",
    "$O(n.m)$\n",
    "\n",
    "### Space complexity\n",
    "\n"
   ]
  },
  {
   "cell_type": "markdown",
   "metadata": {},
   "source": []
  }
 ],
 "metadata": {
  "kernelspec": {
   "display_name": "Python 3",
   "language": "python",
   "name": "python3"
  },
  "language_info": {
   "codemirror_mode": {
    "name": "ipython",
    "version": 3
   },
   "file_extension": ".py",
   "mimetype": "text/x-python",
   "name": "python",
   "nbconvert_exporter": "python",
   "pygments_lexer": "ipython3",
   "version": "3.10.6"
  },
  "orig_nbformat": 4,
  "vscode": {
   "interpreter": {
    "hash": "916dbcbb3f70747c44a77c7bcd40155683ae19c65e1c03b4aa3499c5328201f1"
   }
  }
 },
 "nbformat": 4,
 "nbformat_minor": 2
}
