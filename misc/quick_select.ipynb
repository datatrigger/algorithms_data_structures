{
 "cells": [
  {
   "attachments": {},
   "cell_type": "markdown",
   "metadata": {},
   "source": [
    "# Quick select\n",
    "\n",
    "Returns the kth smallest/largest element in an unsorted array. Time complexity:\n",
    "\n",
    "* Average: $O(n)$. Each step cuts the array in half (hopefully), and we only look at 1 half then. So, around $n + \\frac{n}{2} + \\frac{n}{4} ... = 2n$ operations (to see this, assume $n = 2^k$ and use $1 + 2 + 4 + ... + 2^k = 2^{k+1}$)\n",
    "* Worst-case: $O(n^2)$. If every time, the partitions are unbalanced (n-1 elements + 1 elements), then $n + (n-1) + ... = \\frac{n(n+1)}{2}$ operations are required\n",
    "\n",
    "Another solution is to use a heap which is $O(n + k\\,log (n))$ (heapify + pop k times). If $k << n$, then this solution is better than `array.sort()` + `array[k - 1]`, which would be $O(n \\, log (n))$.  \n",
    "This idea can be further optimize to $O(n \\, log (k))$: initialize an empty heap and push the first $k$ elements. Then check the $n - k$ elements by comparing them with the min/max of the heap and pop/push adequately. "
   ]
  },
  {
   "cell_type": "code",
   "execution_count": 115,
   "metadata": {},
   "outputs": [],
   "source": [
    "# Constant space\n",
    "def kth_largest(array: list[int], k: int) -> int:\n",
    "    k = len(array) - k # kth largest is at this index or less (in the sorted array)\n",
    "\n",
    "    def quick_select(start: int, end: int) -> int:\n",
    "        left, pivot = start, array[end]\n",
    "        for right in range(start, end):\n",
    "            if array[right] < pivot:\n",
    "                array[left], array[right] = array[right], array[left]\n",
    "                left += 1\n",
    "        array[left], array[end] = array[end], array[left]\n",
    "\n",
    "        if k < left: return quick_select(start, left - 1)\n",
    "        elif k > left: return quick_select(left + 1, end)\n",
    "        else: return array[left] # Base case\n",
    "    \n",
    "    return quick_select(0, len(array) - 1)\n",
    "\n",
    "# O(n) space complexity\n",
    "from random import choice\n",
    "def kth_largest_2(array: list[int], k: int) -> int:\n",
    "    if len(array) == 1:\n",
    "        return array[0]\n",
    "    \n",
    "    pivot = choice(array)\n",
    "    left = [n for n in array if n < pivot]\n",
    "    center = [n for n in array if n == pivot]\n",
    "    right = [n for n in array if n > pivot]\n",
    "\n",
    "    if len(right) >= k:\n",
    "        return kth_largest_2(right, k)\n",
    "    elif  len(right) + len(center) >= k > len(right):\n",
    "        return pivot\n",
    "    else:\n",
    "        return kth_largest_2(left, k - len(center) - len(right))"
   ]
  }
 ],
 "metadata": {
  "kernelspec": {
   "display_name": "Python 3",
   "language": "python",
   "name": "python3"
  },
  "language_info": {
   "codemirror_mode": {
    "name": "ipython",
    "version": 3
   },
   "file_extension": ".py",
   "mimetype": "text/x-python",
   "name": "python",
   "nbconvert_exporter": "python",
   "pygments_lexer": "ipython3",
   "version": "3.10.12"
  },
  "orig_nbformat": 4
 },
 "nbformat": 4,
 "nbformat_minor": 2
}
