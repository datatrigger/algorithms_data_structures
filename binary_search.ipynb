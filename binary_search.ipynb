{
 "cells": [
  {
   "attachments": {},
   "cell_type": "markdown",
   "metadata": {},
   "source": [
    "# Binary Search\n",
    "\n",
    "There are many ways to implement binary search, so the best way to avoid out-of-bound indices or infinite loops is to stick to the same template.\n",
    "\n",
    "```\n",
    "def binary_search(indexable_object: x, any: target):\n",
    "    l, r = min_inclusive_bound, max_inclusive_bound\n",
    "    while l < r:\n",
    "        m = (l + r) // 2\n",
    "        if condition(x[m], target):\n",
    "            l = m + 1\n",
    "        else:\n",
    "            r = m\n",
    "    return x[l]\n",
    "```\n",
    "\n",
    "The outer indexes become equal in the last step of the while loop, since their difference decreases by at least 1 unit at each step:\n",
    "* `if` clause: the left index is shifted by 1 unit or more, since `left <= mid`\n",
    "* `else` clause: `mid < right` since int division `//` rounds down in Python (and `l < r`)\n",
    "\n",
    "# Bisect\n",
    "\n",
    "The direct application of the above template is `bisect()`.\n",
    "\n",
    "Bisect left (resp. right): returns the leftmost (resp. rightmost) index of matching value(s), or the index where the target value should be *inserted*.  \n",
    "  \n",
    "Bisect left returns $min \\{ i, array[i] \\geq target \\}$  \n",
    "Bisect right returns $min \\{ i, array[i] > target \\}$. Just turn the strict inequality below into a large one.\n",
    "\n",
    "[Alternative implementation](https://gist.github.com/py-in-the-sky/e84fd9fc4db0da3f351631ba04b2d91b)"
   ]
  },
  {
   "cell_type": "code",
   "execution_count": 1,
   "metadata": {},
   "outputs": [],
   "source": [
    "def bisect_left(array: list[int], target: int) -> int:\n",
    "    left, right = 0, len(array)\n",
    "    while left < right: # Strict inequality because `left == right` in the last step is guaranteed\n",
    "        mid = (left + right) // 2\n",
    "        if array[mid] < target:\n",
    "            left = mid + 1 # `mid` cannot be the correct index, shift `left`` on its right\n",
    "        else:\n",
    "            right = mid # `array[mid] <= left`, so it could be to correct index\n",
    "    return left # `right` works too\n",
    "\n",
    "def bisect_right(array: list[int], target: int) -> int:\n",
    "    left, right = 0, len(array)\n",
    "    while left < right:\n",
    "        mid = (left + right) // 2\n",
    "        if array[mid] <= target:\n",
    "            left = mid + 1\n",
    "        else:\n",
    "            right = mid\n",
    "    return left"
   ]
  },
  {
   "cell_type": "markdown",
   "metadata": {},
   "source": [
    "### No target\n",
    "\n",
    "If the target is not in the array, `bisect_left()` and `bisect_right()` return the same index: the position where `target` should be inserted to maintain the sorted property.\n",
    "\n",
    "Note: the returned value lies in the range `[0, len(array)]`."
   ]
  },
  {
   "cell_type": "code",
   "execution_count": 2,
   "metadata": {},
   "outputs": [
    {
     "name": "stdout",
     "output_type": "stream",
     "text": [
      "bisect_right([3], 7) = 1\n",
      "bisect_right([3, 8], 7) = 1\n",
      "bisect_right([8], 7) = 0\n",
      "bisect_left([3], 7) = 1\n",
      "bisect_left([3, 8], 7) = 1\n",
      "bisect_left([8], 7) = 0\n"
     ]
    }
   ],
   "source": [
    "print(f\"{bisect_right([3], 7) = }\")\n",
    "print(f\"{bisect_right([3, 8], 7) = }\")\n",
    "print(f\"{bisect_right([8], 7) = }\")\n",
    "print(f\"{bisect_left([3], 7) = }\")\n",
    "print(f\"{bisect_left([3, 8], 7) = }\")\n",
    "print(f\"{bisect_left([8], 7) = }\")"
   ]
  },
  {
   "cell_type": "markdown",
   "metadata": {},
   "source": [
    "### 1 or more occurences of the target\n",
    "\n",
    "Array: [1, 3, 7, 7, 8], target: 7"
   ]
  },
  {
   "cell_type": "code",
   "execution_count": 3,
   "metadata": {},
   "outputs": [
    {
     "name": "stdout",
     "output_type": "stream",
     "text": [
      " Max index i with array[i] < target: bisect_left - 1. bisect_left([1, 3, 7, 7, 8], 7) - 1 = 1\n",
      " Min index i with array[i] >= target: bisect_left. bisect_left([1, 3, 7, 7, 8], 7) = 2\n",
      " Max index i with array[i] >= target: bisect_right - 1. bisect_right([1, 3, 7, 7, 8], 7) - 1 = 3\n",
      " Max index i with array[i] > target: bisect_right. bisect_right([1, 3, 7, 7, 8], 7) = 4\n"
     ]
    }
   ],
   "source": [
    "print(f\" Max index i with array[i] < target: bisect_left - 1. bisect_left([1, 3, 7, 7, 8], 7) - 1 = {bisect_left([1, 3, 7, 7, 8], 7) - 1}\")\n",
    "print(f\" Min index i with array[i] >= target: bisect_left. bisect_left([1, 3, 7, 7, 8], 7) = {bisect_left([1, 3, 7, 7, 8], 7)}\")\n",
    "print(f\" Max index i with array[i] >= target: bisect_right - 1. bisect_right([1, 3, 7, 7, 8], 7) - 1 = {bisect_right([1, 3, 7, 7, 8], 7) - 1}\")\n",
    "print(f\" Max index i with array[i] > target: bisect_right. bisect_right([1, 3, 7, 7, 8], 7) = {bisect_right([1, 3, 7, 7, 8], 7)}\")"
   ]
  },
  {
   "cell_type": "markdown",
   "metadata": {},
   "source": [
    "# Applications"
   ]
  },
  {
   "cell_type": "code",
   "execution_count": 4,
   "metadata": {},
   "outputs": [],
   "source": [
    "def search(nums: list[int], target: int) -> int:\n",
    "    \"\"\"Return -1 if `target` is not in the sorted array `nums`, else the index of `target`.\"\"\"\n",
    "    l, r = 0, len(nums) - 1 # The search space is different for this application\n",
    "    while l < r:\n",
    "        m = (l + r) // 2\n",
    "        if nums[m] < target:\n",
    "            l = m + 1\n",
    "        else:\n",
    "            r = m\n",
    "    return l if nums[l] == target else -1"
   ]
  }
 ],
 "metadata": {
  "kernelspec": {
   "display_name": "Python 3",
   "language": "python",
   "name": "python3"
  },
  "language_info": {
   "codemirror_mode": {
    "name": "ipython",
    "version": 3
   },
   "file_extension": ".py",
   "mimetype": "text/x-python",
   "name": "python",
   "nbconvert_exporter": "python",
   "pygments_lexer": "ipython3",
   "version": "3.10.13"
  },
  "orig_nbformat": 4,
  "vscode": {
   "interpreter": {
    "hash": "916dbcbb3f70747c44a77c7bcd40155683ae19c65e1c03b4aa3499c5328201f1"
   }
  }
 },
 "nbformat": 4,
 "nbformat_minor": 2
}
