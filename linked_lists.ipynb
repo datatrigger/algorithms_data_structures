{
 "cells": [
  {
   "attachments": {},
   "cell_type": "markdown",
   "metadata": {},
   "source": [
    "# Linked lists\n",
    "\n",
    "* Utilities to build and print linked lists\n",
    "* Iterative and recursive algorithms to reverse a linked list\n",
    "\n",
    "**It is important to re-instantiate a linked list for every test**: if the list is -> 1 -> 2 ->, after it's been reversed one time the head will still be 1 and additional calls to ```reverse()``` will output -> 1 -> (with in-place methods)."
   ]
  },
  {
   "cell_type": "code",
   "execution_count": 2,
   "metadata": {},
   "outputs": [
    {
     "name": "stdout",
     "output_type": "stream",
     "text": [
      "\n",
      "List:  -> 1 -> 3 -> 7 ->\n",
      "\n",
      "Reversed list (Naïve):  -> 7 -> 3 -> 1 ->\n",
      "Reversed list (Iterative):  -> 7 -> 3 -> 1 ->\n",
      "Reversed list (Recursive):  -> 7 -> 3 -> 1 ->\n",
      "\n"
     ]
    }
   ],
   "source": [
    "class ListNode:\n",
    "    def __init__(self, val = None, next = None):\n",
    "        self.val = val\n",
    "        self.next = next\n",
    "\n",
    "    def __str__(self):\n",
    "        return str(self.val)\n",
    "\n",
    "def build_list(*values):\n",
    "    dummy_head = ListNode()\n",
    "    curr = dummy_head\n",
    "    for val in values:\n",
    "        curr.next = ListNode(val)\n",
    "        curr = curr.next\n",
    "    return dummy_head.next\n",
    "\n",
    "def print_list(head):\n",
    "    dummy_head = ListNode(next=head)\n",
    "    curr, out_str = dummy_head, ''\n",
    "    while curr.next:\n",
    "        out_str += f' -> {curr.next.val}'\n",
    "        curr = curr.next\n",
    "    out_str += ' ->'\n",
    "    return out_str\n",
    "\n",
    "class SolutionNaive:\n",
    "    def reverseList(self, head):\n",
    "        if not head:\n",
    "            return\n",
    "        values = []\n",
    "        curr = head\n",
    "        while curr:\n",
    "            values.append(curr.val)\n",
    "            curr = curr.next\n",
    "        head = ListNode(values[-1])\n",
    "        curr = head\n",
    "        for i in range(len(values)-2, -1, -1):\n",
    "            curr.next = ListNode(values[i])\n",
    "            curr = curr.next\n",
    "        return head        \n",
    "\n",
    "class SolutionIterative:\n",
    "    def reverseList(self, head):\n",
    "        prev, curr = None, head\n",
    "        while curr:\n",
    "            next = curr.next\n",
    "            curr.next = prev\n",
    "            prev = curr\n",
    "            curr = next\n",
    "        return prev\n",
    "\n",
    "\n",
    "class SolutionRecursive:\n",
    "    def reverseList(self, head):\n",
    "        if not head or not head.next: # not head is just for te case input = empty linked list\n",
    "            return head\n",
    "        else:\n",
    "            new_head = self.reverseList(head.next)\n",
    "            head.next.next = head\n",
    "            head.next = None\n",
    "        \n",
    "        return new_head\n",
    "\n",
    "\n",
    "# Test\n",
    "test = [1, 3, 7]\n",
    "print(f'''\n",
    "List: {print_list(build_list(*test))}\n",
    "\n",
    "Reversed list (Naïve): {print_list(SolutionNaive().reverseList(build_list(*test)))}\n",
    "Reversed list (Iterative): {print_list(SolutionIterative().reverseList(build_list(*test)))}\n",
    "Reversed list (Recursive): {print_list(SolutionRecursive().reverseList(build_list(*test)))}\n",
    "''')"
   ]
  },
  {
   "attachments": {},
   "cell_type": "markdown",
   "metadata": {},
   "source": [
    "# Floyd's tortoise and hare\n",
    "\n",
    "A two-pointer algorithm: $S$ is the slow pointer that iterates through the linked list node by node, $F$ is the fast pointer iterating 2 nodes at a time. **If there is no cycle**, then F becomes `None` after a finite number of iterations. **If there is a cycle**:\n",
    "\n",
    "* $F$ and $S$ are guaranteed to meet during the first pass of $S$ through the cycle.  \n",
    "* Moreover, the remaining distance between the meeting point and the entry node of the cycle is $r$ (see below).\n",
    "\n",
    "Let $d_1 \\geq 0$ be the distance between the first node and the entry node of the cycle\n",
    "Let $d_2 \\geq 0$ be the distance between the first node and the node where $F$ and $S$ meet\n",
    "Let $d_3 \\geq 0 := C - d_2$ be the remaining distance between the meeting point and the entry point\n",
    "\n",
    "$r \\equiv d_1 [C] $\n",
    "\n",
    "### 1) $F$ and $S$ are guaranteed to meet in case of a cycle\n",
    "\n",
    "When $S = d_1$, then $F = d_1 + k C + x$, $0 \\leq x \\leq C-1$ and $k \\geq 0$. The remaining distance between $F$ and $S$ is $y:=C-1-x$, $0 \\leq y \\leq C-1$. At each iteration, $S$ moves by one node but $F$ moves by 2 nodes, so the distance from $F$ to $S$ decreases by 1. Since that distance is $y$, the 2 pointers will meet in at most $C-1$ iterations, between $S$ could loop through the cycle.\n",
    "\n",
    "### 2) Remaining distance between the meeting point and the entry point"
   ]
  },
  {
   "cell_type": "markdown",
   "metadata": {},
   "source": []
  }
 ],
 "metadata": {
  "kernelspec": {
   "display_name": "Python 3",
   "language": "python",
   "name": "python3"
  },
  "language_info": {
   "codemirror_mode": {
    "name": "ipython",
    "version": 3
   },
   "file_extension": ".py",
   "mimetype": "text/x-python",
   "name": "python",
   "nbconvert_exporter": "python",
   "pygments_lexer": "ipython3",
   "version": "3.10.6"
  },
  "orig_nbformat": 4,
  "vscode": {
   "interpreter": {
    "hash": "916dbcbb3f70747c44a77c7bcd40155683ae19c65e1c03b4aa3499c5328201f1"
   }
  }
 },
 "nbformat": 4,
 "nbformat_minor": 2
}
