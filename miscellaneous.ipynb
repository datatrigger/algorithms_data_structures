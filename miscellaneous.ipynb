{
 "cells": [
  {
   "attachments": {},
   "cell_type": "markdown",
   "metadata": {},
   "source": [
    "# Combinatorics\n",
    "\n",
    "## Subsets\n",
    "\n",
    "There are $2^n$ subsets in a set of size $n$.  \n",
    "Justification: each of the $n$ elements is included or not in a given subset (2 possibilities).\n",
    "\n",
    "## Partitions\n",
    "\n",
    "## Permutations\n",
    "\n",
    "Permutations take **order** into account.\n",
    "\n",
    "### Permutations of a set, without repetitions\n",
    "\n",
    "$$P(n, k) = n \\cdot (n - 1) \\cdot (n - 2) \\cdot \\cdot \\cdot (n - k + 1) = \\frac{n!}{(n - k)!}$$\n",
    "\n",
    "Special case: $k = n$. There are $n!$ possible permutations of n distinct elements.\n",
    "\n",
    "### Permutations of a set with repetitions\n",
    "\n",
    "Also called **words** over the alphabet S. If S is a set of n (distinct, by definition of a set) elements, then there are $n^k$ permutations of size k with repetitions.\n",
    "\n",
    "### Permutations of a multiset, case k = n\n",
    "\n",
    "E.g. **anagrams**. Here it is important to note that the object at hand is a **multiset** and not a set. Hence with/without repetitions concepts do not apply here since there is a fixed amount of repetitions by definition of a multiset. In this case, start from the definition of a permutation without repetition (case $k = n$ i.e. $P(n, n)$), and account for the permutations of identical elements within this k-permutation:\n",
    "\n",
    "$$\\binom{n}{k_1, k_2, ..., k_m} = \\frac{n!}{k_1! \\cdot k_2! \\cdot \\cdot \\cdot k_m!}$$\n",
    "\n",
    "This happens to be a multinomial coefficient.\n",
    "\n",
    "Example: the word \"mississipi\" has $\\frac{11!}{1! \\, 2! \\, 4! \\, 4!}$ anagrams.\n",
    "\n",
    "Combinatorial interpretation: the multinomial coefficient can also be seen as the number of ways to put $k_1$ objects in bin $1$, $k_2$ objects in bin $2$, ..., $k_m$ objects in bin $m$ with $k_1 + ... + k_m = n$ distinct objects. To connect this interpretation with the anagram one, consider the indices of the word as the n distinct objects. Grant $k_1$ of these spots to the letters repeated $k_1$ times, and so on.\n",
    "\n",
    "See also: [Multinomial theorem](https://en.wikipedia.org/wiki/Multinomial_theorem), which can be interpreted from the combinatorial perspective (bins).\n",
    "\n",
    "\n",
    "## Combinations\n",
    "\n",
    "### No repetitions\n",
    "\n",
    "A k-combination of a set $S$ is a subset of $k$ distinct elements of $S$. There are $\\binom{n}{k} = [n \\cdot (n - 1) \\cdot \\cdot \\cdot (n - k + 1)] \\cdot \\frac{1}{k!}= \\frac{n!}{k! \\cdot (n-k)!}$ k-combinations: choose $k$ elements, then account for the permutations of the $k$ elements.\n",
    "\n",
    "Combinations are another way to compute the total number of subsets:\n",
    "\n",
    "$$ \\sum_{k=0}^{n} \\binom{n}{k} = 2^n $$\n",
    "\n",
    "### Unlimited repetitions\n",
    "\n",
    "In this case, the input is still a set $S$ of $n$ distinct elements, but the k-combination is now the number of all distinct multisets of $k$ elements.\n",
    "\n",
    "### Fixed numbers of repetitions\n",
    "\n",
    "Now the input is a multiset.\n",
    "\n",
    "# TODO\n",
    "- Bell number/Stirling numbers of the second kind and partitions\n",
    "- Catalan numbers\n",
    "\n",
    "$$\\begin{pmatrix}\n",
    "1 & 2 & 3\\\\\n",
    "a & b & c\n",
    "\\end{pmatrix}$$\n",
    "\n",
    "## Computer science\n",
    "\n"
   ]
  },
  {
   "cell_type": "markdown",
   "metadata": {},
   "source": [
    "# Number of digits\n",
    "\n",
    "$\\forall n \\geq 1, 10^{i-1} \\leq n < 10^{i}$ has $i$ digits, so by applying the strictly increasing function $log_{10}$, $i = \\lfloor log_{10}(n) \\rfloor + 1$.\n",
    "\n",
    "Then, $log_{10}(x) = \\frac{ln(x)}{ln(10)} = \\frac{ln(x)}{ln(2)} \\times \\frac{ln(2)}{ln(10)} = \\frac{log_{2}(x)}{log_{2}(10)}$"
   ]
  },
  {
   "cell_type": "code",
   "execution_count": 2,
   "metadata": {},
   "outputs": [
    {
     "data": {
      "text/plain": [
       "'123 has 3 digits.'"
      ]
     },
     "execution_count": 2,
     "metadata": {},
     "output_type": "execute_result"
    }
   ],
   "source": [
    "from math import log\n",
    "n = 123\n",
    "f\"{n} has {int(log(n) / log(10)) + 1} digits.\""
   ]
  },
  {
   "cell_type": "markdown",
   "metadata": {},
   "source": [
    "# Kadane's algorithm\n",
    "\n",
    "Find a non-empty subarray with the largest sum.\n",
    "\n",
    "## Brute force: O(n<sup>2</sup>) time complexity"
   ]
  },
  {
   "cell_type": "code",
   "execution_count": 18,
   "metadata": {},
   "outputs": [],
   "source": [
    "from unittest import TestCase\n",
    "class TestLargestSum(TestCase):\n",
    "    def test(self, algo):\n",
    "        self.assertEqual(algo(-1), -1)\n",
    "        self.assertEqual(algo(1), 1)\n",
    "        self.assertEqual(algo(1, -1, 3), 3)\n",
    "        self.assertEqual(algo(1, -2, 3, 2, -2), 5)\n",
    "\n",
    "\n",
    "def largest_sum_brute(*args: int) -> int:\n",
    "    max_sum = args[0] # float(\"-inf\") useless here, will be overwritten downstream\n",
    "    for i in range(len(args)):\n",
    "        curr_sum = 0\n",
    "        for j in range(i, len(args)):\n",
    "            curr_sum += args[j]\n",
    "            max_sum = max(max_sum, curr_sum)\n",
    "    return max_sum\n",
    "\n",
    "TestLargestSum().test(largest_sum_brute)"
   ]
  },
  {
   "attachments": {},
   "cell_type": "markdown",
   "metadata": {},
   "source": [
    "## Kadane's algorithm: O(n)"
   ]
  },
  {
   "cell_type": "code",
   "execution_count": 19,
   "metadata": {},
   "outputs": [],
   "source": [
    "def largest_sum_kadane(*args: int) -> int:\n",
    "    max_sum = curr = args[0]\n",
    "    for n in args[1:]:\n",
    "        curr = max(curr, 0) + n\n",
    "        max_sum = max(max_sum, curr)\n",
    "    return max_sum\n",
    "\n",
    "TestLargestSum().test(largest_sum_kadane)"
   ]
  },
  {
   "attachments": {},
   "cell_type": "markdown",
   "metadata": {},
   "source": [
    "## Divide and conquer approach"
   ]
  },
  {
   "cell_type": "code",
   "execution_count": 20,
   "metadata": {},
   "outputs": [],
   "source": [
    "def largest_sum_divide(*args: int) -> int:\n",
    "    pass\n",
    "\n",
    "# TestLargestSum().test(largest_sum_divide)"
   ]
  },
  {
   "attachments": {},
   "cell_type": "markdown",
   "metadata": {},
   "source": [
    "## Sliding window\n",
    "\n",
    "Return indices for the subarray with largest sum"
   ]
  },
  {
   "cell_type": "code",
   "execution_count": 22,
   "metadata": {},
   "outputs": [
    {
     "data": {
      "text/plain": [
       "(2, 3)"
      ]
     },
     "execution_count": 22,
     "metadata": {},
     "output_type": "execute_result"
    }
   ],
   "source": [
    "\n",
    "\n",
    "def largest_sum_window(*args: int) -> list[int, int]:\n",
    "    max_sum = curr = args[0]\n",
    "    l = l_max = r_max = 0\n",
    "    for r in range(1, len(args)):\n",
    "        if curr < 0:\n",
    "            l = r\n",
    "            curr = 0\n",
    "        curr += args[r]\n",
    "        if curr > max_sum:\n",
    "            max_sum, l_max, r_max = curr, l, r\n",
    "    return l_max, r_max\n",
    "\n",
    "largest_sum_window(1, -2, 3, 2, -2)"
   ]
  },
  {
   "attachments": {},
   "cell_type": "markdown",
   "metadata": {},
   "source": [
    "# Quick select\n",
    "\n",
    "Returns the kth smallest/largest element in an unsorted array. Time complexity:\n",
    "\n",
    "* Average: $O(n)$. Each step cuts the array in half (hopefully), and we only look at 1 half then. So, around $n + \\frac{n}{2} + \\frac{n}{4} ... = 2n$ operations (to see this, assume $n = 2^k$ and use $1 + 2 + 4 + ... + 2^k = 2^{k+1}$)\n",
    "* Worst-case: $O(n^2)$. If every time, the partitions are unbalanced (n-1 elements + 1 elements), then $n + (n-1) + ... = \\frac{n(n+1)}{2}$ operations are required\n",
    "\n",
    "Another solution is to use a heap which is $O(n + k\\,log (n))$ (heapify + pop k times). If $k << n$, then this solution is better than `array.sort()` + `array[k - 1]`, which would be $O(n \\, log (n))$."
   ]
  },
  {
   "cell_type": "code",
   "execution_count": 115,
   "metadata": {},
   "outputs": [],
   "source": [
    "# Constant space\n",
    "def kth_largest(array: list[int], k: int) -> int:\n",
    "    k = len(array) - k # kth largest is at this index or less (in the sorted array)\n",
    "\n",
    "    def quick_select(start: int, end: int) -> int:\n",
    "        left, pivot = start, array[end]\n",
    "        for right in range(start, end):\n",
    "            if array[right] < pivot:\n",
    "                array[left], array[right] = array[right], array[left]\n",
    "                left += 1\n",
    "        array[left], array[end] = array[end], array[left]\n",
    "\n",
    "        if k < left: return quick_select(start, left - 1)\n",
    "        elif k > left: return quick_select(left + 1, end)\n",
    "        else: return array[left] # Base case\n",
    "    \n",
    "    return quick_select(0, len(array) - 1)\n",
    "\n",
    "# O(n) space complexity\n",
    "from random import choice\n",
    "def kth_largest_2(array: list[int], k: int) -> int:\n",
    "    if len(array) == 1:\n",
    "        return array[0]\n",
    "    \n",
    "    pivot = choice(array)\n",
    "    left = [n for n in array if n < pivot]\n",
    "    center = [n for n in array if n == pivot]\n",
    "    right = [n for n in array if n > pivot]\n",
    "\n",
    "    if len(right) >= k:\n",
    "        return kth_largest_2(right, k)\n",
    "    elif  len(right) + len(center) >= k > len(right):\n",
    "        return pivot\n",
    "    else:\n",
    "        return kth_largest_2(left, k - len(center) - len(right))"
   ]
  }
 ],
 "metadata": {
  "kernelspec": {
   "display_name": "Python 3",
   "language": "python",
   "name": "python3"
  },
  "language_info": {
   "codemirror_mode": {
    "name": "ipython",
    "version": 3
   },
   "file_extension": ".py",
   "mimetype": "text/x-python",
   "name": "python",
   "nbconvert_exporter": "python",
   "pygments_lexer": "ipython3",
   "version": "3.10.12"
  },
  "orig_nbformat": 4
 },
 "nbformat": 4,
 "nbformat_minor": 2
}
