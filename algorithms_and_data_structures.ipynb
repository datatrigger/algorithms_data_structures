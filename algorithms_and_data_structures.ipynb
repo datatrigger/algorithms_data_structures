{
 "cells": [
  {
   "cell_type": "markdown",
   "metadata": {},
   "source": [
    "# Algorithms and Data Structures in Python\n",
    "\n",
    "## 1. Python Primer\n",
    "\n",
    "### Miscellaneous notes:\n",
    "\n",
    "* The keys of ```dict``` are ordered since Python 3.6\n",
    "* > The ```and``` and ```or``` operators *short-circuit*, in that they do not evaluate the second\n",
    "operand if the result can be determined based on the value of the ﬁrst operand\n",
    "* ```a is b``` checks if identifiers ```a``` and ```b``` are aliases of the *same* object, whereas ```a == b``` checks of the objects identified by both identifies are deemed to be equivalent\n",
    "* Operators can be used with sets: ```<```/```<=```, ```|```, ```&```, ```^``` and ```-```\n",
    "* ```list += [4, 5]``` extends ```list``` whereas ```list = list + [4, 5]``` reassign ```list``` to a new list\n",
    "\n",
    "### Generators\n",
    "\n",
    "An interesting example with multiple ```yield``` statements:"
   ]
  },
  {
   "cell_type": "code",
   "execution_count": 1,
   "metadata": {},
   "outputs": [
    {
     "data": {
      "text/plain": [
       "[1, 100, 2, 50, 4, 25, 5, 20, 10]"
      ]
     },
     "execution_count": 1,
     "metadata": {},
     "output_type": "execute_result"
    }
   ],
   "source": [
    "def factors(n):\n",
    "    k=1\n",
    "    while k * k < n:\n",
    "        if n % k ==0:\n",
    "            yield k\n",
    "            yield n//k\n",
    "        k += 1\n",
    "    if k * k == n:\n",
    "        yield k\n",
    "\n",
    "list(factors(100))"
   ]
  },
  {
   "cell_type": "markdown",
   "metadata": {},
   "source": [
    "### Comprenhension\n",
    "\n",
    "Not for lists only!"
   ]
  },
  {
   "cell_type": "code",
   "execution_count": 1,
   "metadata": {},
   "outputs": [],
   "source": [
    "# Generators for squares up to integer n:\n",
    "\n",
    "n = 100\n",
    "\n",
    "lc = [k*k for k in range(1, n+1)] # List comprehension\n",
    "sc = {k*k for k in range(1, n+1)} # Set comprehension\n",
    "gc = (k*k for k in range(1, n+1)) # Generator comprehension\n",
    "dc = {k: k*k for k in range(1, n+1)}  # Dictionary comprehension"
   ]
  },
  {
   "cell_type": "markdown",
   "metadata": {},
   "source": [
    "# 2. OOP\n",
    "\n",
    "General principles:\n",
    "* Modularity (decomposition in separate functional units)\n",
    "* Abstraction, e.g. Abstract Data Types (ADT) which specifies **what** operations do, not **how**\n",
    "* Encapsulation\n",
    "\n",
    "*Getters*/*Setters* are not really considered to pythonic.\n",
    "\n",
    "## Testing:\n",
    "\n",
    "* *Stubbing*: in a top-down approach, replace the output of a function B called inside function A by a fixed value.\n",
    "* Unit testing is actually a bottom-up strategy\n",
    "\n",
    "## Miscellaneous\n",
    "\n",
    "```__slots__```: see [here](https://stackoverflow.com/questions/472000/usage-of-slots)\n",
    "\n",
    "# 3. Complexity\n",
    "\n",
    "## Prefix averages"
   ]
  },
  {
   "cell_type": "code",
   "execution_count": 10,
   "metadata": {},
   "outputs": [],
   "source": [
    "# Quadratic complexity\n",
    "\n",
    "def prefix_average_1_0(S):\n",
    "    averages = []\n",
    "    for j in range(len(S)):\n",
    "        total = 0\n",
    "        for i in range(j+1):\n",
    "            total += S[i]\n",
    "        averages.append(total/(j+1))\n",
    "    return averages\n",
    "\n",
    "def prefix_average_1_1(S):\n",
    "    averages = []\n",
    "    for j in range(len(S)):\n",
    "        averages.append(sum(S[:j+1])/(j+1))\n",
    "    return averages\n",
    "\n",
    "def prefix_average_2(S):\n",
    "    averages = []\n",
    "    sum = 0\n",
    "    for j in range(len(S)):\n",
    "        sum = sum + S[j]\n",
    "        averages.append(sum/(j+1))\n",
    "    return averages\n",
    "\n",
    "prefix_average_1_0([1, 1, 2]), prefix_average_1_1([1, 1, 2]), prefix_average_2([1, 1, 2]), "
   ]
  },
  {
   "cell_type": "code",
   "execution_count": 18,
   "metadata": {},
   "outputs": [
    {
     "data": {
      "text/plain": [
       "(False, False)"
      ]
     },
     "execution_count": 18,
     "metadata": {},
     "output_type": "execute_result"
    }
   ],
   "source": [
    "def disjoint_1(A,B, C):\n",
    "    for a in A:\n",
    "        for b in B:\n",
    "            for c in C:\n",
    "                if a == b == c:\n",
    "                    return False\n",
    "    return True\n",
    "\n",
    "def disjoint_2(A,B, C):\n",
    "    for a in A:\n",
    "        for b in B:\n",
    "            if a == b:\n",
    "                for c in C:\n",
    "                    if a == c:\n",
    "                        return False\n",
    "    return True\n",
    "\n",
    "disjoint_1((1,2,3), (4,1,6), (1,8,9)), disjoint_2((1,2,3), (4,1,6), (1,8,9))"
   ]
  },
  {
   "cell_type": "markdown",
   "metadata": {},
   "source": [
    "# 4. Recursion"
   ]
  },
  {
   "cell_type": "code",
   "execution_count": 7,
   "metadata": {},
   "outputs": [],
   "source": [
    "# Binary search\n",
    "\n",
    "def sequential_search(data, target):\n",
    "    i = 0\n",
    "    while i < len(data):\n",
    "        if data[i] == target:\n",
    "            return i\n",
    "        i += 1\n",
    "    return -1\n",
    "\n",
    "def binary_search(data, target, low, high):\n",
    "    if low > high:\n",
    "        return -1\n",
    "    else:\n",
    "        mid = (low + high) // 2\n",
    "        if data[mid] == target:\n",
    "            return mid\n",
    "        else:\n",
    "            pass"
   ]
  },
  {
   "cell_type": "code",
   "execution_count": 13,
   "metadata": {},
   "outputs": [
    {
     "data": {
      "text/plain": [
       "2"
      ]
     },
     "execution_count": 13,
     "metadata": {},
     "output_type": "execute_result"
    }
   ],
   "source": [
    "sequential_search([1, 2, 3, 4], 3)"
   ]
  },
  {
   "cell_type": "markdown",
   "metadata": {},
   "source": [
    "# Google foo.bar\n",
    "\n",
    "## 2\n",
    "\n",
    "### 2.1"
   ]
  },
  {
   "cell_type": "code",
   "execution_count": 49,
   "metadata": {},
   "outputs": [],
   "source": [
    "def solution(x, y):\n",
    "    '''\n",
    "    General idea:\n",
    "    If x+y=n+1, then point (x,y)) is on the nth diagonal (! Edge case: there is no 0th diagonal !).\n",
    "    The first ID of this nth diagonal is [1+2+...+(n-1)], then + 1 if x=1, or + 2 if x=2 and so on.\n",
    "    So, actual ID of point (x,y) is 1+...+(n-1)+x\n",
    "    Plugging in x+y=n+1, ID = 1 + ... + (x+y-2) + x\n",
    "    \n",
    "    Edge case:\n",
    "    (x,y)=(1,1)\n",
    "    '''\n",
    "    if x+y==2:\n",
    "        return '1'\n",
    "    elif x > 1e5:\n",
    "        raise ValueError('x value is too large')\n",
    "    elif y > 1e5: \n",
    "        raise ValueError('y value is too large')\n",
    "    else:\n",
    "        return str(int(x+(x+y-2)*(x+y-1)/2))\n",
    "\n",
    "solution(5, 10)"
   ]
  },
  {
   "cell_type": "markdown",
   "metadata": {},
   "source": [
    "### 2.2"
   ]
  },
  {
   "cell_type": "code",
   "execution_count": 59,
   "metadata": {},
   "outputs": [],
   "source": [
    "def solution(n, b):\n",
    "    def convert_to_base(int_in, k):\n",
    "        '''\n",
    "        Assume `int_in` can be written on `k` digits or less,\n",
    "        i.e `int_in` is strictly less than b^`k`.\n",
    "        Then start by splitting `int_in` in parcels of b^(`k`-1).\n",
    "        Count how many parcels you have: that is the first digit.\n",
    "        Compute the rest, then iterate with lower values of `k`, down until `k` is 0.\n",
    "        '''\n",
    "        int_out = ''\n",
    "        rest = int_in\n",
    "        for i in range(k-1, -1, -1):\n",
    "            quotient = rest // b**i # since this is 0 if rest < b**i, this conveniently adds leading zeros too\n",
    "            int_out = int_out + str(quotient)\n",
    "            rest = rest - quotient * b**i\n",
    "        return int_out\n",
    "        \n",
    "    def get_next_id(n):\n",
    "        '''The process described in 4 steps'''\n",
    "        digits = sorted(n)\n",
    "        y = int(''.join(digits), base = b)\n",
    "        digits.reverse() # reverses in-place and avoids sorting again\n",
    "        x = int(''.join(digits), base = b)\n",
    "        z = convert_to_base(x - y, len(n))\n",
    "        return z\n",
    "    \n",
    "    # Find out the length of the cycle\n",
    "    trajectory = [n]\n",
    "    while True: # Maths guarantee there'll be a loop... Right?\n",
    "        new_id = get_next_id(trajectory[-1])\n",
    "        if new_id in trajectory:\n",
    "            return len(trajectory) - trajectory.index(new_id)\n",
    "        else:\n",
    "            trajectory.append(new_id)\n",
    "\n",
    "solution('1211', 10)"
   ]
  }
 ],
 "metadata": {
  "kernelspec": {
   "display_name": "Python 3.10.6 64-bit",
   "language": "python",
   "name": "python3"
  },
  "language_info": {
   "codemirror_mode": {
    "name": "ipython",
    "version": 3
   },
   "file_extension": ".py",
   "mimetype": "text/x-python",
   "name": "python",
   "nbconvert_exporter": "python",
   "pygments_lexer": "ipython3",
   "version": "3.10.6"
  },
  "orig_nbformat": 4,
  "vscode": {
   "interpreter": {
    "hash": "916dbcbb3f70747c44a77c7bcd40155683ae19c65e1c03b4aa3499c5328201f1"
   }
  }
 },
 "nbformat": 4,
 "nbformat_minor": 2
}
